{
 "cells": [
  {
   "cell_type": "code",
   "execution_count": 3,
   "metadata": {
    "collapsed": false
   },
   "outputs": [
    {
     "ename": "NameError",
     "evalue": "name 'StreamListener' is not defined",
     "output_type": "error",
     "traceback": [
      "\u001b[0;31m---------------------------------------------------------------------------\u001b[0m",
      "\u001b[0;31mNameError\u001b[0m                                 Traceback (most recent call last)",
      "\u001b[0;32m<ipython-input-3-651cf88ac7f3>\u001b[0m in \u001b[0;36m<module>\u001b[0;34m()\u001b[0m\n\u001b[0;32m----> 1\u001b[0;31m \u001b[1;32mclass\u001b[0m \u001b[0mlistener\u001b[0m\u001b[1;33m(\u001b[0m\u001b[0mStreamListener\u001b[0m\u001b[1;33m)\u001b[0m\u001b[1;33m:\u001b[0m\u001b[1;33m\u001b[0m\u001b[0m\n\u001b[0m\u001b[1;32m      2\u001b[0m     \u001b[0mcount\u001b[0m \u001b[1;33m=\u001b[0m \u001b[1;36m0\u001b[0m\u001b[1;33m\u001b[0m\u001b[0m\n\u001b[1;32m      3\u001b[0m     \u001b[0mdf\u001b[0m \u001b[1;33m=\u001b[0m \u001b[0mpd\u001b[0m\u001b[1;33m.\u001b[0m\u001b[0mDataFrame\u001b[0m\u001b[1;33m(\u001b[0m\u001b[1;33m)\u001b[0m\u001b[1;33m\u001b[0m\u001b[0m\n\u001b[1;32m      4\u001b[0m \u001b[1;33m\u001b[0m\u001b[0m\n\u001b[1;32m      5\u001b[0m     \u001b[1;32mdef\u001b[0m \u001b[0m__init__\u001b[0m\u001b[1;33m(\u001b[0m\u001b[0mself\u001b[0m\u001b[1;33m,\u001b[0m \u001b[0mfileName\u001b[0m\u001b[1;33m=\u001b[0m\u001b[1;34m\"mcu.csv\"\u001b[0m\u001b[1;33m)\u001b[0m\u001b[1;33m:\u001b[0m\u001b[1;33m\u001b[0m\u001b[0m\n",
      "\u001b[0;31mNameError\u001b[0m: name 'StreamListener' is not defined"
     ]
    }
   ],
   "source": [
    "class listener(StreamListener):\n",
    "    count = 0\n",
    "    df = pd.DataFrame()\n",
    "    \n",
    "    def __init__(self, fileName=\"mcu.csv\"):\n",
    "        self.fileName=fileName\n",
    "    \n",
    "    def on_data(self, data):\n",
    "        temp_df = pd.DataFrame()\n",
    "        try:\n",
    "            tweet = json.loads(data)                                    # Json object loaded\n",
    "            text = tweet[\"text\"]                                        # parsing text\n",
    "            favorite_count = tweet[\"favorite_count\"]                    # parsing favourite_count\n",
    "            favorited = tweet[\"favorited\"]                              # parsing favourite_count\n",
    "            retweet_count = tweet[\"retweet_count\"]                      # parsing retweet_count\n",
    "            lang = tweet[\"lang\"]                                        # Pparsing tweet language/locale\n",
    "            retweeted = tweet[\"retweeted\"]                              # parsing retweeted attribute\n",
    "            time_zone = tweet[\"user\"][\"time_zone\"]                      # parsing user's timezone\n",
    "            location = tweet[\"user\"][\"location\"]                        # parsing user's location\n",
    "            u_lang = tweet[\"user\"][\"lang\"]                              # parsing user's locale/language\n",
    "            hashtags = None\n",
    "            if(len(tweet[\"entities\"][\"hashtags\"]) != 0):                # block used to find hashtags of the tweets\n",
    "                if( tweet[\"entities\"][\"hashtags\"][0][\"text\"] != \"\") :\n",
    "                    hashtags = tweet[\"entities\"][\"hashtags\"][0][\"text\"]\n",
    "            \n",
    "            temp_df[\"favorite_count\"] = pd.Series(favorite_count)   # saving all fetched attributes into Dataframe\n",
    "            temp_df[\"favorited\"] = pd.Series(favorited)\n",
    "            temp_df[\"retweet_count\"] = pd.Series(retweet_count)\n",
    "            temp_df[\"lang\"] = pd.Series(lang)\n",
    "            temp_df[\"u_lang\"] = pd.Series(u_lang)\n",
    "            temp_df[\"retweeted\"] = pd.Series(retweeted)\n",
    "            temp_df[\"time_zone\"] = pd.Series(time_zone)\n",
    "            temp_df[\"location\"] = pd.Series(location)\n",
    "            temp_df[\"hashtags\"] = pd.Series(hashtags)\n",
    "            temp_df[\"text\"] = pd.Series(text)\n",
    "            \n",
    "            self.df = pd.concat([self.df, temp_df], ignore_index =True, axis = 0)        \n",
    "\n",
    "            self.count += 1                                         # increment the counter\n",
    "            if self.count >= 2:\n",
    "                self.df.to_csv(self.fileName, index=False)          # saving the dataframe into csv file\n",
    "                return False\n",
    "        except BaseException as e:                                  # exception handling in processing of tweet object\n",
    "            print(\"Something went wrong\", e)\n",
    "                \n",
    "    def on_error(self, status):\n",
    "        print(\"something is not right :->\", status)                # exception handling in API access\n",
    "\n",
    "#twitterStream = Stream(auth, listener(fileName=\"mcu.csv\"))         # creating a stream object\n",
    "#twitterStream.filter(track=[\"MCU\"])                                # filtering MCU tweets\n",
    "#twitterStream = Stream(auth, listener(fileName=\"dceu.csv\"))        # creating a stream object\n",
    "#twitterStream.filter(track=[\"DCEU\"])                               # filtering dceu tweets\n"
   ]
  },
  {
   "cell_type": "markdown",
   "metadata": {},
   "source": [
    "As we can see the both the dataframes have hashtags values null. As very few tweets were assigned the hashtags and we are using small set of tweets so I am only considering the number tweets which has hashtags."
   ]
  },
  {
   "cell_type": "code",
   "execution_count": 2,
   "metadata": {
    "collapsed": false
   },
   "outputs": [
    {
     "ename": "NameError",
     "evalue": "name 'mcu_df' is not defined",
     "output_type": "error",
     "traceback": [
      "\u001b[0;31m---------------------------------------------------------------------------\u001b[0m",
      "\u001b[0;31mNameError\u001b[0m                                 Traceback (most recent call last)",
      "\u001b[0;32m<ipython-input-2-920946b51118>\u001b[0m in \u001b[0;36m<module>\u001b[0;34m()\u001b[0m\n\u001b[0;32m----> 1\u001b[0;31m \u001b[0mmcu_hashtag\u001b[0m \u001b[1;33m=\u001b[0m \u001b[0mlen\u001b[0m\u001b[1;33m(\u001b[0m\u001b[0mmcu_df\u001b[0m\u001b[1;33m.\u001b[0m\u001b[0mloc\u001b[0m\u001b[1;33m[\u001b[0m\u001b[0mmcu_df\u001b[0m\u001b[1;33m[\u001b[0m\u001b[1;34m\"hashtags\"\u001b[0m\u001b[1;33m]\u001b[0m\u001b[1;33m.\u001b[0m\u001b[0misnull\u001b[0m\u001b[1;33m(\u001b[0m\u001b[1;33m)\u001b[0m\u001b[1;33m.\u001b[0m\u001b[0mvalues\u001b[0m \u001b[1;33m==\u001b[0m \u001b[1;32mFalse\u001b[0m\u001b[1;33m,\u001b[0m \u001b[1;34m\"hashtags\"\u001b[0m\u001b[1;33m]\u001b[0m\u001b[1;33m)\u001b[0m\u001b[1;33m\u001b[0m\u001b[0m\n\u001b[0m\u001b[1;32m      2\u001b[0m \u001b[0mprint\u001b[0m\u001b[1;33m(\u001b[0m\u001b[0mmcu_hashtag\u001b[0m\u001b[1;33m)\u001b[0m\u001b[1;33m\u001b[0m\u001b[0m\n\u001b[1;32m      3\u001b[0m \u001b[0mdceu_hashtag\u001b[0m \u001b[1;33m=\u001b[0m \u001b[0mlen\u001b[0m\u001b[1;33m(\u001b[0m\u001b[0mdceu_df\u001b[0m\u001b[1;33m.\u001b[0m\u001b[0mloc\u001b[0m\u001b[1;33m[\u001b[0m\u001b[0mdceu_df\u001b[0m\u001b[1;33m[\u001b[0m\u001b[1;34m\"hashtags\"\u001b[0m\u001b[1;33m]\u001b[0m\u001b[1;33m.\u001b[0m\u001b[0misnull\u001b[0m\u001b[1;33m(\u001b[0m\u001b[1;33m)\u001b[0m\u001b[1;33m.\u001b[0m\u001b[0mvalues\u001b[0m \u001b[1;33m==\u001b[0m \u001b[1;32mFalse\u001b[0m\u001b[1;33m,\u001b[0m \u001b[1;34m\"hashtags\"\u001b[0m\u001b[1;33m]\u001b[0m\u001b[1;33m)\u001b[0m\u001b[1;33m\u001b[0m\u001b[0m\n\u001b[1;32m      4\u001b[0m \u001b[0mprint\u001b[0m\u001b[1;33m(\u001b[0m\u001b[0mdceu_hashtag\u001b[0m\u001b[1;33m)\u001b[0m\u001b[1;33m\u001b[0m\u001b[0m\n",
      "\u001b[0;31mNameError\u001b[0m: name 'mcu_df' is not defined"
     ]
    }
   ],
   "source": [
    "mcu_hashtag = len(mcu_df.loc[mcu_df[\"hashtags\"].isnull().values == False, \"hashtags\"])\n",
    "print(mcu_hashtag)\n",
    "dceu_hashtag = len(dceu_df.loc[dceu_df[\"hashtags\"].isnull().values == False, \"hashtags\"])\n",
    "print(dceu_hashtag)\n"
   ]
  },
  {
   "cell_type": "code",
   "execution_count": 4,
   "metadata": {
    "collapsed": true
   },
   "outputs": [],
   "source": [
    "def data_viz(df):\n",
    "    # Plot histograms for numeric columns\n",
    "    for idx, col in enumerate(df.select_dtypes(include=[np.number]).keys()):\n",
    "        df[col].plot.hist(title = col)\n",
    "        plt.show()\n",
    "\n",
    "    # Plot bar plots  for categorical/boolean columns        \n",
    "    for idx, col in enumerate(df.select_dtypes(include=[np.object, np.bool]).keys()):\n",
    "        # Only draw bar plots for variables with less than 30 levels\n",
    "        if len(df[col].unique()) < 30:\n",
    "            df[col].value_counts().plot.bar(title = col)\n",
    "            plt.show()\n",
    "\n",
    "def data_viz_target(df, target_feat):\n",
    "    num_target_levels = len(df[target_feat].unique())\n",
    "    for c in list(df.select_dtypes(include=[np.number]).keys()):\n",
    "        print(c)\n",
    "        df.hist(column = c, by=target_feat, figsize=(10, 4), sharey=True, sharex=True, layout = (1, num_target_levels), normed = True, bins = 20)\n",
    "        plt.show()"
   ]
  },
  {
   "cell_type": "code",
   "execution_count": 5,
   "metadata": {
    "collapsed": false
   },
   "outputs": [
    {
     "ename": "NameError",
     "evalue": "name 'mcu_df' is not defined",
     "output_type": "error",
     "traceback": [
      "\u001b[0;31m---------------------------------------------------------------------------\u001b[0m",
      "\u001b[0;31mNameError\u001b[0m                                 Traceback (most recent call last)",
      "\u001b[0;32m<ipython-input-5-da7df77a6710>\u001b[0m in \u001b[0;36m<module>\u001b[0;34m()\u001b[0m\n\u001b[0;32m----> 1\u001b[0;31m \u001b[0mcounts\u001b[0m \u001b[1;33m=\u001b[0m \u001b[0mmcu_df\u001b[0m\u001b[1;33m[\u001b[0m\u001b[1;34m\"pole\"\u001b[0m\u001b[1;33m]\u001b[0m\u001b[1;33m.\u001b[0m\u001b[0mvalue_counts\u001b[0m\u001b[1;33m(\u001b[0m\u001b[1;33m)\u001b[0m\u001b[1;33m\u001b[0m\u001b[0m\n\u001b[0m\u001b[1;32m      2\u001b[0m \u001b[0mcounts\u001b[0m \u001b[1;33m=\u001b[0m \u001b[0mcounts\u001b[0m\u001b[1;33m.\u001b[0m\u001b[0msort_index\u001b[0m\u001b[1;33m(\u001b[0m\u001b[1;33m)\u001b[0m\u001b[1;33m\u001b[0m\u001b[0m\n\u001b[1;32m      3\u001b[0m \u001b[0mlabels\u001b[0m \u001b[1;33m=\u001b[0m \u001b[0mcounts\u001b[0m\u001b[1;33m.\u001b[0m\u001b[0mindex\u001b[0m\u001b[1;33m\u001b[0m\u001b[0m\n\u001b[1;32m      4\u001b[0m \u001b[0msizes\u001b[0m \u001b[1;33m=\u001b[0m \u001b[0mcounts\u001b[0m\u001b[1;33m.\u001b[0m\u001b[0mvalues\u001b[0m\u001b[1;33m\u001b[0m\u001b[0m\n\u001b[1;32m      5\u001b[0m \u001b[1;31m# only \"explode\" the 2nd slice (i.e. 'Hogs')\u001b[0m\u001b[1;33m\u001b[0m\u001b[1;33m\u001b[0m\u001b[0m\n",
      "\u001b[0;31mNameError\u001b[0m: name 'mcu_df' is not defined"
     ]
    }
   ],
   "source": [
    "counts = mcu_df[\"pole\"].value_counts()\n",
    "counts = counts.sort_index()\n",
    "labels = counts.index\n",
    "sizes = counts.values\n",
    "# only \"explode\" the 2nd slice (i.e. 'Hogs')\n",
    "explode = (0, 0, 0.05)  \n",
    "fig1, ax1 = plt.subplots()\n",
    "ax1.pie(sizes, explode=explode, labels=labels, autopct='%1.1f%%',\n",
    "        shadow=True, startangle=90 )\n",
    "# Equal aspect ratio ensures that pie is drawn as a circle\n",
    "ax1.axis('equal')  \n",
    "plt.tight_layout()\n",
    "plt.title(\"MCU tweets Sentiments\")\n",
    "plt.show()"
   ]
  },
  {
   "cell_type": "code",
   "execution_count": 6,
   "metadata": {
    "collapsed": false
   },
   "outputs": [
    {
     "ename": "NameError",
     "evalue": "name 'dceu_df' is not defined",
     "output_type": "error",
     "traceback": [
      "\u001b[0;31m---------------------------------------------------------------------------\u001b[0m",
      "\u001b[0;31mNameError\u001b[0m                                 Traceback (most recent call last)",
      "\u001b[0;32m<ipython-input-6-5220abfb47e0>\u001b[0m in \u001b[0;36m<module>\u001b[0;34m()\u001b[0m\n\u001b[1;32m      1\u001b[0m \u001b[1;31m# Pie chart\u001b[0m\u001b[1;33m\u001b[0m\u001b[1;33m\u001b[0m\u001b[0m\n\u001b[0;32m----> 2\u001b[0;31m \u001b[0mcounts\u001b[0m \u001b[1;33m=\u001b[0m \u001b[0mdceu_df\u001b[0m\u001b[1;33m[\u001b[0m\u001b[1;34m\"pole\"\u001b[0m\u001b[1;33m]\u001b[0m\u001b[1;33m.\u001b[0m\u001b[0mvalue_counts\u001b[0m\u001b[1;33m(\u001b[0m\u001b[1;33m)\u001b[0m\u001b[1;33m\u001b[0m\u001b[0m\n\u001b[0m\u001b[1;32m      3\u001b[0m \u001b[0mcounts\u001b[0m \u001b[1;33m=\u001b[0m \u001b[0mcounts\u001b[0m\u001b[1;33m.\u001b[0m\u001b[0msort_index\u001b[0m\u001b[1;33m(\u001b[0m\u001b[1;33m)\u001b[0m\u001b[1;33m\u001b[0m\u001b[0m\n\u001b[1;32m      4\u001b[0m \u001b[0mlabels\u001b[0m \u001b[1;33m=\u001b[0m \u001b[0mcounts\u001b[0m\u001b[1;33m.\u001b[0m\u001b[0mindex\u001b[0m\u001b[1;33m\u001b[0m\u001b[0m\n\u001b[1;32m      5\u001b[0m \u001b[0msizes\u001b[0m \u001b[1;33m=\u001b[0m \u001b[0mcounts\u001b[0m\u001b[1;33m.\u001b[0m\u001b[0mvalues\u001b[0m\u001b[1;33m\u001b[0m\u001b[0m\n",
      "\u001b[0;31mNameError\u001b[0m: name 'dceu_df' is not defined"
     ]
    }
   ],
   "source": [
    "# Pie chart\n",
    "counts = dceu_df[\"pole\"].value_counts()\n",
    "counts = counts.sort_index()\n",
    "labels = counts.index\n",
    "sizes = counts.values\n",
    "# only \"explode\" the 2nd slice (i.e. 'Hogs')\n",
    "explode = (0, 0, 0.08)  \n",
    "fig1, ax1 = plt.subplots()\n",
    "ax1.pie(sizes, explode=explode, labels=labels, autopct='%1.1f%%',\n",
    "        shadow=True, startangle=90)\n",
    "# Equal aspect ratio ensures that pie is drawn as a circle\n",
    "ax1.axis('equal')  \n",
    "plt.tight_layout()\n",
    "plt.title(\"DCEU tweets Sentiments\")\n",
    "plt.show()"
   ]
  },
  {
   "cell_type": "code",
   "execution_count": null,
   "metadata": {
    "collapsed": true
   },
   "outputs": [],
   "source": [
    "mcu_df[\"count\"] = 1\n",
    "temp_df = mcu_df.groupby([\"language\", \"pole\"]).count()\n",
    "a = list(set(list(temp_df.index.get_level_values(0))))\n",
    "x_ticks = []\n",
    "pos_list = []\n",
    "neg_list = []\n",
    "neu_list = []\n",
    "\n",
    "for l in a:\n",
    "    x_ticks.append(l)\n",
    "    try :\n",
    "        temp = temp_df.loc[l].loc[\"Positive\"][\"count\"]\n",
    "        pos_list.append(temp)\n",
    "    except:\n",
    "        pos_list.append(0)\n",
    "        \n",
    "    try :\n",
    "        temp = temp_df.loc[l].loc[\"Negative\"][\"count\"]\n",
    "        neg_list.append(temp)\n",
    "    except:\n",
    "        neg_list.append(0)\n",
    "        \n",
    "    try :\n",
    "        temp = temp_df.loc[l].loc[\"Neutral\"][\"count\"]\n",
    "        neu_list.append(temp)\n",
    "    except:\n",
    "        neu_list.append(0)\n",
    "        \n",
    "temp_df1 = pd.DataFrame()\n",
    "temp_df1[\"Positive\"] = pos_list\n",
    "temp_df1[\"Negative\"] = neg_list\n",
    "temp_df1[\"Neutral\"] = neu_list\n",
    "temp_df1.index = x_ticks\n",
    "temp_df1.head()\n",
    "p = temp_df1.plot.bar(stacked=True, title=\"Sentiment count language wise\")"
   ]
  },
  {
   "cell_type": "code",
   "execution_count": null,
   "metadata": {
    "collapsed": true
   },
   "outputs": [],
   "source": [
    "#display(mcu_df[mcu_df.isnull().any(axis=1)])\n",
    "mcu_df = mcu_df[['retweet_count', \"lang\"]]               # filtering only useful columns\n",
    "mcu_retweet_count = mcu_df.loc[mcu_df[\"retweet_count\"] != 0, 'retweet_count'].sum()     # total retweets by Marvel fan's\n",
    "dceu_retweet_count = dceu_df.loc[dceu_df[\"retweet_count\"] != 0, 'retweet_count'].sum()  # total retweets by DC fan's\n",
    "\n",
    "mcu_df[\"retweet_count\"] = mcu_df[\"retweet_count\"].astype(\"float64\")\n",
    "mcu_df[\"lang\"] = mcu_df[\"lang\"].apply(str)\n",
    "mcu_df[\"u_lang\"] = mcu_df[\"u_lang\"].apply(str)\n",
    "mcu_df[\"text\"] = mcu_df[\"text\"].apply(str)\n",
    "mcu_df[\"favorite_count\"] = mcu_df[\"favorite_count\"].astype(\"float64\")\n"
   ]
  },
  {
   "cell_type": "code",
   "execution_count": null,
   "metadata": {
    "collapsed": true
   },
   "outputs": [],
   "source": [
    "counts = mcu_df[\"language\"].value_counts()\n",
    "p = counts.plot(kind=\"bar\" , title=\"#tweets per language for MCU\")\n",
    "p.set_xlabel(\"Tweet languages\")\n",
    "p.set_ylabel(\"Count\")\n",
    "plt.show()\n",
    "fig = p.get_figure()\n",
    "fig.savefig(\"mcu_language_bar.png\")\n",
    "\n",
    "counts = dceu_df[\"language\"].value_counts()\n",
    "p = counts.plot(kind=\"bar\" , title=\"Number of tweets per language for DCEU\")\n",
    "p.set_xlabel(\"Tweet languages\")\n",
    "p.set_ylabel(\"Count\")\n",
    "plt.show()\n",
    "fig = p.get_figure()\n",
    "fig.savefig(\"dceu_language_bar.png\")\n"
   ]
  },
  {
   "cell_type": "code",
   "execution_count": null,
   "metadata": {
    "collapsed": true
   },
   "outputs": [],
   "source": [
    "counts = mcu_df.loc[mcu_df['language'] != \"English\"][\"language\"].value_counts()\n",
    "p = counts.plot(kind=\"bar\" , title=\"#tweets per non-english language for MCU\")\n",
    "p.set_xlabel(\"Tweet languages\")\n",
    "p.set_ylabel(\"Count\")\n",
    "plt.show()\n",
    "fig = p.get_figure()\n",
    "fig.savefig(\"mcu_language_bar.png\")\n",
    "\n",
    "counts = dceu_df.loc[dceu_df['language'] != \"English\"][\"language\"].value_counts()\n",
    "p = counts.plot(kind=\"bar\" , title=\"#tweets per non-english language for DCEU\")\n",
    "p.set_xlabel(\"Tweet languages\")\n",
    "p.set_ylabel(\"Count\")\n",
    "plt.show()\n",
    "fig = p.get_figure()\n",
    "fig.savefig(\"dceu_language_bar.png\")\n"
   ]
  },
  {
   "cell_type": "code",
   "execution_count": null,
   "metadata": {
    "collapsed": true
   },
   "outputs": [],
   "source": [
    "fig = plt.figure(figsize=(15,8))\n",
    "ax1 = fig.add_subplot(221)\n",
    "ax1.set_xlabel('City')\n",
    "ax1.set_ylabel('Average Members in each city')\n",
    "ax1.set_title(\"Average Members vs Cities\")\n",
    "avg_members_city.plot(kind='bar',color='Orange')\n",
    "\n",
    "ax2 = fig.add_subplot(222)\n",
    "ax2.set_xlabel('City')\n",
    "ax2.set_ylabel('Average Members in each Category ')\n",
    "ax2.set_title(\"Average Members Vs Categories\")\n",
    "avg_members_cat.plot(kind='bar',color='Orange')"
   ]
  },
  {
   "cell_type": "code",
   "execution_count": null,
   "metadata": {
    "collapsed": true
   },
   "outputs": [],
   "source": [
    "a.plot.bar(stacked=True, title=\"Marvel : Language wise Sentiment count\" , color=[\"red\", \"blue\", \"green\"])"
   ]
  },
  {
   "cell_type": "code",
   "execution_count": null,
   "metadata": {
    "collapsed": true
   },
   "outputs": [],
   "source": []
  },
  {
   "cell_type": "code",
   "execution_count": null,
   "metadata": {
    "collapsed": true
   },
   "outputs": [],
   "source": []
  },
  {
   "cell_type": "code",
   "execution_count": null,
   "metadata": {
    "collapsed": true
   },
   "outputs": [],
   "source": []
  }
 ],
 "metadata": {
  "kernelspec": {
   "display_name": "Python 3",
   "language": "python",
   "name": "python3"
  },
  "language_info": {
   "codemirror_mode": {
    "name": "ipython",
    "version": 3
   },
   "file_extension": ".py",
   "mimetype": "text/x-python",
   "name": "python",
   "nbconvert_exporter": "python",
   "pygments_lexer": "ipython3",
   "version": "3.6.0"
  }
 },
 "nbformat": 4,
 "nbformat_minor": 2
}
