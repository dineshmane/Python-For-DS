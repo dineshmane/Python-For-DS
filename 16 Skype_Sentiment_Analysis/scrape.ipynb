{
 "cells": [
  {
   "cell_type": "markdown",
   "metadata": {},
   "source": [
    "## Imports"
   ]
  },
  {
   "cell_type": "code",
   "execution_count": 1,
   "metadata": {},
   "outputs": [],
   "source": [
    "import lxml.html as html\n",
    "import math\n",
    "import csv\n",
    "import time\n",
    "import requests"
   ]
  },
  {
   "cell_type": "markdown",
   "metadata": {},
   "source": [
    "## Configurations"
   ]
  },
  {
   "cell_type": "code",
   "execution_count": 2,
   "metadata": {},
   "outputs": [
    {
     "name": "stdout",
     "output_type": "stream",
     "text": [
      "Scraper set for http://www.trustpilot.com/review/www.skype.com - saving result to dataSkype.csv\n"
     ]
    }
   ],
   "source": [
    "# Trustpilot review page\n",
    "basePage = 'http://www.trustpilot.com/review/'\n",
    "reviewSite = 'www.skype.com'\n",
    "reviewPage = basePage + reviewSite\n",
    "\n",
    "# Data file to save to\n",
    "datafile = 'dataSkype.csv'\n",
    "\n",
    "# Trustpilot default \n",
    "resultsPerPage = 20 \n",
    "\n",
    "print('Scraper set for ' + reviewPage + ' - saving result to ' + datafile)"
   ]
  },
  {
   "cell_type": "code",
   "execution_count": 8,
   "metadata": {},
   "outputs": [
    {
     "name": "stdout",
     "output_type": "stream",
     "text": [
      "[<Element span at 0x194198fbae8>]\n",
      "Found total of 52 pages to scrape\n"
     ]
    },
    {
     "name": "stderr",
     "output_type": "stream",
     "text": [
      "C:\\Users\\dany_\\AppData\\Local\\Continuum\\anaconda3\\lib\\site-packages\\urllib3\\connectionpool.py:847: InsecureRequestWarning: Unverified HTTPS request is being made. Adding certificate verification is strongly advised. See: https://urllib3.readthedocs.io/en/latest/advanced-usage.html#ssl-warnings\n",
      "  InsecureRequestWarning)\n"
     ]
    }
   ],
   "source": [
    "## Count amount of pages to scrape\n",
    "\n",
    "# Get page, skipping HTTPS as it gives certificate errors\n",
    "page = requests.get(reviewPage, verify=False)\n",
    "tree = html.fromstring(page.content)\n",
    "\n",
    "\n",
    "# Total amount of ratings\n",
    "ratingCount = tree.xpath('//span[@class=\"headline__review-count\"]')\n",
    "ratingCount = int(ratingCount[0].text.replace(',',''))\n",
    "\n",
    "# Amount of chunks to consider for displaying processing output \n",
    "# For ex. 10 means output progress for every 10th of the data\n",
    "tot_chunks = 20\n",
    "\n",
    "# Throttling to avoid spamming page with requests\n",
    "# With sleepTime seconds between every page request\n",
    "throttle = False\n",
    "sleepTime = 2\n",
    "\n",
    "# Total pages to scrape\n",
    "pages = math.ceil(ratingCount / resultsPerPage)\n",
    "print('Found total of ' + str(pages) + ' pages to scrape')"
   ]
  },
  {
   "cell_type": "code",
   "execution_count": 27,
   "metadata": {},
   "outputs": [
    {
     "name": "stdout",
     "output_type": "stream",
     "text": [
      "Processing..\n",
      "Processed 51/1028 ratings\n",
      "Processed 102/1028 ratings\n",
      "Processed 153/1028 ratings\n",
      "Processed 204/1028 ratings\n",
      "Processed 255/1028 ratings\n",
      "Processed 306/1028 ratings\n",
      "Processed 357/1028 ratings\n",
      "Processed 408/1028 ratings\n",
      "Processed 459/1028 ratings\n",
      "Processed 510/1028 ratings\n",
      "Processed 561/1028 ratings\n",
      "Processed 612/1028 ratings\n",
      "Processed 663/1028 ratings\n",
      "Processed 714/1028 ratings\n",
      "Processed 765/1028 ratings\n",
      "Processed 816/1028 ratings\n",
      "Processed 867/1028 ratings\n",
      "Processed 918/1028 ratings\n",
      "Processed 969/1028 ratings\n",
      "Processed 1020/1028 ratings\n",
      "Processed 1028/1028 ratings.. Finished!\n"
     ]
    }
   ],
   "source": [
    "## Main scraping section\n",
    "\n",
    "with open(datafile, 'w', newline='', encoding='utf8') as csvfile:\n",
    "    \n",
    "    # Tab delimited to allow for special characters\n",
    "    datawriter = csv.writer(csvfile, delimiter='\\t')\n",
    "    print('Processing..')\n",
    "    for i in range(1,pages+1):\n",
    "        \n",
    "        # Sleep if throttle enabled\n",
    "        if(throttle): time.sleep(sleepTime)\n",
    "\n",
    "        page = requests.get(reviewPage + '?page=' + str(i))\n",
    "        tree = html.fromstring(page.content)\n",
    "        \n",
    "        # Each item below scrapes a pages review titles, bodies, ratings and languages. \n",
    "        titles = tree.xpath('//a[@class=\"link link--large link--dark\"]')\n",
    "        bodies = tree.xpath('//p[@class=\"review-content__text\"]')\n",
    "        ratings = tree.xpath('//div[@data-status]')\n",
    "        langs = tree.xpath(\"//h3[starts-with(@class, 'review-title')]\")\n",
    "        \n",
    "        for idx,e in enumerate(bodies):\n",
    "            \n",
    "            # Progress counting, outputs for every processed chunk\n",
    "            reviewNumber = (idx + 1) + 20*(i-1)\n",
    "            chunk = int(ratingCount / tot_chunks)\n",
    "            if(reviewNumber % chunk == 0): \n",
    "                print('Processed ' + str(reviewNumber) + '/'  + str(ratingCount) + ' ratings')\n",
    "            \n",
    "            # Title of comment\n",
    "            title = titles[idx].text_content()\n",
    "            \n",
    "            # Body of comment\n",
    "            body = e.text_content().strip()\n",
    "            \n",
    "            # The rating is the 5th from last element\n",
    "            rating = 3 #ratings[idx].get('data-status').split(' ')[-5] \n",
    "            \n",
    "            # Language is 2nd element of h3 tag\n",
    "            lang = \"en\" # langs[idx].get('class').split(' ')[1]\n",
    "            \n",
    "            datawriter.writerow([title,body,rating,lang])\n",
    "    print('Processed ' + str(ratingCount) + '/' + str(ratingCount) + ' ratings.. Finished!')"
   ]
  },
  {
   "cell_type": "code",
   "execution_count": 22,
   "metadata": {},
   "outputs": [],
   "source": []
  },
  {
   "cell_type": "code",
   "execution_count": null,
   "metadata": {},
   "outputs": [],
   "source": []
  }
 ],
 "metadata": {
  "kernelspec": {
   "display_name": "Python 3",
   "language": "python",
   "name": "python3"
  },
  "language_info": {
   "codemirror_mode": {
    "name": "ipython",
    "version": 3
   },
   "file_extension": ".py",
   "mimetype": "text/x-python",
   "name": "python",
   "nbconvert_exporter": "python",
   "pygments_lexer": "ipython3",
   "version": "3.6.8"
  }
 },
 "nbformat": 4,
 "nbformat_minor": 1
}
