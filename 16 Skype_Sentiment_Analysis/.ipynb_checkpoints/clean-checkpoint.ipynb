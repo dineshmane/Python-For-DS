{
 "cells": [
  {
   "cell_type": "markdown",
   "metadata": {},
   "source": [
    "## Imports"
   ]
  },
  {
   "cell_type": "code",
   "execution_count": 1,
   "metadata": {},
   "outputs": [],
   "source": [
    "import csv\n",
    "import string\n",
    "import re\n",
    "import os\n",
    "import io"
   ]
  },
  {
   "cell_type": "code",
   "execution_count": 2,
   "metadata": {},
   "outputs": [],
   "source": [
    "## Function definitions\n",
    "\n",
    "def isolate_punctuation(s):\n",
    "    s = re.sub('([.,!?();:\"])', r' \\1 ', s) # isolate punctuation\n",
    "    s = ' '.join(s.split()) # Remove space multiples \n",
    "    return s\n",
    "\n",
    "def make_dirs(directories):\n",
    "    for directory in directories:\n",
    "        if not os.path.exists(directory):\n",
    "            os.makedirs(directory)"
   ]
  },
  {
   "cell_type": "code",
   "execution_count": 5,
   "metadata": {},
   "outputs": [],
   "source": [
    "## Configurations\n",
    "\n",
    "# Current file folder\n",
    "script_folder = os.path.realpath('.')\n",
    "\n",
    "# Data file generated from scrape step\n",
    "data_files = ['dataSkype.csv'] \n",
    "#data_files = [dataO2.csv','dataSkype.csv','dataThree.csv','dataVodafone.csv']\n",
    "\n",
    "# Folder to save our cleaned data for analyse step\n",
    "data_outfolder = 'skype-binary-classification'\n",
    "#data_outfolder = 'telephony12k-5star'\n",
    "\n",
    "data_outfolder = data_outfolder + '\\\\'\n",
    "make_dirs([script_folder + '\\\\' +  data_outfolder])\n",
    "\n",
    "# Classify into Negative/Positive sentiment or 1-5 stars \n",
    "binary_classification = True"
   ]
  },
  {
   "cell_type": "code",
   "execution_count": 12,
   "metadata": {},
   "outputs": [
    {
     "name": "stdout",
     "output_type": "stream",
     "text": [
      "Cleaning dataSkype.csv\n",
      "Finished cleaning data!\n"
     ]
    }
   ],
   "source": [
    "## Clean \n",
    "\n",
    "for file_iter, datafile in enumerate(data_files):\n",
    "    print('Cleaning ' + data_files[file_iter])\n",
    "    with open(datafile, newline='', encoding='utf8') as csv_in:\n",
    "        \n",
    "        datareader = csv.reader(csv_in, delimiter='\\t')\n",
    "        \n",
    "        for idx,row in enumerate(datareader): \n",
    "            \n",
    "            # Title of comment\n",
    "            title = row[0]\n",
    "            title = isolate_punctuation(title)\n",
    "\n",
    "            # Body of comment\n",
    "            body = row[1]\n",
    "            body = isolate_punctuation(body)\n",
    "\n",
    "            # The rating\n",
    "            rating = int(row[2])\n",
    "\n",
    "            # Language\n",
    "            lang = row[3]\n",
    "            \n",
    "            # Merge title and body into one file \n",
    "            toWrite = title + '\\n' + body + '\\n'\n",
    "            \n",
    "            # Only consider english reviews\n",
    "            if(lang == 'en' and binary_classification):\n",
    "            \n",
    "                # Make negative and positive folder \n",
    "                make_dirs([data_outfolder + s for s in ['neg','pos']])\n",
    "                \n",
    "                # Ratings 1 and 2 become \"negative\" and ratings 4 and 5 become \"positive\"\n",
    "                if(rating < 3):\n",
    "                    \n",
    "                    # Negatives filename, taking into account which csv source\n",
    "                    fileNeg = data_outfolder + 'neg\\\\' + str(file_iter) + '-' + str(idx) + '.txt'\n",
    "                    \n",
    "                    with io.open(fileNeg, \"w\", encoding=\"utf-8\") as f:\n",
    "                        f.write(toWrite)\n",
    "                elif(rating >= 3):\n",
    "                    \n",
    "                    # Positives filename, taking into account which csv source\n",
    "                    filePos = data_outfolder + 'pos\\\\' + str(file_iter) + '-' + str(idx) + '.txt'\n",
    "                    with io.open(filePos, \"w\", encoding=\"utf-8\") as f:\n",
    "                        f.write(toWrite)\n",
    "                        \n",
    "            elif(lang == 'en' and binary_classification==False):\n",
    "                \n",
    "                # Make ratings folders \n",
    "                make_dirs([data_outfolder + s for s in ['1','2','3','4','5']])\n",
    "                \n",
    "                # Filename, taking into account which csv source\n",
    "                filename = data_outfolder + str(rating) + '\\\\' + str(file_iter) + '-' + str(idx) + '.txt'\n",
    "\n",
    "                with io.open(filename, \"w\", encoding=\"utf-8\") as f:\n",
    "                    f.write(toWrite)\n",
    "                    \n",
    "print('Finished cleaning data!')"
   ]
  },
  {
   "cell_type": "code",
   "execution_count": 7,
   "metadata": {},
   "outputs": [],
   "source": [
    "import pandas as pd"
   ]
  },
  {
   "cell_type": "code",
   "execution_count": 14,
   "metadata": {},
   "outputs": [
    {
     "data": {
      "text/html": [
       "<div>\n",
       "<style scoped>\n",
       "    .dataframe tbody tr th:only-of-type {\n",
       "        vertical-align: middle;\n",
       "    }\n",
       "\n",
       "    .dataframe tbody tr th {\n",
       "        vertical-align: top;\n",
       "    }\n",
       "\n",
       "    .dataframe thead th {\n",
       "        text-align: right;\n",
       "    }\n",
       "</style>\n",
       "<table border=\"1\" class=\"dataframe\">\n",
       "  <thead>\n",
       "    <tr style=\"text-align: right;\">\n",
       "      <th></th>\n",
       "      <th>0</th>\n",
       "      <th>1</th>\n",
       "      <th>2</th>\n",
       "      <th>3</th>\n",
       "    </tr>\n",
       "  </thead>\n",
       "  <tbody>\n",
       "    <tr>\n",
       "      <th>0</th>\n",
       "      <td>Makes Windows Vista look like a…</td>\n",
       "      <td>Makes Windows Vista look like a masterpiece.Ty...</td>\n",
       "      <td>3</td>\n",
       "      <td>en</td>\n",
       "    </tr>\n",
       "    <tr>\n",
       "      <th>1</th>\n",
       "      <td>All the older versions worked perfectly…</td>\n",
       "      <td>All the older versions worked perfectly but th...</td>\n",
       "      <td>3</td>\n",
       "      <td>en</td>\n",
       "    </tr>\n",
       "    <tr>\n",
       "      <th>2</th>\n",
       "      <td>I've been using skype since 2008</td>\n",
       "      <td>I've been using skype since 2008. It was a gre...</td>\n",
       "      <td>3</td>\n",
       "      <td>en</td>\n",
       "    </tr>\n",
       "    <tr>\n",
       "      <th>3</th>\n",
       "      <td>Account debacle</td>\n",
       "      <td>Logging into Skype has turned into a real deba...</td>\n",
       "      <td>3</td>\n",
       "      <td>en</td>\n",
       "    </tr>\n",
       "    <tr>\n",
       "      <th>4</th>\n",
       "      <td>I use Skype for talking with my friends</td>\n",
       "      <td>I use Skype for talking with my friends. Very ...</td>\n",
       "      <td>3</td>\n",
       "      <td>en</td>\n",
       "    </tr>\n",
       "  </tbody>\n",
       "</table>\n",
       "</div>"
      ],
      "text/plain": [
       "                                          0  \\\n",
       "0          Makes Windows Vista look like a…   \n",
       "1  All the older versions worked perfectly…   \n",
       "2          I've been using skype since 2008   \n",
       "3                           Account debacle   \n",
       "4   I use Skype for talking with my friends   \n",
       "\n",
       "                                                   1  2   3  \n",
       "0  Makes Windows Vista look like a masterpiece.Ty...  3  en  \n",
       "1  All the older versions worked perfectly but th...  3  en  \n",
       "2  I've been using skype since 2008. It was a gre...  3  en  \n",
       "3  Logging into Skype has turned into a real deba...  3  en  \n",
       "4  I use Skype for talking with my friends. Very ...  3  en  "
      ]
     },
     "execution_count": 14,
     "metadata": {},
     "output_type": "execute_result"
    }
   ],
   "source": [
    "pd.read_csv(\"dataSkype.csv\", delimiter='\\t', header=None).head()"
   ]
  },
  {
   "cell_type": "code",
   "execution_count": null,
   "metadata": {},
   "outputs": [],
   "source": []
  }
 ],
 "metadata": {
  "kernelspec": {
   "display_name": "Python 3",
   "language": "python",
   "name": "python3"
  },
  "language_info": {
   "codemirror_mode": {
    "name": "ipython",
    "version": 3
   },
   "file_extension": ".py",
   "mimetype": "text/x-python",
   "name": "python",
   "nbconvert_exporter": "python",
   "pygments_lexer": "ipython3",
   "version": "3.6.8"
  }
 },
 "nbformat": 4,
 "nbformat_minor": 1
}
