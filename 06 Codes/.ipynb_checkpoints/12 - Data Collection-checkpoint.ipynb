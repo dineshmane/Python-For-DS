{
 "cells": [
  {
   "cell_type": "markdown",
   "metadata": {},
   "source": [
    "## Data Collection & Data Formats"
   ]
  },
  {
   "cell_type": "markdown",
   "metadata": {},
   "source": [
    "### Downloading Data\n",
    "The built-in Python *urllib.request* module has functions which help in downloading content from HTTP URLs using minimal code."
   ]
  },
  {
   "cell_type": "code",
   "execution_count": 1,
   "metadata": {
    "collapsed": false
   },
   "outputs": [
    {
     "name": "stdout",
     "output_type": "stream",
     "text": [
      "History of UCD\n",
      "\n",
      "Originally known as the Catholic University of Ireland and subsequently as the Royal University, the university became UCD in 1908 and a constituent college of the National University of Ireland (NUI). \n",
      "\n",
      "In 1997, UCD became an autonomous university within the loose federal structure of the NUI and UCD students are awarded degrees of the National University of Ireland.\n",
      "\n",
      "UCD has been a major contributor to the making of modern Ireland. Many UCD students and staff participated in the struggle for Irish independence and the university has produced numerous Irish Presidents and Taoisigh (Prime Ministers) in addition to generations of Irish business, professional, cultural and sporting leaders. \n",
      "\n",
      "Among UCD’s well-known graduates are authors (Maeve Binchy, Roddy Doyle, Flann O’Brien), actors (Gabriel Byrne, Brendan Gleeson), directors (Neil Jordan, Jim Sheridan) and sports stars such as Irish rugby captain Brian O’Driscoll and former Manchester United and Ireland captain Kevin Moran. Perhaps the best known of all its graduates is the writer James Joyce, who completed his Bachelor of Arts at the university in 1902.\n"
     ]
    }
   ],
   "source": [
    "import urllib.request\n",
    "url = \"http://mlg.ucd.ie/modules/COMP41680/ucd.txt\"\n",
    "response = urllib.request.urlopen(url)\n",
    "text = response.read().decode()\n",
    "print(text)"
   ]
  },
  {
   "cell_type": "markdown",
   "metadata": {},
   "source": [
    "In practice, we may often want to wrap code to fetch URLs in a try block, to handle the case where we cannot access the URL."
   ]
  },
  {
   "cell_type": "code",
   "execution_count": 2,
   "metadata": {
    "collapsed": false
   },
   "outputs": [
    {
     "name": "stdout",
     "output_type": "stream",
     "text": [
      "Failed to retrieve http://somemissinglink.ucd.ie/ucd.txt\n"
     ]
    }
   ],
   "source": [
    "url = \"http://somemissinglink.ucd.ie/ucd.txt\"\n",
    "try:\n",
    "    response = urllib.request.urlopen(url)\n",
    "    text = response.read().decode()\n",
    "except:\n",
    "    print(\"Failed to retrieve %s\" % url)"
   ]
  },
  {
   "cell_type": "markdown",
   "metadata": {},
   "source": [
    "### Working with CSV"
   ]
  },
  {
   "cell_type": "markdown",
   "metadata": {},
   "source": [
    "The CSV (\"Comma Separated Values\") file format is often used to exchange tabular data between different applications, like Excel. Essentially a CSV file is a plain text file where values are split by a comma separator. Alternatively can be tab or space separated. \n",
    "\n",
    "We could download a CSV file using *urllib.request* and manually parse it..."
   ]
  },
  {
   "cell_type": "code",
   "execution_count": 3,
   "metadata": {
    "collapsed": false
   },
   "outputs": [
    {
     "name": "stdout",
     "output_type": "stream",
     "text": [
      "['Player', 'Team', 'Total Goals', 'Penalties', 'Home Goals', 'Away Goals']\n",
      "['J Vardy', 'Leicester City', '19', '4', '11', '8']\n",
      "['H Kane', 'Tottenham', '16', '4', '7', '9']\n",
      "['R Lukaku', 'Everton', '16', '1', '8', '8']\n",
      "['O Ighalo', 'Watford', '15', '0', '8', '7']\n",
      "['S Aguero', 'Manchester City', '14', '1', '10', '4']\n",
      "['R Mahrez', 'Leicester City', '14', '4', '4', '10']\n",
      "['O Giroud', 'Arsenal', '12', '0', '4', '8']\n",
      "['D Costa', 'Chelsea', '10', '0', '7', '3']\n",
      "['J Defoe', 'Sunderland', '10', '0', '3', '7']\n",
      "['G Wijnaldum', 'Newcastle Utd', '9', '0', '9', '0']\n",
      "['T Deeney', 'Watford', '8', '5', '2', '6']\n",
      "['R Barkley', 'Everton', '8', '2', '5', '3']\n",
      "['A Ayew', 'Swansea City', '8', '0', '5', '3']\n",
      "['G Sigurdsson', 'Swansea City', '7', '3', '2', '5']\n",
      "['W Rooney', 'Manchester Utd', '7', '1', '3', '4']\n",
      "['A Martial', 'Manchester Utd', '7', '0', '4', '3']\n",
      "['D Alli', 'Tottenham', '7', '0', '1', '6']\n",
      "['D Payet', 'West Ham Utd', '7', '0', '3', '4']\n",
      "['M Arnautovic', 'Stoke City', '7', '2', '4', '3']\n",
      "['Y Toure', 'Manchester City', '7', '0', '3', '4']\n"
     ]
    }
   ],
   "source": [
    "# Download the CSV and store as a string\n",
    "url = \"http://mlg.ucd.ie/modules/COMP41680/goal_scorers.csv\"\n",
    "response = urllib.request.urlopen(url)\n",
    "raw_csv = response.read().decode()\n",
    "# Parse each line\n",
    "lines = raw_csv.split(\"\\n\")\n",
    "for l in lines:\n",
    "    l = l.strip()\n",
    "    if len(l) > 0:\n",
    "        # split based on a comma separator\n",
    "        parts = l.split(\",\")\n",
    "        print(parts)"
   ]
  },
  {
   "cell_type": "markdown",
   "metadata": {},
   "source": [
    "But we can also use Pandas to directly download and parse CSV data for us, to create a Data Frame which is ready to analyse."
   ]
  },
  {
   "cell_type": "code",
   "execution_count": 4,
   "metadata": {
    "collapsed": false
   },
   "outputs": [
    {
     "data": {
      "text/html": [
       "<div>\n",
       "<table border=\"1\" class=\"dataframe\">\n",
       "  <thead>\n",
       "    <tr style=\"text-align: right;\">\n",
       "      <th></th>\n",
       "      <th>Player</th>\n",
       "      <th>Team</th>\n",
       "      <th>Total Goals</th>\n",
       "      <th>Penalties</th>\n",
       "      <th>Home Goals</th>\n",
       "      <th>Away Goals</th>\n",
       "    </tr>\n",
       "  </thead>\n",
       "  <tbody>\n",
       "    <tr>\n",
       "      <th>0</th>\n",
       "      <td>J Vardy</td>\n",
       "      <td>Leicester City</td>\n",
       "      <td>19</td>\n",
       "      <td>4</td>\n",
       "      <td>11</td>\n",
       "      <td>8</td>\n",
       "    </tr>\n",
       "    <tr>\n",
       "      <th>1</th>\n",
       "      <td>H Kane</td>\n",
       "      <td>Tottenham</td>\n",
       "      <td>16</td>\n",
       "      <td>4</td>\n",
       "      <td>7</td>\n",
       "      <td>9</td>\n",
       "    </tr>\n",
       "    <tr>\n",
       "      <th>2</th>\n",
       "      <td>R Lukaku</td>\n",
       "      <td>Everton</td>\n",
       "      <td>16</td>\n",
       "      <td>1</td>\n",
       "      <td>8</td>\n",
       "      <td>8</td>\n",
       "    </tr>\n",
       "    <tr>\n",
       "      <th>3</th>\n",
       "      <td>O Ighalo</td>\n",
       "      <td>Watford</td>\n",
       "      <td>15</td>\n",
       "      <td>0</td>\n",
       "      <td>8</td>\n",
       "      <td>7</td>\n",
       "    </tr>\n",
       "    <tr>\n",
       "      <th>4</th>\n",
       "      <td>S Aguero</td>\n",
       "      <td>Manchester City</td>\n",
       "      <td>14</td>\n",
       "      <td>1</td>\n",
       "      <td>10</td>\n",
       "      <td>4</td>\n",
       "    </tr>\n",
       "    <tr>\n",
       "      <th>5</th>\n",
       "      <td>R Mahrez</td>\n",
       "      <td>Leicester City</td>\n",
       "      <td>14</td>\n",
       "      <td>4</td>\n",
       "      <td>4</td>\n",
       "      <td>10</td>\n",
       "    </tr>\n",
       "    <tr>\n",
       "      <th>6</th>\n",
       "      <td>O Giroud</td>\n",
       "      <td>Arsenal</td>\n",
       "      <td>12</td>\n",
       "      <td>0</td>\n",
       "      <td>4</td>\n",
       "      <td>8</td>\n",
       "    </tr>\n",
       "    <tr>\n",
       "      <th>7</th>\n",
       "      <td>D Costa</td>\n",
       "      <td>Chelsea</td>\n",
       "      <td>10</td>\n",
       "      <td>0</td>\n",
       "      <td>7</td>\n",
       "      <td>3</td>\n",
       "    </tr>\n",
       "    <tr>\n",
       "      <th>8</th>\n",
       "      <td>J Defoe</td>\n",
       "      <td>Sunderland</td>\n",
       "      <td>10</td>\n",
       "      <td>0</td>\n",
       "      <td>3</td>\n",
       "      <td>7</td>\n",
       "    </tr>\n",
       "    <tr>\n",
       "      <th>9</th>\n",
       "      <td>G Wijnaldum</td>\n",
       "      <td>Newcastle Utd</td>\n",
       "      <td>9</td>\n",
       "      <td>0</td>\n",
       "      <td>9</td>\n",
       "      <td>0</td>\n",
       "    </tr>\n",
       "    <tr>\n",
       "      <th>10</th>\n",
       "      <td>T Deeney</td>\n",
       "      <td>Watford</td>\n",
       "      <td>8</td>\n",
       "      <td>5</td>\n",
       "      <td>2</td>\n",
       "      <td>6</td>\n",
       "    </tr>\n",
       "    <tr>\n",
       "      <th>11</th>\n",
       "      <td>R Barkley</td>\n",
       "      <td>Everton</td>\n",
       "      <td>8</td>\n",
       "      <td>2</td>\n",
       "      <td>5</td>\n",
       "      <td>3</td>\n",
       "    </tr>\n",
       "    <tr>\n",
       "      <th>12</th>\n",
       "      <td>A Ayew</td>\n",
       "      <td>Swansea City</td>\n",
       "      <td>8</td>\n",
       "      <td>0</td>\n",
       "      <td>5</td>\n",
       "      <td>3</td>\n",
       "    </tr>\n",
       "    <tr>\n",
       "      <th>13</th>\n",
       "      <td>G Sigurdsson</td>\n",
       "      <td>Swansea City</td>\n",
       "      <td>7</td>\n",
       "      <td>3</td>\n",
       "      <td>2</td>\n",
       "      <td>5</td>\n",
       "    </tr>\n",
       "    <tr>\n",
       "      <th>14</th>\n",
       "      <td>W Rooney</td>\n",
       "      <td>Manchester Utd</td>\n",
       "      <td>7</td>\n",
       "      <td>1</td>\n",
       "      <td>3</td>\n",
       "      <td>4</td>\n",
       "    </tr>\n",
       "    <tr>\n",
       "      <th>15</th>\n",
       "      <td>A Martial</td>\n",
       "      <td>Manchester Utd</td>\n",
       "      <td>7</td>\n",
       "      <td>0</td>\n",
       "      <td>4</td>\n",
       "      <td>3</td>\n",
       "    </tr>\n",
       "    <tr>\n",
       "      <th>16</th>\n",
       "      <td>D Alli</td>\n",
       "      <td>Tottenham</td>\n",
       "      <td>7</td>\n",
       "      <td>0</td>\n",
       "      <td>1</td>\n",
       "      <td>6</td>\n",
       "    </tr>\n",
       "    <tr>\n",
       "      <th>17</th>\n",
       "      <td>D Payet</td>\n",
       "      <td>West Ham Utd</td>\n",
       "      <td>7</td>\n",
       "      <td>0</td>\n",
       "      <td>3</td>\n",
       "      <td>4</td>\n",
       "    </tr>\n",
       "    <tr>\n",
       "      <th>18</th>\n",
       "      <td>M Arnautovic</td>\n",
       "      <td>Stoke City</td>\n",
       "      <td>7</td>\n",
       "      <td>2</td>\n",
       "      <td>4</td>\n",
       "      <td>3</td>\n",
       "    </tr>\n",
       "    <tr>\n",
       "      <th>19</th>\n",
       "      <td>Y Toure</td>\n",
       "      <td>Manchester City</td>\n",
       "      <td>7</td>\n",
       "      <td>0</td>\n",
       "      <td>3</td>\n",
       "      <td>4</td>\n",
       "    </tr>\n",
       "  </tbody>\n",
       "</table>\n",
       "</div>"
      ],
      "text/plain": [
       "          Player             Team  Total Goals  Penalties  Home Goals  \\\n",
       "0        J Vardy   Leicester City           19          4          11   \n",
       "1         H Kane        Tottenham           16          4           7   \n",
       "2       R Lukaku          Everton           16          1           8   \n",
       "3       O Ighalo          Watford           15          0           8   \n",
       "4       S Aguero  Manchester City           14          1          10   \n",
       "5       R Mahrez   Leicester City           14          4           4   \n",
       "6       O Giroud          Arsenal           12          0           4   \n",
       "7        D Costa          Chelsea           10          0           7   \n",
       "8        J Defoe       Sunderland           10          0           3   \n",
       "9    G Wijnaldum    Newcastle Utd            9          0           9   \n",
       "10      T Deeney          Watford            8          5           2   \n",
       "11     R Barkley          Everton            8          2           5   \n",
       "12        A Ayew     Swansea City            8          0           5   \n",
       "13  G Sigurdsson     Swansea City            7          3           2   \n",
       "14      W Rooney   Manchester Utd            7          1           3   \n",
       "15     A Martial   Manchester Utd            7          0           4   \n",
       "16        D Alli        Tottenham            7          0           1   \n",
       "17       D Payet     West Ham Utd            7          0           3   \n",
       "18  M Arnautovic       Stoke City            7          2           4   \n",
       "19       Y Toure  Manchester City            7          0           3   \n",
       "\n",
       "    Away Goals  \n",
       "0            8  \n",
       "1            9  \n",
       "2            8  \n",
       "3            7  \n",
       "4            4  \n",
       "5           10  \n",
       "6            8  \n",
       "7            3  \n",
       "8            7  \n",
       "9            0  \n",
       "10           6  \n",
       "11           3  \n",
       "12           3  \n",
       "13           5  \n",
       "14           4  \n",
       "15           3  \n",
       "16           6  \n",
       "17           4  \n",
       "18           3  \n",
       "19           4  "
      ]
     },
     "execution_count": 4,
     "metadata": {},
     "output_type": "execute_result"
    }
   ],
   "source": [
    "import pandas as pd\n",
    "df = pd.read_csv(\"http://mlg.ucd.ie/modules/COMP41680/goal_scorers.csv\")\n",
    "df"
   ]
  },
  {
   "cell_type": "markdown",
   "metadata": {},
   "source": [
    "### Working with JSON"
   ]
  },
  {
   "cell_type": "markdown",
   "metadata": {},
   "source": [
    "[JSON](http://json.org/) is a lightweight format which is becoming increasingly popular for online data exchanged. Based originally on the JavaScript language and (relatively) easy for humans to read and write\n",
    "\n",
    "The built-in module *json* provides an easy way to encode and decode data in JSON in Python."
   ]
  },
  {
   "cell_type": "code",
   "execution_count": 5,
   "metadata": {
    "collapsed": true
   },
   "outputs": [],
   "source": [
    "import json"
   ]
  },
  {
   "cell_type": "markdown",
   "metadata": {},
   "source": [
    "Let's try downloading and parsing a simple JSON file which contains information about a number of books, originally from librarything.com:"
   ]
  },
  {
   "cell_type": "code",
   "execution_count": 6,
   "metadata": {
    "collapsed": true
   },
   "outputs": [],
   "source": [
    "url = \"http://mlg.ucd.ie/modules/COMP41680/books.json\"\n",
    "response = urllib.request.urlopen(url)\n",
    "raw_json = response.read().decode(\"utf-8\")"
   ]
  },
  {
   "cell_type": "code",
   "execution_count": 7,
   "metadata": {
    "collapsed": false
   },
   "outputs": [
    {
     "name": "stdout",
     "output_type": "stream",
     "text": [
      "[{\n",
      "\t\"book_id\": \"13585350\",\n",
      "\t\"title\": \"The World Treasury of Science Fiction\",\n",
      "\t\"ISBN\": \"\",\n",
      "\t\"year\": 1989,\n",
      "\t\"rating\": 3,\n",
      "\t\"language\": \"eng\"\n",
      "}, {\n",
      "\t\"book_id\": \"124205572\",\n",
      "\t\"title\": \"The War of the Worlds\",\n",
      "\t\"ISBN\": \"1936594056\",\n",
      "\t\"year\": 2013,\n",
      "\t\"rating\": 4,\n",
      "\t\"language\": \"eng\"\n",
      "}, {\n",
      "\t\"book_id\": \"127360065\",\n",
      "\t\"title\": \"Under the Dome: A Novel\",\n",
      "\t\"ISBN\": \"1439149038\",\n",
      "\t\"year\": 2013,\n",
      "\t\"rating\": 2,\n",
      "\t\"language\": \"eng\"\n",
      "}, {\n",
      "\t\"book_id\": \"13908800\",\n",
      "\t\"title\": \"The Ultimate Hitchhiker's Guide to the Galaxy\",\n",
      "\t\"ISBN\": \"0345453743\",\n",
      "\t\"year\": 2002,\n",
      "\t\"rating\": 5,\n",
      "\t\"language\": \"eng\"\n",
      "}, {\n",
      "\t\"book_id\": \"123734934\",\n",
      "\t\"title\": \"The Time Traveler's Wife\",\n",
      "\t\"ISBN\": \"1476764832\",\n",
      "\t\"year\": 2014,\n",
      "\t\"rating\": 5,\n",
      "\t\"language\": \"eng\"\n",
      "}, {\n",
      "\t\"book_id\": \"13603020\",\n",
      "\t\"title\": \"Salem's Lot\",\n",
      "\t\"ISBN\": \"0451098277\",\n",
      "\t\"year\": 1976,\n",
      "\t\"rating\": 3,\n",
      "\t\"language\": \"eng\"\n",
      "}, {\n",
      "\t\"book_id\": \"124173974\",\n",
      "\t\"title\": \"Republic\",\n",
      "\t\"ISBN\": \"039395501X\",\n",
      "\t\"year\": 1985,\n",
      "\t\"rating\": 3,\n",
      "\t\"language\": \"eng\"\n",
      "}, {\n",
      "\t\"book_id\": \"123102859\",\n",
      "\t\"title\": \"The Road\",\n",
      "\t\"ISBN\": \"0307387895\",\n",
      "\t\"year\": 2006,\n",
      "\t\"rating\": 5,\n",
      "\t\"language\": \"eng\"\n",
      "}]\n",
      "\n"
     ]
    }
   ],
   "source": [
    "print(raw_json)"
   ]
  },
  {
   "cell_type": "markdown",
   "metadata": {},
   "source": [
    "We can now parse the JSON, converting it from a string into a useful Python data structure:"
   ]
  },
  {
   "cell_type": "code",
   "execution_count": 8,
   "metadata": {
    "collapsed": false
   },
   "outputs": [
    {
     "name": "stdout",
     "output_type": "stream",
     "text": [
      "[{'book_id': '13585350', 'title': 'The World Treasury of Science Fiction', 'ISBN': '', 'year': 1989, 'rating': 3, 'language': 'eng'}, {'book_id': '124205572', 'title': 'The War of the Worlds', 'ISBN': '1936594056', 'year': 2013, 'rating': 4, 'language': 'eng'}, {'book_id': '127360065', 'title': 'Under the Dome: A Novel', 'ISBN': '1439149038', 'year': 2013, 'rating': 2, 'language': 'eng'}, {'book_id': '13908800', 'title': \"The Ultimate Hitchhiker's Guide to the Galaxy\", 'ISBN': '0345453743', 'year': 2002, 'rating': 5, 'language': 'eng'}, {'book_id': '123734934', 'title': \"The Time Traveler's Wife\", 'ISBN': '1476764832', 'year': 2014, 'rating': 5, 'language': 'eng'}, {'book_id': '13603020', 'title': \"Salem's Lot\", 'ISBN': '0451098277', 'year': 1976, 'rating': 3, 'language': 'eng'}, {'book_id': '124173974', 'title': 'Republic', 'ISBN': '039395501X', 'year': 1985, 'rating': 3, 'language': 'eng'}, {'book_id': '123102859', 'title': 'The Road', 'ISBN': '0307387895', 'year': 2006, 'rating': 5, 'language': 'eng'}]\n"
     ]
    }
   ],
   "source": [
    "data = json.loads(raw_json)\n",
    "print(data)"
   ]
  },
  {
   "cell_type": "markdown",
   "metadata": {},
   "source": [
    "We can now iterate through the books in the list and extract the relevant information that we require."
   ]
  },
  {
   "cell_type": "code",
   "execution_count": 10,
   "metadata": {
    "collapsed": false
   },
   "outputs": [
    {
     "name": "stdout",
     "output_type": "stream",
     "text": [
      "<class 'dict'>\n",
      "The World Treasury of Science Fiction = 1989\n",
      "<class 'dict'>\n",
      "The War of the Worlds = 2013\n",
      "<class 'dict'>\n",
      "Under the Dome: A Novel = 2013\n",
      "<class 'dict'>\n",
      "The Ultimate Hitchhiker's Guide to the Galaxy = 2002\n",
      "<class 'dict'>\n",
      "The Time Traveler's Wife = 2014\n",
      "<class 'dict'>\n",
      "Salem's Lot = 1976\n",
      "<class 'dict'>\n",
      "Republic = 1985\n",
      "<class 'dict'>\n",
      "The Road = 2006\n"
     ]
    }
   ],
   "source": [
    "for book in data:\n",
    "    print(type(book))\n",
    "    print( \"%s = %d\" % ( book[\"title\"], book[\"year\"] ) )"
   ]
  },
  {
   "cell_type": "markdown",
   "metadata": {},
   "source": [
    "### Working with XML"
   ]
  },
  {
   "cell_type": "markdown",
   "metadata": {
    "collapsed": true
   },
   "source": [
    "Extensible Markup Language (XML) is a markup language that defines a set of rules for encoding documents in a format which is both human-readable and machine-readable. XML is a widely-adopted format. Python includes several built-in modules for parsing XML data."
   ]
  },
  {
   "cell_type": "markdown",
   "metadata": {},
   "source": [
    "The *xml.etree.ElementTree* module can be used to extract data from a simple XML file based on its tree structure. "
   ]
  },
  {
   "cell_type": "code",
   "execution_count": 11,
   "metadata": {
    "collapsed": false
   },
   "outputs": [
    {
     "name": "stdout",
     "output_type": "stream",
     "text": [
      "<?xml version=\"1.0\" encoding=\"UTF-8\"?>\n",
      "<booklist>\n",
      "   <book id=\"13585350\">\n",
      "      <title>The World Treasury of Science Fiction</title>\n",
      "      <ISBN />\n",
      "      <year>1989</year>\n",
      "      <rating>3</rating>\n",
      "      <language>eng</language>\n",
      "   </book>\n",
      "   <book id=\"124205572\">\n",
      "      <title>The War of the Worlds</title>\n",
      "      <ISBN>1936594056</ISBN>\n",
      "      <year>2013</year>\n",
      "      <rating>4</rating>\n",
      "      <language>eng</language>\n",
      "   </book>\n",
      "   <book id=\"127360065\">\n",
      "      <title>Under the Dome: A Novel</title>\n",
      "      <ISBN>1439149038</ISBN>\n",
      "      <year>2013</year>\n",
      "      <rating>2</rating>\n",
      "      <language>eng</language>\n",
      "   </book>\n",
      "   <book id=\"13908800\">\n",
      "      <title>The Ultimate Hitchhiker's Guide to the Galaxy</title>\n",
      "      <ISBN>0345453743</ISBN>\n",
      "      <year>2002</year>\n",
      "      <rating>5</rating>\n",
      "      <language>eng</language>\n",
      "   </book>\n",
      "   <book id=\"123734934\">\n",
      "      <title>The Time Traveler's Wife</title>\n",
      "      <ISBN>1476764832</ISBN>\n",
      "      <year>2014</year>\n",
      "      <rating>5</rating>\n",
      "      <language>eng</language>\n",
      "   </book>\n",
      "   <book id=\"13603020\">\n",
      "      <title>Salem's Lot</title>\n",
      "      <ISBN>0451098277</ISBN>\n",
      "      <year>1976</year>\n",
      "      <rating>3</rating>\n",
      "      <language>eng</language>\n",
      "   </book>\n",
      "   <book id=\"124173974\">\n",
      "      <title>Republic</title>\n",
      "      <ISBN>039395501X</ISBN>\n",
      "      <year>1985</year>\n",
      "      <rating>3</rating>\n",
      "      <language>eng</language>\n",
      "   </book>\n",
      "   <book id=\"123102859\">\n",
      "      <title>The Road</title>\n",
      "      <ISBN>0307387895</ISBN>\n",
      "      <year>2006</year>\n",
      "      <rating>5</rating>\n",
      "      <language>eng</language>\n",
      "   </book>\n",
      "</booklist>\n"
     ]
    }
   ],
   "source": [
    "# download the content\n",
    "url = \"http://mlg.ucd.ie/modules/COMP41680/books.xml\"\n",
    "response = urllib.request.urlopen(url)\n",
    "raw_xml = response.read().decode()\n",
    "print(raw_xml)"
   ]
  },
  {
   "cell_type": "markdown",
   "metadata": {},
   "source": [
    "We can use the *xml.etree.ElementTree.fromstring()* function to parse content from a string containing XML data."
   ]
  },
  {
   "cell_type": "code",
   "execution_count": 12,
   "metadata": {
    "collapsed": true
   },
   "outputs": [],
   "source": [
    "import xml.etree.ElementTree\n",
    "tree = xml.etree.ElementTree.fromstring(raw_xml)"
   ]
  },
  {
   "cell_type": "markdown",
   "metadata": {},
   "source": [
    "An XML tree has a root node (i.e. the top level of the document), with child nodes at lower levels. We can iterate over these:"
   ]
  },
  {
   "cell_type": "code",
   "execution_count": 13,
   "metadata": {
    "collapsed": false
   },
   "outputs": [
    {
     "name": "stdout",
     "output_type": "stream",
     "text": [
      "book {'id': '13585350'}\n",
      "book {'id': '124205572'}\n",
      "book {'id': '127360065'}\n",
      "book {'id': '13908800'}\n",
      "book {'id': '123734934'}\n",
      "book {'id': '13603020'}\n",
      "book {'id': '124173974'}\n",
      "book {'id': '123102859'}\n"
     ]
    }
   ],
   "source": [
    "for child in tree:\n",
    "    # get the name of the tag, along with any XML attributes which the tag has\n",
    "    print( child.tag, child.attrib )"
   ]
  },
  {
   "cell_type": "markdown",
   "metadata": {},
   "source": [
    "We can also query to find tags with specific names, such as '<book>' and then in turn find child nodes of that tag with a specific name."
   ]
  },
  {
   "cell_type": "code",
   "execution_count": 16,
   "metadata": {
    "collapsed": false
   },
   "outputs": [
    {
     "name": "stdout",
     "output_type": "stream",
     "text": [
      "The World Treasury of Science Fiction\n",
      "The War of the Worlds\n",
      "Under the Dome: A Novel\n",
      "The Ultimate Hitchhiker's Guide to the Galaxy\n",
      "The Time Traveler's Wife\n",
      "Salem's Lot\n",
      "Republic\n",
      "The Road\n"
     ]
    }
   ],
   "source": [
    "for book in tree.findall(\"book\"):\n",
    "    # get the text inside a <title> tag, contained within a <book> tag\n",
    "    title = book.find(\"title\").text\n",
    "    print(title)"
   ]
  },
  {
   "cell_type": "markdown",
   "metadata": {},
   "source": [
    "### Working with APIs"
   ]
  },
  {
   "cell_type": "markdown",
   "metadata": {},
   "source": [
    "#### Example - Wikipedia"
   ]
  },
  {
   "cell_type": "markdown",
   "metadata": {},
   "source": [
    "As a simple example of using an Online API, we will retrieve JSON data from the Wikipedia web API. The Wikipedia page for 'Belfield' is [here](https://en.wikipedia.org/wiki/Belfield,_Dublin). We can retrieve this data in a cleaner JSON format from the Wikipedia API endpoint (https://en.wikipedia.org/w/api.php)."
   ]
  },
  {
   "cell_type": "code",
   "execution_count": 17,
   "metadata": {
    "collapsed": false
   },
   "outputs": [
    {
     "name": "stdout",
     "output_type": "stream",
     "text": [
      "https://en.wikipedia.org/w/api.php?format=json&action=query&prop=extracts&exintro=true&titles=Belfield,_Dublin\n"
     ]
    }
   ],
   "source": [
    "title = \"Belfield,_Dublin\"\n",
    "url = \"https://en.wikipedia.org/w/api.php?format=json&action=query&prop=extracts&exintro=true&titles=\" + title\n",
    "print(url)"
   ]
  },
  {
   "cell_type": "code",
   "execution_count": 19,
   "metadata": {
    "collapsed": false
   },
   "outputs": [
    {
     "name": "stdout",
     "output_type": "stream",
     "text": [
      "{\"batchcomplete\":\"\",\"query\":{\"normalized\":[{\"from\":\"Belfield,_Dublin\",\"to\":\"Belfield, Dublin\"}],\"pages\":{\"918146\":{\"pageid\":918146,\"ns\":0,\"title\":\"Belfield, Dublin\",\"extract\":\"<p><b>Belfield</b> is a small enclave, not quite a suburb, in D\\u00fan Laoghaire\\u2013Rathdown, Ireland. It is synonymous with the main campus of University College Dublin.</p>\\n<p>Belfield is close to Donnybrook, Ballsbridge, Clonskeagh, Goatstown and Stillorgan and takes its name from Belfield House and Demesne, one of eight properties bought to form the main campus of University College Dublin. It is adjacent to the R138 road.</p>\\n<p></p>\"}}}}\n"
     ]
    }
   ],
   "source": [
    "response = urllib.request.urlopen(url)\n",
    "raw_json = response.read().decode(\"utf-8\")\n",
    "print(raw_json)"
   ]
  },
  {
   "cell_type": "markdown",
   "metadata": {},
   "source": [
    "Once we have downloaded the JSON data into a string, we parse it using the *loads()* function, which will convert it into an actual Python dictionary."
   ]
  },
  {
   "cell_type": "code",
   "execution_count": 20,
   "metadata": {
    "collapsed": false
   },
   "outputs": [
    {
     "data": {
      "text/plain": [
       "{'batchcomplete': '',\n",
       " 'query': {'normalized': [{'from': 'Belfield,_Dublin',\n",
       "    'to': 'Belfield, Dublin'}],\n",
       "  'pages': {'918146': {'extract': '<p><b>Belfield</b> is a small enclave, not quite a suburb, in Dún Laoghaire–Rathdown, Ireland. It is synonymous with the main campus of University College Dublin.</p>\\n<p>Belfield is close to Donnybrook, Ballsbridge, Clonskeagh, Goatstown and Stillorgan and takes its name from Belfield House and Demesne, one of eight properties bought to form the main campus of University College Dublin. It is adjacent to the R138 road.</p>\\n<p></p>',\n",
       "    'ns': 0,\n",
       "    'pageid': 918146,\n",
       "    'title': 'Belfield, Dublin'}}}}"
      ]
     },
     "execution_count": 20,
     "metadata": {},
     "output_type": "execute_result"
    }
   ],
   "source": [
    "data = json.loads(raw_json)\n",
    "data"
   ]
  },
  {
   "cell_type": "markdown",
   "metadata": {},
   "source": [
    "The response still needs to be inspected. Note that the results we want are are in *data[\"query\"][\"pages\"]*:"
   ]
  },
  {
   "cell_type": "code",
   "execution_count": 21,
   "metadata": {
    "collapsed": false
   },
   "outputs": [
    {
     "name": "stdout",
     "output_type": "stream",
     "text": [
      "{'918146': {'pageid': 918146, 'ns': 0, 'title': 'Belfield, Dublin', 'extract': '<p><b>Belfield</b> is a small enclave, not quite a suburb, in Dún Laoghaire–Rathdown, Ireland. It is synonymous with the main campus of University College Dublin.</p>\\n<p>Belfield is close to Donnybrook, Ballsbridge, Clonskeagh, Goatstown and Stillorgan and takes its name from Belfield House and Demesne, one of eight properties bought to form the main campus of University College Dublin. It is adjacent to the R138 road.</p>\\n<p></p>'}}\n"
     ]
    }
   ],
   "source": [
    "print(data[\"query\"][\"pages\"])"
   ]
  },
  {
   "cell_type": "code",
   "execution_count": 22,
   "metadata": {
    "collapsed": false
   },
   "outputs": [
    {
     "name": "stdout",
     "output_type": "stream",
     "text": [
      "Belfield, Dublin\n",
      "<p><b>Belfield</b> is a small enclave, not quite a suburb, in Dún Laoghaire–Rathdown, Ireland. It is synonymous with the main campus of University College Dublin.</p>\n",
      "<p>Belfield is close to Donnybrook, Ballsbridge, Clonskeagh, Goatstown and Stillorgan and takes its name from Belfield House and Demesne, one of eight properties bought to form the main campus of University College Dublin. It is adjacent to the R138 road.</p>\n",
      "<p></p>\n"
     ]
    }
   ],
   "source": [
    "result = data[\"query\"][\"pages\"][\"918146\"]\n",
    "print(result[\"title\"])\n",
    "print(result[\"extract\"])"
   ]
  },
  {
   "cell_type": "markdown",
   "metadata": {},
   "source": [
    "#### Example - Currency Exchange Rates"
   ]
  },
  {
   "cell_type": "markdown",
   "metadata": {},
   "source": [
    "In the next example, we will use the *Fixer.io* API to get currency exchange rate information: http://fixer.io"
   ]
  },
  {
   "cell_type": "markdown",
   "metadata": {},
   "source": [
    "To retrieve all rates in EUROs, we retrieve the following:"
   ]
  },
  {
   "cell_type": "code",
   "execution_count": 23,
   "metadata": {
    "collapsed": false
   },
   "outputs": [
    {
     "name": "stdout",
     "output_type": "stream",
     "text": [
      "{\"base\":\"EUR\",\"date\":\"2018-02-23\",\"rates\":{\"AUD\":1.572,\"BGN\":1.9558,\"BRL\":3.9875,\"CAD\":1.5614,\"CHF\":1.1505,\"CNY\":7.7914,\"CZK\":25.337,\"DKK\":7.4469,\"GBP\":0.8794,\"HKD\":9.6219,\"HRK\":7.4365,\"HUF\":312.88,\"IDR\":16820.0,\"ILS\":4.2918,\"INR\":79.652,\"ISK\":123.9,\"JPY\":131.28,\"KRW\":1324.4,\"MXN\":22.838,\"MYR\":4.8135,\"NOK\":9.677,\"NZD\":1.6864,\"PHP\":63.719,\"PLN\":4.1698,\"RON\":4.655,\"RUB\":69.448,\"SEK\":10.058,\"SGD\":1.6254,\"THB\":38.668,\"TRY\":4.6575,\"USD\":1.2299,\"ZAR\":14.224}}\n"
     ]
    }
   ],
   "source": [
    "url = \"https://api.fixer.io/latest\"\n",
    "response = urllib.request.urlopen(url)\n",
    "raw_json = response.read().decode(\"utf-8\")\n",
    "print(raw_json)"
   ]
  },
  {
   "cell_type": "markdown",
   "metadata": {},
   "source": [
    "Parse the JSON data"
   ]
  },
  {
   "cell_type": "code",
   "execution_count": 24,
   "metadata": {
    "collapsed": false
   },
   "outputs": [
    {
     "data": {
      "text/plain": [
       "{'base': 'EUR',\n",
       " 'date': '2018-02-23',\n",
       " 'rates': {'AUD': 1.572,\n",
       "  'BGN': 1.9558,\n",
       "  'BRL': 3.9875,\n",
       "  'CAD': 1.5614,\n",
       "  'CHF': 1.1505,\n",
       "  'CNY': 7.7914,\n",
       "  'CZK': 25.337,\n",
       "  'DKK': 7.4469,\n",
       "  'GBP': 0.8794,\n",
       "  'HKD': 9.6219,\n",
       "  'HRK': 7.4365,\n",
       "  'HUF': 312.88,\n",
       "  'IDR': 16820.0,\n",
       "  'ILS': 4.2918,\n",
       "  'INR': 79.652,\n",
       "  'ISK': 123.9,\n",
       "  'JPY': 131.28,\n",
       "  'KRW': 1324.4,\n",
       "  'MXN': 22.838,\n",
       "  'MYR': 4.8135,\n",
       "  'NOK': 9.677,\n",
       "  'NZD': 1.6864,\n",
       "  'PHP': 63.719,\n",
       "  'PLN': 4.1698,\n",
       "  'RON': 4.655,\n",
       "  'RUB': 69.448,\n",
       "  'SEK': 10.058,\n",
       "  'SGD': 1.6254,\n",
       "  'THB': 38.668,\n",
       "  'TRY': 4.6575,\n",
       "  'USD': 1.2299,\n",
       "  'ZAR': 14.224}}"
      ]
     },
     "execution_count": 24,
     "metadata": {},
     "output_type": "execute_result"
    }
   ],
   "source": [
    "data = json.loads(raw_json)\n",
    "# List all the rates\n",
    "data"
   ]
  },
  {
   "cell_type": "code",
   "execution_count": 26,
   "metadata": {
    "collapsed": false
   },
   "outputs": [
    {
     "data": {
      "text/plain": [
       "79.652"
      ]
     },
     "execution_count": 26,
     "metadata": {},
     "output_type": "execute_result"
    }
   ],
   "source": [
    "# Get a specific rate\n",
    "data[\"rates\"][\"INR\"]"
   ]
  },
  {
   "cell_type": "markdown",
   "metadata": {},
   "source": [
    "We can change the URL to get rates for a different currency, such as US Dollars (USD):"
   ]
  },
  {
   "cell_type": "code",
   "execution_count": 28,
   "metadata": {
    "collapsed": false
   },
   "outputs": [
    {
     "data": {
      "text/plain": [
       "{'AUD': 1.2782,\n",
       " 'BGN': 1.5902,\n",
       " 'BRL': 3.2421,\n",
       " 'CAD': 1.2695,\n",
       " 'CHF': 0.93544,\n",
       " 'CNY': 6.335,\n",
       " 'CZK': 20.601,\n",
       " 'DKK': 6.0549,\n",
       " 'EUR': 0.81307,\n",
       " 'GBP': 0.71502,\n",
       " 'HKD': 7.8233,\n",
       " 'HRK': 6.0464,\n",
       " 'HUF': 254.39,\n",
       " 'IDR': 13676.0,\n",
       " 'ILS': 3.4896,\n",
       " 'INR': 64.763,\n",
       " 'ISK': 100.74,\n",
       " 'JPY': 106.74,\n",
       " 'KRW': 1076.8,\n",
       " 'MXN': 18.569,\n",
       " 'MYR': 3.9137,\n",
       " 'NOK': 7.8681,\n",
       " 'NZD': 1.3712,\n",
       " 'PHP': 51.808,\n",
       " 'PLN': 3.3904,\n",
       " 'RON': 3.7849,\n",
       " 'RUB': 56.466,\n",
       " 'SEK': 8.1779,\n",
       " 'SGD': 1.3216,\n",
       " 'THB': 31.44,\n",
       " 'TRY': 3.7869,\n",
       " 'ZAR': 11.565}"
      ]
     },
     "execution_count": 28,
     "metadata": {},
     "output_type": "execute_result"
    }
   ],
   "source": [
    "url = \"https://api.fixer.io/latest?base=USD\"\n",
    "# Retrieve the JSON\n",
    "response = urllib.request.urlopen(url)\n",
    "raw_json = response.read().decode(\"utf-8\")\n",
    "# Parse the JSON\n",
    "data = json.loads(raw_json)\n",
    "# Display the rates data for US dollars\n",
    "data[\"rates\"]"
   ]
  },
  {
   "cell_type": "code",
   "execution_count": 29,
   "metadata": {
    "collapsed": false
   },
   "outputs": [
    {
     "data": {
      "text/plain": [
       "{'AUD': 0.019736,\n",
       " 'BGN': 0.024554,\n",
       " 'BRL': 0.050062,\n",
       " 'CAD': 0.019603,\n",
       " 'CHF': 0.014444,\n",
       " 'CNY': 0.097818,\n",
       " 'CZK': 0.3181,\n",
       " 'DKK': 0.093493,\n",
       " 'EUR': 0.012555,\n",
       " 'GBP': 0.011041,\n",
       " 'HKD': 0.1208,\n",
       " 'HRK': 0.093362,\n",
       " 'HUF': 3.9281,\n",
       " 'IDR': 211.17,\n",
       " 'ILS': 0.053882,\n",
       " 'ISK': 1.5555,\n",
       " 'JPY': 1.6482,\n",
       " 'KRW': 16.627,\n",
       " 'MXN': 0.28672,\n",
       " 'MYR': 0.060432,\n",
       " 'NOK': 0.12149,\n",
       " 'NZD': 0.021172,\n",
       " 'PHP': 0.79997,\n",
       " 'PLN': 0.05235,\n",
       " 'RON': 0.058442,\n",
       " 'RUB': 0.87189,\n",
       " 'SEK': 0.12627,\n",
       " 'SGD': 0.020406,\n",
       " 'THB': 0.48546,\n",
       " 'TRY': 0.058473,\n",
       " 'USD': 0.015441,\n",
       " 'ZAR': 0.17858}"
      ]
     },
     "execution_count": 29,
     "metadata": {},
     "output_type": "execute_result"
    }
   ],
   "source": [
    "url = \"https://api.fixer.io/latest?base=INR\"\n",
    "# Retrieve the JSON\n",
    "response = urllib.request.urlopen(url)\n",
    "raw_json = response.read().decode(\"utf-8\")\n",
    "# Parse the JSON\n",
    "data = json.loads(raw_json)\n",
    "# Display the rates data for US dollars\n",
    "data[\"rates\"]"
   ]
  },
  {
   "cell_type": "code",
   "execution_count": null,
   "metadata": {
    "collapsed": true
   },
   "outputs": [],
   "source": []
  }
 ],
 "metadata": {
  "anaconda-cloud": {},
  "kernelspec": {
   "display_name": "Python 3",
   "language": "python",
   "name": "python3"
  },
  "language_info": {
   "codemirror_mode": {
    "name": "ipython",
    "version": 3
   },
   "file_extension": ".py",
   "mimetype": "text/x-python",
   "name": "python",
   "nbconvert_exporter": "python",
   "pygments_lexer": "ipython3",
   "version": "3.6.0"
  }
 },
 "nbformat": 4,
 "nbformat_minor": 1
}
