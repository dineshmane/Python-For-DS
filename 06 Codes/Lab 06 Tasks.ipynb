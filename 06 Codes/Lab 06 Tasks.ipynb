{
 "cells": [
  {
   "cell_type": "markdown",
   "metadata": {},
   "source": [
    "## Lab 6 Tasks"
   ]
  },
  {
   "cell_type": "markdown",
   "metadata": {},
   "source": [
    "### Task 1 - JSON Parsing"
   ]
  },
  {
   "cell_type": "markdown",
   "metadata": {},
   "source": [
    "Use Python to download a file containing movie metadata in JSON format from the URL: \"http://mlg.ucd.ie/modules/COMP41680/movies.json\""
   ]
  },
  {
   "cell_type": "code",
   "execution_count": 5,
   "metadata": {
    "collapsed": false
   },
   "outputs": [],
   "source": [
    "import urllib.request\n",
    "url = \"http://mlg.ucd.ie/modules/COMP41680/movies.json\"\n",
    "response = urllib.request.urlopen(url)\n",
    "text = response.read().decode()\n"
   ]
  },
  {
   "cell_type": "markdown",
   "metadata": {},
   "source": [
    "Parse the JSON data that you have downloaded."
   ]
  },
  {
   "cell_type": "code",
   "execution_count": 10,
   "metadata": {
    "collapsed": false
   },
   "outputs": [
    {
     "name": "stdout",
     "output_type": "stream",
     "text": [
      "[{'Title': 'London Has Fallen', 'Year': '2016', 'Rated': 'N/A', 'Runtime': '99 min', 'Genre': 'Action, Crime, Thriller', 'Director': 'Babak Najafi', 'Actors': 'Gerard Butler, Morgan Freeman, Charlotte Riley, Angela Bassett', 'Country': 'UK, USA, Bulgaria', 'Metascore': 'N/A', 'Type': 'movie', 'Response': 'True'}, {'Title': 'Deadpool', 'Year': '2016', 'Rated': 'R', 'Runtime': '108 min', 'Genre': 'Action, Adventure, Comedy', 'Director': 'Tim Miller', 'Actors': 'Ryan Reynolds, Karan Soni, Ed Skrein, Michael Benyaer', 'Country': 'USA, Canada', 'Metascore': '65', 'Type': 'movie', 'Response': 'True'}, {'Title': 'Kung Fu Panda 3', 'Year': '2016', 'Rated': 'PG', 'Runtime': '95 min', 'Genre': 'Animation, Action, Adventure', 'Director': 'Alessandro Carloni, Jennifer Yuh', 'Actors': 'Jack Black, Bryan Cranston, Dustin Hoffman, Angelina Jolie', 'Country': 'China, USA', 'Metascore': '64', 'Type': 'movie', 'Response': 'True'}, {'Title': 'Spectre', 'Year': '2015', 'Rated': 'PG-13', 'Runtime': '148 min', 'Genre': 'Action, Adventure, Thriller', 'Director': 'Sam Mendes', 'Actors': 'Daniel Craig, Christoph Waltz, Léa Seydoux, Ralph Fiennes', 'Country': 'UK, USA', 'Metascore': '60', 'Type': 'movie', 'Response': 'True'}, {'Title': 'Brooklyn', 'Year': '2015', 'Rated': 'PG-13', 'Runtime': '111 min', 'Genre': 'Drama, Romance', 'Director': 'John Crowley', 'Actors': 'Saoirse Ronan, Hugh Gormley, Brid Brennan, Jim Broadbent', 'Country': 'Ireland, UK, Canada', 'Metascore': '87', 'Type': 'movie', 'Response': 'True'}, {'Title': 'The Revenant', 'Year': '2015', 'Rated': 'R', 'Runtime': '156 min', 'Genre': 'Adventure, Drama, Thriller', 'Director': 'Alejandro González Iñárritu', 'Actors': 'Leonardo DiCaprio, Tom Hardy, Domhnall Gleeson, Will Poulter', 'Country': 'USA', 'Metascore': '76', 'Type': 'movie', 'Response': 'True'}]\n"
     ]
    }
   ],
   "source": [
    "import json\n",
    "parsed_json = json.loads(text)\n",
    "print(parsed_json)"
   ]
  },
  {
   "cell_type": "markdown",
   "metadata": {},
   "source": [
    "From the parsed JSON data, print a list of the all of the movie titles, along with the duration of each movie."
   ]
  },
  {
   "cell_type": "code",
   "execution_count": 17,
   "metadata": {
    "collapsed": false
   },
   "outputs": [
    {
     "name": "stdout",
     "output_type": "stream",
     "text": [
      "London Has Fallen    99 min\n",
      "Deadpool    108 min\n",
      "Kung Fu Panda 3    95 min\n",
      "Spectre    148 min\n",
      "Brooklyn    111 min\n",
      "The Revenant    156 min\n"
     ]
    }
   ],
   "source": [
    "for li in parsed_json:\n",
    "    print(li[\"Title\"] , \"  \" , li[\"Runtime\"])"
   ]
  },
  {
   "cell_type": "markdown",
   "metadata": {},
   "source": [
    "Extract the genre information for each movie."
   ]
  },
  {
   "cell_type": "code",
   "execution_count": 23,
   "metadata": {
    "collapsed": false
   },
   "outputs": [
    {
     "name": "stdout",
     "output_type": "stream",
     "text": [
      "{'Action, Crime, Thriller': 'London Has Fallen', 'Action, Adventure, Comedy': 'Deadpool', 'Animation, Action, Adventure': 'Kung Fu Panda 3', 'Action, Adventure, Thriller': 'Spectre', 'Drama, Romance': 'Brooklyn', 'Adventure, Drama, Thriller': 'The Revenant'}\n"
     ]
    }
   ],
   "source": [
    "movie_genre = {}\n",
    "for li in parsed_json:\n",
    "    movie_genre[li[\"Genre\"]] =  li[\"Title\"]\n",
    "print(movie_genre)"
   ]
  },
  {
   "cell_type": "markdown",
   "metadata": {},
   "source": [
    "### Task 2 - XML Parsing"
   ]
  },
  {
   "cell_type": "markdown",
   "metadata": {},
   "source": [
    "Use Python to download a file containing a contact list in XML format from the URL: \"http://mlg.ucd.ie/modules/COMP41680/contacts.xml\""
   ]
  },
  {
   "cell_type": "code",
   "execution_count": 25,
   "metadata": {
    "collapsed": false
   },
   "outputs": [
    {
     "name": "stdout",
     "output_type": "stream",
     "text": [
      "<?xml version=\"1.0\"?>\n",
      "<contacts>\n",
      "  <contact>\n",
      "    <name>John Smith</name>\n",
      "    <phone>085-456-7890</phone>\n",
      "    <email>johnsmith243@gmail.com</email>\n",
      "  </contact>\n",
      "  <contact>\n",
      "    <name>Alice Murphy</name>\n",
      "    <phone>086-456-7891</phone>\n",
      "    <email>alice.murphy12@ucd.ie</email>\n",
      "  </contact>\n",
      "  <contact>\n",
      "    <name>Joe Adams</name>\n",
      "    <phone>086-222-4654</phone>\n",
      "    <email>joeadams2016@tcd.ie</email>\n",
      "  </contact>\n",
      "  <contact>\n",
      "    <name>Carol Conroy</name>\n",
      "    <phone>087-131-1331</phone>\n",
      "    <email>cconry1342@gmail.com</email>\n",
      "  </contact>\n",
      "  <contact>\n",
      "    <name>Mary Carthy</name>\n",
      "    <phone>086-221-7433</phone>\n",
      "    <email>mcarthy1987@ucd.ie</email>\n",
      "  </contact>\n",
      "</contacts>\n"
     ]
    }
   ],
   "source": [
    "url = \"http://mlg.ucd.ie/modules/COMP41680/contacts.xml\"\n",
    "response = urllib.request.urlopen(url)\n",
    "raw_xml = response.read().decode()\n",
    "print(raw_xml)"
   ]
  },
  {
   "cell_type": "markdown",
   "metadata": {},
   "source": [
    "Parse the XML data that you have downloaded."
   ]
  },
  {
   "cell_type": "code",
   "execution_count": 27,
   "metadata": {
    "collapsed": false
   },
   "outputs": [],
   "source": [
    "import xml.etree.ElementTree\n",
    "tree = xml.etree.ElementTree.fromstring(raw_xml)"
   ]
  },
  {
   "cell_type": "markdown",
   "metadata": {},
   "source": [
    "From the parsed XML data, extract the name, email address and phone number of each contact."
   ]
  },
  {
   "cell_type": "code",
   "execution_count": 30,
   "metadata": {
    "collapsed": false
   },
   "outputs": [
    {
     "name": "stdout",
     "output_type": "stream",
     "text": [
      "John Smith   085-456-7890   johnsmith243@gmail.com\n",
      "Alice Murphy   086-456-7891   alice.murphy12@ucd.ie\n",
      "Joe Adams   086-222-4654   joeadams2016@tcd.ie\n",
      "Carol Conroy   087-131-1331   cconry1342@gmail.com\n",
      "Mary Carthy   086-221-7433   mcarthy1987@ucd.ie\n"
     ]
    }
   ],
   "source": [
    "for contact in tree.findall(\"contact\"):\n",
    "    name = contact.find(\"name\").text\n",
    "    phone = contact.find(\"phone\").text\n",
    "    email = contact.find(\"email\").text\n",
    "    print(name, \" \", phone, \" \", email)\n",
    "    "
   ]
  }
 ],
 "metadata": {
  "anaconda-cloud": {},
  "kernelspec": {
   "display_name": "Python 3",
   "language": "python",
   "name": "python3"
  },
  "language_info": {
   "codemirror_mode": {
    "name": "ipython",
    "version": 3
   },
   "file_extension": ".py",
   "mimetype": "text/x-python",
   "name": "python",
   "nbconvert_exporter": "python",
   "pygments_lexer": "ipython3",
   "version": "3.6.0"
  }
 },
 "nbformat": 4,
 "nbformat_minor": 0
}
