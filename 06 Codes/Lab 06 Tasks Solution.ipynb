{
 "cells": [
  {
   "cell_type": "markdown",
   "metadata": {},
   "source": [
    "## Lab 6 Tasks - Solution"
   ]
  },
  {
   "cell_type": "markdown",
   "metadata": {},
   "source": [
    "### Task 1 - JSON Parsing"
   ]
  },
  {
   "cell_type": "markdown",
   "metadata": {},
   "source": [
    "Use Python to download a file containing movie metadata in JSON format from the URL: \"http://mlg.ucd.ie/modules/COMP41680/movies.json\""
   ]
  },
  {
   "cell_type": "code",
   "execution_count": 1,
   "metadata": {
    "collapsed": false
   },
   "outputs": [
    {
     "name": "stdout",
     "output_type": "stream",
     "text": [
      "[{\n",
      "\t\"Title\": \"London Has Fallen\",\n",
      "\t\"Year\": \"2016\",\n",
      "\t\"Rated\": \"N/A\",\n",
      "\t\"Runtime\": \"99 min\",\n",
      "\t\"Genre\": \"Action, Crime, Thriller\",\n",
      "\t\"Director\": \"Babak Najafi\",\n",
      "\t\"Actors\": \"Gerard Butler, Morgan Freeman, Charlotte Riley, Angela Bassett\",\n",
      "\t\"Country\": \"UK, USA, Bulgaria\",\n",
      "\t\"Metascore\": \"N/A\",\n",
      "\t\"Type\": \"movie\",\n",
      "\t\"Response\": \"True\"\n",
      "}, {\n",
      "\t\"Title\": \"Deadpool\",\n",
      "\t\"Year\": \"2016\",\n",
      "\t\"Rated\": \"R\",\n",
      "\t\"Runtime\": \"108 min\",\n",
      "\t\"Genre\": \"Action, Adventure, Comedy\",\n",
      "\t\"Director\": \"Tim Miller\",\n",
      "\t\"Actors\": \"Ryan Reynolds, Karan Soni, Ed Skrein, Michael Benyaer\",\n",
      "\t\"Country\": \"USA, Canada\",\n",
      "\t\"Metascore\": \"65\",\n",
      "\t\"Type\": \"movie\",\n",
      "\t\"Response\": \"True\"\n",
      "}, {\n",
      "\t\"Title\": \"Kung Fu Panda 3\",\n",
      "\t\"Year\": \"2016\",\n",
      "\t\"Rated\": \"PG\",\n",
      "\t\"Runtime\": \"95 min\",\n",
      "\t\"Genre\": \"Animation, Action, Adventure\",\n",
      "\t\"Director\": \"Alessandro Carloni, Jennifer Yuh\",\n",
      "\t\"Actors\": \"Jack Black, Bryan Cranston, Dustin Hoffman, Angelina Jolie\",\n",
      "\t\"Country\": \"China, USA\",\n",
      "\t\"Metascore\": \"64\",\n",
      "\t\"Type\": \"movie\",\n",
      "\t\"Response\": \"True\"\n",
      "}, {\n",
      "\t\"Title\": \"Spectre\",\n",
      "\t\"Year\": \"2015\",\n",
      "\t\"Rated\": \"PG-13\",\n",
      "\t\"Runtime\": \"148 min\",\n",
      "\t\"Genre\": \"Action, Adventure, Thriller\",\n",
      "\t\"Director\": \"Sam Mendes\",\n",
      "\t\"Actors\": \"Daniel Craig, Christoph Waltz, Léa Seydoux, Ralph Fiennes\",\n",
      "\t\"Country\": \"UK, USA\",\n",
      "\t\"Metascore\": \"60\",\n",
      "\t\"Type\": \"movie\",\n",
      "\t\"Response\": \"True\"\n",
      "}, {\n",
      "\t\"Title\": \"Brooklyn\",\n",
      "\t\"Year\": \"2015\",\n",
      "\t\"Rated\": \"PG-13\",\n",
      "\t\"Runtime\": \"111 min\",\n",
      "\t\"Genre\": \"Drama, Romance\",\n",
      "\t\"Director\": \"John Crowley\",\n",
      "\t\"Actors\": \"Saoirse Ronan, Hugh Gormley, Brid Brennan, Jim Broadbent\",\n",
      "\t\"Country\": \"Ireland, UK, Canada\",\n",
      "\t\"Metascore\": \"87\",\n",
      "\t\"Type\": \"movie\",\n",
      "\t\"Response\": \"True\"\n",
      "}, {\n",
      "\t\"Title\": \"The Revenant\",\n",
      "\t\"Year\": \"2015\",\n",
      "\t\"Rated\": \"R\",\n",
      "\t\"Runtime\": \"156 min\",\n",
      "\t\"Genre\": \"Adventure, Drama, Thriller\",\n",
      "\t\"Director\": \"Alejandro González Iñárritu\",\n",
      "\t\"Actors\": \"Leonardo DiCaprio, Tom Hardy, Domhnall Gleeson, Will Poulter\",\n",
      "\t\"Country\": \"USA\",\n",
      "\t\"Metascore\": \"76\",\n",
      "\t\"Type\": \"movie\",\n",
      "\t\"Response\": \"True\"\n",
      "}]\n",
      "\n"
     ]
    }
   ],
   "source": [
    "import urllib.request\n",
    "url = \"http://mlg.ucd.ie/modules/COMP41680/movies.json\"\n",
    "response = urllib.request.urlopen(url)\n",
    "raw_json = response.read().decode()\n",
    "print(raw_json)"
   ]
  },
  {
   "cell_type": "markdown",
   "metadata": {},
   "source": [
    "Parse the JSON data that you have downloaded."
   ]
  },
  {
   "cell_type": "code",
   "execution_count": 2,
   "metadata": {
    "collapsed": false
   },
   "outputs": [
    {
     "name": "stdout",
     "output_type": "stream",
     "text": [
      "[{'Title': 'London Has Fallen', 'Year': '2016', 'Rated': 'N/A', 'Runtime': '99 min', 'Genre': 'Action, Crime, Thriller', 'Director': 'Babak Najafi', 'Actors': 'Gerard Butler, Morgan Freeman, Charlotte Riley, Angela Bassett', 'Country': 'UK, USA, Bulgaria', 'Metascore': 'N/A', 'Type': 'movie', 'Response': 'True'}, {'Title': 'Deadpool', 'Year': '2016', 'Rated': 'R', 'Runtime': '108 min', 'Genre': 'Action, Adventure, Comedy', 'Director': 'Tim Miller', 'Actors': 'Ryan Reynolds, Karan Soni, Ed Skrein, Michael Benyaer', 'Country': 'USA, Canada', 'Metascore': '65', 'Type': 'movie', 'Response': 'True'}, {'Title': 'Kung Fu Panda 3', 'Year': '2016', 'Rated': 'PG', 'Runtime': '95 min', 'Genre': 'Animation, Action, Adventure', 'Director': 'Alessandro Carloni, Jennifer Yuh', 'Actors': 'Jack Black, Bryan Cranston, Dustin Hoffman, Angelina Jolie', 'Country': 'China, USA', 'Metascore': '64', 'Type': 'movie', 'Response': 'True'}, {'Title': 'Spectre', 'Year': '2015', 'Rated': 'PG-13', 'Runtime': '148 min', 'Genre': 'Action, Adventure, Thriller', 'Director': 'Sam Mendes', 'Actors': 'Daniel Craig, Christoph Waltz, Léa Seydoux, Ralph Fiennes', 'Country': 'UK, USA', 'Metascore': '60', 'Type': 'movie', 'Response': 'True'}, {'Title': 'Brooklyn', 'Year': '2015', 'Rated': 'PG-13', 'Runtime': '111 min', 'Genre': 'Drama, Romance', 'Director': 'John Crowley', 'Actors': 'Saoirse Ronan, Hugh Gormley, Brid Brennan, Jim Broadbent', 'Country': 'Ireland, UK, Canada', 'Metascore': '87', 'Type': 'movie', 'Response': 'True'}, {'Title': 'The Revenant', 'Year': '2015', 'Rated': 'R', 'Runtime': '156 min', 'Genre': 'Adventure, Drama, Thriller', 'Director': 'Alejandro González Iñárritu', 'Actors': 'Leonardo DiCaprio, Tom Hardy, Domhnall Gleeson, Will Poulter', 'Country': 'USA', 'Metascore': '76', 'Type': 'movie', 'Response': 'True'}]\n"
     ]
    }
   ],
   "source": [
    "import json\n",
    "data = json.loads(raw_json)\n",
    "print(data)"
   ]
  },
  {
   "cell_type": "markdown",
   "metadata": {},
   "source": [
    "From the parsed JSON data, print a list of the all of the movie titles, along with the duration of each movie."
   ]
  },
  {
   "cell_type": "code",
   "execution_count": 3,
   "metadata": {
    "collapsed": false
   },
   "outputs": [
    {
     "name": "stdout",
     "output_type": "stream",
     "text": [
      "London Has Fallen = 99 min\n",
      "Deadpool = 108 min\n",
      "Kung Fu Panda 3 = 95 min\n",
      "Spectre = 148 min\n",
      "Brooklyn = 111 min\n",
      "The Revenant = 156 min\n"
     ]
    }
   ],
   "source": [
    "for movie in data:\n",
    "    print(\"%s = %s\" % ( movie[\"Title\"], movie[\"Runtime\"] ) )"
   ]
  },
  {
   "cell_type": "markdown",
   "metadata": {},
   "source": [
    "Extract the genre information for each movie."
   ]
  },
  {
   "cell_type": "code",
   "execution_count": 4,
   "metadata": {
    "collapsed": false
   },
   "outputs": [
    {
     "name": "stdout",
     "output_type": "stream",
     "text": [
      "London Has Fallen = ['Action', ' Crime', ' Thriller']\n",
      "Deadpool = ['Action', ' Adventure', ' Comedy']\n",
      "Kung Fu Panda 3 = ['Animation', ' Action', ' Adventure']\n",
      "Spectre = ['Action', ' Adventure', ' Thriller']\n",
      "Brooklyn = ['Drama', ' Romance']\n",
      "The Revenant = ['Adventure', ' Drama', ' Thriller']\n"
     ]
    }
   ],
   "source": [
    "for movie in data:\n",
    "    genre_string = movie[\"Genre\"]\n",
    "    # we could parse the string to make it more useful\n",
    "    genres = genre_string.split(\",\")\n",
    "    print( \"%s = %s\" % ( movie[\"Title\"], genres ) )"
   ]
  },
  {
   "cell_type": "markdown",
   "metadata": {},
   "source": [
    "### Task 2 - XML Parsing"
   ]
  },
  {
   "cell_type": "markdown",
   "metadata": {},
   "source": [
    "Use Python to download a file containing a contact list in XML format from the URL: \"http://mlg.ucd.ie/modules/COMP41680/contacts.xml\""
   ]
  },
  {
   "cell_type": "code",
   "execution_count": 5,
   "metadata": {
    "collapsed": false
   },
   "outputs": [
    {
     "name": "stdout",
     "output_type": "stream",
     "text": [
      "<?xml version=\"1.0\"?>\n",
      "<contacts>\n",
      "  <contact>\n",
      "    <name>John Smith</name>\n",
      "    <phone>085-456-7890</phone>\n",
      "    <email>johnsmith243@gmail.com</email>\n",
      "  </contact>\n",
      "  <contact>\n",
      "    <name>Alice Murphy</name>\n",
      "    <phone>086-456-7891</phone>\n",
      "    <email>alice.murphy12@ucd.ie</email>\n",
      "  </contact>\n",
      "  <contact>\n",
      "    <name>Joe Adams</name>\n",
      "    <phone>086-222-4654</phone>\n",
      "    <email>joeadams2016@tcd.ie</email>\n",
      "  </contact>\n",
      "  <contact>\n",
      "    <name>Carol Conroy</name>\n",
      "    <phone>087-131-1331</phone>\n",
      "    <email>cconry1342@gmail.com</email>\n",
      "  </contact>\n",
      "  <contact>\n",
      "    <name>Mary Carthy</name>\n",
      "    <phone>086-221-7433</phone>\n",
      "    <email>mcarthy1987@ucd.ie</email>\n",
      "  </contact>\n",
      "</contacts>\n"
     ]
    }
   ],
   "source": [
    "url = \"http://mlg.ucd.ie/modules/COMP41680/contacts.xml\"\n",
    "response = urllib.request.urlopen(url)\n",
    "raw_xml = response.read().decode()\n",
    "print(raw_xml)"
   ]
  },
  {
   "cell_type": "markdown",
   "metadata": {},
   "source": [
    "Parse the XML data that you have downloaded."
   ]
  },
  {
   "cell_type": "code",
   "execution_count": 6,
   "metadata": {
    "collapsed": true
   },
   "outputs": [],
   "source": [
    "import xml.etree.ElementTree\n",
    "tree = xml.etree.ElementTree.fromstring(raw_xml)"
   ]
  },
  {
   "cell_type": "markdown",
   "metadata": {},
   "source": [
    "From the parsed XML data, extract the name, email address and phone number of each contact."
   ]
  },
  {
   "cell_type": "code",
   "execution_count": 7,
   "metadata": {
    "collapsed": false
   },
   "outputs": [
    {
     "name": "stdout",
     "output_type": "stream",
     "text": [
      "John Smith:\temail=johnsmith243@gmail.com\tphone=085-456-7890\n",
      "Alice Murphy:\temail=alice.murphy12@ucd.ie\tphone=086-456-7891\n",
      "Joe Adams:\temail=joeadams2016@tcd.ie\tphone=086-222-4654\n",
      "Carol Conroy:\temail=cconry1342@gmail.com\tphone=087-131-1331\n",
      "Mary Carthy:\temail=mcarthy1987@ucd.ie\tphone=086-221-7433\n"
     ]
    }
   ],
   "source": [
    "for entry in tree.findall(\"contact\"):\n",
    "    c_name = entry.find(\"name\").text\n",
    "    c_phone = entry.find(\"phone\").text\n",
    "    c_email = entry.find(\"email\").text\n",
    "    print(\"%s:\\temail=%s\\tphone=%s\" % ( c_name, c_email, c_phone ) )"
   ]
  }
 ],
 "metadata": {
  "kernelspec": {
   "display_name": "Python 3",
   "language": "python",
   "name": "python3"
  },
  "language_info": {
   "codemirror_mode": {
    "name": "ipython",
    "version": 3
   },
   "file_extension": ".py",
   "mimetype": "text/x-python",
   "name": "python",
   "nbconvert_exporter": "python",
   "pygments_lexer": "ipython3",
   "version": "3.6.0"
  }
 },
 "nbformat": 4,
 "nbformat_minor": 0
}
