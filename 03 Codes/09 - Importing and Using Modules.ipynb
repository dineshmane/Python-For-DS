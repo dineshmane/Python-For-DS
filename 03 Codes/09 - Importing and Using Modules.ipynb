{
 "cells": [
  {
   "cell_type": "markdown",
   "metadata": {},
   "source": [
    "## Importing and Using Modules"
   ]
  },
  {
   "cell_type": "markdown",
   "metadata": {},
   "source": [
    "A *module* is a single file of Python code, often containing functions and variables related to a particular programming task.\n",
    "\n",
    "Accessing functions in a module requires first importing the module for use in the current Python environment. Two different ways to do this."
   ]
  },
  {
   "cell_type": "code",
   "execution_count": 1,
   "metadata": {
    "collapsed": true
   },
   "outputs": [],
   "source": [
    "# Approach 1: Import a whole module\n",
    "import sys"
   ]
  },
  {
   "cell_type": "code",
   "execution_count": 2,
   "metadata": {
    "collapsed": true
   },
   "outputs": [],
   "source": [
    "# Approach 2: Import a subset of functionality from a module\n",
    "from sys import exit"
   ]
  },
  {
   "cell_type": "markdown",
   "metadata": {},
   "source": [
    "If we have imported an entire module, we can access the functions or variables in the module by prefixing their names with the module name followed by a dot (i.e. dot notation)."
   ]
  },
  {
   "cell_type": "code",
   "execution_count": 5,
   "metadata": {
    "collapsed": false
   },
   "outputs": [
    {
     "data": {
      "text/plain": [
       "'3.6.0 |Anaconda custom (64-bit)| (default, Dec 23 2016, 11:57:41) [MSC v.1900 64 bit (AMD64)]'"
      ]
     },
     "execution_count": 5,
     "metadata": {},
     "output_type": "execute_result"
    }
   ],
   "source": [
    "# What version of Python are we running here?\n",
    "sys.version\n"
   ]
  },
  {
   "cell_type": "markdown",
   "metadata": {},
   "source": [
    "### Basic Mathematical Functions"
   ]
  },
  {
   "cell_type": "markdown",
   "metadata": {},
   "source": [
    "Python has a built-in *math* module that provides most basic mathematical functions."
   ]
  },
  {
   "cell_type": "code",
   "execution_count": 8,
   "metadata": {
    "collapsed": true
   },
   "outputs": [],
   "source": [
    "import math as m"
   ]
  },
  {
   "cell_type": "markdown",
   "metadata": {},
   "source": [
    "Once we have imported the entire module, we can call any functions within the module by prefixing them with *math.*"
   ]
  },
  {
   "cell_type": "code",
   "execution_count": 12,
   "metadata": {
    "collapsed": false
   },
   "outputs": [
    {
     "data": {
      "text/plain": [
       "5.0"
      ]
     },
     "execution_count": 12,
     "metadata": {},
     "output_type": "execute_result"
    }
   ],
   "source": [
    "m.sqrt(25)"
   ]
  },
  {
   "cell_type": "code",
   "execution_count": 18,
   "metadata": {
    "collapsed": false
   },
   "outputs": [
    {
     "name": "stdout",
     "output_type": "stream",
     "text": [
      "89\n",
      "90\n",
      "Help on built-in function floor in module math:\n",
      "\n",
      "floor(...)\n",
      "    floor(x)\n",
      "    \n",
      "    Return the floor of x as an Integral.\n",
      "    This is the largest integer <= x.\n",
      "\n"
     ]
    }
   ],
   "source": [
    "# Fractional number.\n",
    "n = 89.734\n",
    "# Round down\n",
    "print(math.floor(n))\n",
    "# Round up\n",
    "print(math.ceil(n))\n",
    "help(math.floor)"
   ]
  },
  {
   "cell_type": "markdown",
   "metadata": {},
   "source": [
    "We can calculate exponents and logarithms:"
   ]
  },
  {
   "cell_type": "code",
   "execution_count": 19,
   "metadata": {
    "collapsed": false
   },
   "outputs": [
    {
     "name": "stdout",
     "output_type": "stream",
     "text": [
      "Cube of 2 is 8\n",
      "Cube of 4 is 64\n",
      "Cube of 6 is 216\n",
      "Cube of 8 is 512\n",
      "Cube of 10 is 1000\n"
     ]
    }
   ],
   "source": [
    "for x in range(2,11,2):\n",
    "    # raise x to the power of 3\n",
    "    cube = math.pow( x, 3 )\n",
    "    print( \"Cube of %d is %d\" % ( x, cube ) )"
   ]
  },
  {
   "cell_type": "code",
   "execution_count": 20,
   "metadata": {
    "collapsed": false
   },
   "outputs": [
    {
     "name": "stdout",
     "output_type": "stream",
     "text": [
      "For 2\tlog2=1.000 log10=0.301\n",
      "For 4\tlog2=2.000 log10=0.602\n",
      "For 6\tlog2=2.585 log10=0.778\n",
      "For 8\tlog2=3.000 log10=0.903\n",
      "For 10\tlog2=3.322 log10=1.000\n"
     ]
    }
   ],
   "source": [
    "for x in range(2,11,2):\n",
    "    log2value = math.log2( x )\n",
    "    log10value = math.log10( x )\n",
    "    print( \"For %d\\tlog2=%.3f log10=%.3f\" % ( x, log2value, log10value ) )"
   ]
  },
  {
   "cell_type": "markdown",
   "metadata": {},
   "source": [
    "Standard trigonometrical functions are also implemented in the module. They take radian values as inputs, rather than degrees."
   ]
  },
  {
   "cell_type": "code",
   "execution_count": 22,
   "metadata": {
    "collapsed": false
   },
   "outputs": [
    {
     "name": "stdout",
     "output_type": "stream",
     "text": [
      "0 degrees\t(0.000 radians)\t sin=0.000\tcos=1.000\n",
      "30 degrees\t(0.524 radians)\t sin=0.500\tcos=0.866\n",
      "60 degrees\t(1.047 radians)\t sin=0.866\tcos=0.500\n",
      "90 degrees\t(1.571 radians)\t sin=1.000\tcos=0.000\n",
      "120 degrees\t(2.094 radians)\t sin=0.866\tcos=-0.500\n",
      "150 degrees\t(2.618 radians)\t sin=0.500\tcos=-0.866\n",
      "180 degrees\t(3.142 radians)\t sin=0.000\tcos=-1.000\n",
      "210 degrees\t(3.665 radians)\t sin=-0.500\tcos=-0.866\n",
      "240 degrees\t(4.189 radians)\t sin=-0.866\tcos=-0.500\n",
      "270 degrees\t(4.712 radians)\t sin=-1.000\tcos=-0.000\n",
      "300 degrees\t(5.236 radians)\t sin=-0.866\tcos=0.500\n",
      "330 degrees\t(5.760 radians)\t sin=-0.500\tcos=0.866\n",
      "360 degrees\t(6.283 radians)\t sin=-0.000\tcos=1.000\n",
      "Help on built-in function radians in module math:\n",
      "\n",
      "radians(...)\n",
      "    radians(x)\n",
      "    \n",
      "    Convert angle x from degrees to radians.\n",
      "\n"
     ]
    }
   ],
   "source": [
    "for deg in range(0, 361, 30):\n",
    "    # need to convert degrees to radians\n",
    "    rad = math.radians(deg)\n",
    "    sinvalue = math.sin(rad)\n",
    "    cosvalue = math.cos(rad)\n",
    "    print( \"%d degrees\\t(%.3f radians)\\t sin=%.3f\\tcos=%.3f\" % ( deg, rad, sinvalue, cosvalue ) )\n",
    "help(math.radians)"
   ]
  },
  {
   "cell_type": "markdown",
   "metadata": {},
   "source": [
    "Many math operations depend on special constants, which are variables in the *math* module:"
   ]
  },
  {
   "cell_type": "code",
   "execution_count": 23,
   "metadata": {
    "collapsed": false
   },
   "outputs": [
    {
     "name": "stdout",
     "output_type": "stream",
     "text": [
      "pi: 3.1415926536\n",
      "e:  2.7182818285\n"
     ]
    }
   ],
   "source": [
    "print ('pi: %.10f' % math.pi )\n",
    "print ('e:  %.10f' % math.e )"
   ]
  },
  {
   "cell_type": "markdown",
   "metadata": {},
   "source": [
    "### Random Number Generation"
   ]
  },
  {
   "cell_type": "markdown",
   "metadata": {},
   "source": [
    "The *random* module provides functions that generate pseudorandom numbers - i.e. not truly random because they are generated by a deterministic computation, but are generally indistinguishable from them."
   ]
  },
  {
   "cell_type": "code",
   "execution_count": 25,
   "metadata": {
    "collapsed": true
   },
   "outputs": [],
   "source": [
    "import random"
   ]
  },
  {
   "cell_type": "markdown",
   "metadata": {},
   "source": [
    "The function *random()* returns a random float between 0.0 and 1.0. Each time we call it, we get the next number from a series."
   ]
  },
  {
   "cell_type": "code",
   "execution_count": 27,
   "metadata": {
    "collapsed": false
   },
   "outputs": [
    {
     "name": "stdout",
     "output_type": "stream",
     "text": [
      "0.5541774660633526\n",
      "0.5189654190319217\n",
      "0.7528443418091985\n",
      "0.21984958493015305\n",
      "0.1607533735332628\n"
     ]
    }
   ],
   "source": [
    "for i in range(5):\n",
    "    print( random.random() )"
   ]
  },
  {
   "cell_type": "markdown",
   "metadata": {},
   "source": [
    "To return a random float in a specified range, use the *uniform()* function:"
   ]
  },
  {
   "cell_type": "code",
   "execution_count": 29,
   "metadata": {
    "collapsed": false
   },
   "outputs": [
    {
     "name": "stdout",
     "output_type": "stream",
     "text": [
      "4.7891945762255075\n",
      "4.095735741587065\n",
      "8.566951600419552\n",
      "2.758858709980472\n",
      "8.775911887296928\n"
     ]
    }
   ],
   "source": [
    "for i in range(5):\n",
    "    # Return a value N, where 0 <= N <= 10\n",
    "    print( random.uniform(0,10) )"
   ]
  },
  {
   "cell_type": "markdown",
   "metadata": {},
   "source": [
    "The function *randint()* returns a random integer from the specified range:"
   ]
  },
  {
   "cell_type": "code",
   "execution_count": 30,
   "metadata": {
    "collapsed": false
   },
   "outputs": [
    {
     "name": "stdout",
     "output_type": "stream",
     "text": [
      "83\n",
      "34\n",
      "61\n",
      "52\n",
      "15\n",
      "100\n",
      "34\n",
      "16\n",
      "45\n",
      "69\n"
     ]
    }
   ],
   "source": [
    "for i in range(10):\n",
    "    print( random.randint(1,100) )"
   ]
  },
  {
   "cell_type": "markdown",
   "metadata": {},
   "source": [
    "The function *choice()* randomly chooses a value from a list, with replacement:"
   ]
  },
  {
   "cell_type": "code",
   "execution_count": 31,
   "metadata": {
    "collapsed": false
   },
   "outputs": [
    {
     "name": "stdout",
     "output_type": "stream",
     "text": [
      "Ireland\n",
      "Slovakia\n",
      "Slovakia\n",
      "Italy\n"
     ]
    }
   ],
   "source": [
    "countries = [\"Ireland\",\"Slovakia\",\"France\",\"Spain\",\"Sweden\",\"Germany\",\"Italy\",\"Greece\"]\n",
    "for i in range( 4 ):\n",
    "    print( random.choice(countries) )"
   ]
  },
  {
   "cell_type": "markdown",
   "metadata": {},
   "source": [
    "We can also randomly shuffle a list in place (i.e modify the original list):"
   ]
  },
  {
   "cell_type": "code",
   "execution_count": 41,
   "metadata": {
    "collapsed": false
   },
   "outputs": [
    {
     "name": "stdout",
     "output_type": "stream",
     "text": [
      "['Italy', 'Greece', 'Spain', 'Ireland', 'France', 'Slovakia', 'Germany', 'Sweden']\n",
      "['Germany', 'Greece', 'France', 'Spain', 'Sweden', 'Slovakia', 'Ireland', 'Italy']\n"
     ]
    }
   ],
   "source": [
    "random.shuffle( countries )\n",
    "print( countries )\n",
    "# shuffle again\n",
    "random.shuffle( countries )\n",
    "print( countries )"
   ]
  },
  {
   "cell_type": "markdown",
   "metadata": {},
   "source": [
    "If we want to randomly choose a subset of a list, we can call the *sample()* function:"
   ]
  },
  {
   "cell_type": "code",
   "execution_count": 42,
   "metadata": {
    "collapsed": false
   },
   "outputs": [
    {
     "name": "stdout",
     "output_type": "stream",
     "text": [
      "['France', 'Greece', 'Slovakia']\n",
      "['Ireland', 'France', 'Slovakia']\n"
     ]
    }
   ],
   "source": [
    "# randomly select 3 values\n",
    "sublist1 = random.sample(countries,3)\n",
    "print(sublist1)\n",
    "# randomly select another 3 values\n",
    "sublist2 = random.sample(countries,3)\n",
    "print(sublist2)"
   ]
  },
  {
   "cell_type": "markdown",
   "metadata": {},
   "source": [
    "### File and Directory Operations"
   ]
  },
  {
   "cell_type": "markdown",
   "metadata": {},
   "source": [
    "The built-in *os* module provides comprehensive functionality for working with files and directories:"
   ]
  },
  {
   "cell_type": "code",
   "execution_count": null,
   "metadata": {
    "collapsed": true
   },
   "outputs": [],
   "source": [
    "import os"
   ]
  },
  {
   "cell_type": "code",
   "execution_count": null,
   "metadata": {
    "collapsed": true
   },
   "outputs": [],
   "source": [
    "# What is the current working directory?\n",
    "os.getcwd()"
   ]
  },
  {
   "cell_type": "markdown",
   "metadata": {},
   "source": [
    "For instance, we can get a list of files in the specified directory. If we do not specify a directory, by default it will list the files in the current directory."
   ]
  },
  {
   "cell_type": "code",
   "execution_count": null,
   "metadata": {
    "collapsed": true
   },
   "outputs": [],
   "source": [
    "os.listdir()"
   ]
  },
  {
   "cell_type": "markdown",
   "metadata": {},
   "source": [
    "For a full list of built-in modules and the functions/variables they contain, see:\n",
    "https://docs.python.org/3/library/"
   ]
  }
 ],
 "metadata": {
  "kernelspec": {
   "display_name": "Python 3",
   "language": "python",
   "name": "python3"
  },
  "language_info": {
   "codemirror_mode": {
    "name": "ipython",
    "version": 3
   },
   "file_extension": ".py",
   "mimetype": "text/x-python",
   "name": "python",
   "nbconvert_exporter": "python",
   "pygments_lexer": "ipython3",
   "version": "3.6.0"
  }
 },
 "nbformat": 4,
 "nbformat_minor": 2
}
