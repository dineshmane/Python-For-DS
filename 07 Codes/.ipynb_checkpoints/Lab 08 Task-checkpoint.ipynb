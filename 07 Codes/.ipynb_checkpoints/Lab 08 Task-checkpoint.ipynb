{
 "cells": [
  {
   "cell_type": "markdown",
   "metadata": {},
   "source": [
    "## Lab 08 Task"
   ]
  },
  {
   "cell_type": "markdown",
   "metadata": {},
   "source": [
    "Step 1. \n",
    "Load the book catalogue dataset *book-catalogue.csv* into a Pandas DataFrame, and set the row index of the DataFrame to be the title of the books."
   ]
  },
  {
   "cell_type": "code",
   "execution_count": 6,
   "metadata": {
    "collapsed": true
   },
   "outputs": [],
   "source": [
    "import pandas as pd\n",
    "import matplotlib\n",
    "import matplotlib.pyplot as plt\n",
    "# Important! Need to tell IPython to display plots within the notebook\n",
    "%matplotlib inline"
   ]
  },
  {
   "cell_type": "code",
   "execution_count": 4,
   "metadata": {
    "collapsed": true
   },
   "outputs": [],
   "source": [
    "df = pd.read_csv(\"book-catalogue.csv\", index_col = \"title\")"
   ]
  },
  {
   "cell_type": "code",
   "execution_count": 5,
   "metadata": {
    "collapsed": false
   },
   "outputs": [
    {
     "data": {
      "text/html": [
       "<div>\n",
       "<table border=\"1\" class=\"dataframe\">\n",
       "  <thead>\n",
       "    <tr style=\"text-align: right;\">\n",
       "      <th></th>\n",
       "      <th>author</th>\n",
       "      <th>author_gender</th>\n",
       "      <th>author_nationality</th>\n",
       "      <th>year</th>\n",
       "      <th>num_chapters</th>\n",
       "      <th>num_characters</th>\n",
       "      <th>num_words</th>\n",
       "    </tr>\n",
       "    <tr>\n",
       "      <th>title</th>\n",
       "      <th></th>\n",
       "      <th></th>\n",
       "      <th></th>\n",
       "      <th></th>\n",
       "      <th></th>\n",
       "      <th></th>\n",
       "      <th></th>\n",
       "    </tr>\n",
       "  </thead>\n",
       "  <tbody>\n",
       "    <tr>\n",
       "      <th>Belinda</th>\n",
       "      <td>Maria Edgeworth</td>\n",
       "      <td>Female</td>\n",
       "      <td>Irish</td>\n",
       "      <td>1800</td>\n",
       "      <td>31</td>\n",
       "      <td>182</td>\n",
       "      <td>173195</td>\n",
       "    </tr>\n",
       "    <tr>\n",
       "      <th>Castle Rackrent</th>\n",
       "      <td>Maria Edgeworth</td>\n",
       "      <td>Female</td>\n",
       "      <td>Irish</td>\n",
       "      <td>1800</td>\n",
       "      <td>9</td>\n",
       "      <td>78</td>\n",
       "      <td>27678</td>\n",
       "    </tr>\n",
       "    <tr>\n",
       "      <th>Ennui</th>\n",
       "      <td>Maria Edgeworth</td>\n",
       "      <td>Female</td>\n",
       "      <td>Irish</td>\n",
       "      <td>1809</td>\n",
       "      <td>22</td>\n",
       "      <td>289</td>\n",
       "      <td>74454</td>\n",
       "    </tr>\n",
       "    <tr>\n",
       "      <th>Sense and Sensibility</th>\n",
       "      <td>Jane Austen</td>\n",
       "      <td>Female</td>\n",
       "      <td>British</td>\n",
       "      <td>1811</td>\n",
       "      <td>50</td>\n",
       "      <td>158</td>\n",
       "      <td>123774</td>\n",
       "    </tr>\n",
       "    <tr>\n",
       "      <th>The Absentee</th>\n",
       "      <td>Maria Edgeworth</td>\n",
       "      <td>Female</td>\n",
       "      <td>Irish</td>\n",
       "      <td>1812</td>\n",
       "      <td>17</td>\n",
       "      <td>275</td>\n",
       "      <td>99608</td>\n",
       "    </tr>\n",
       "  </tbody>\n",
       "</table>\n",
       "</div>"
      ],
      "text/plain": [
       "                                author author_gender author_nationality  year  \\\n",
       "title                                                                           \n",
       "Belinda                Maria Edgeworth        Female              Irish  1800   \n",
       "Castle Rackrent        Maria Edgeworth        Female              Irish  1800   \n",
       "Ennui                  Maria Edgeworth        Female              Irish  1809   \n",
       "Sense and Sensibility      Jane Austen        Female            British  1811   \n",
       "The Absentee           Maria Edgeworth        Female              Irish  1812   \n",
       "\n",
       "                       num_chapters  num_characters  num_words  \n",
       "title                                                           \n",
       "Belinda                          31             182     173195  \n",
       "Castle Rackrent                   9              78      27678  \n",
       "Ennui                            22             289      74454  \n",
       "Sense and Sensibility            50             158     123774  \n",
       "The Absentee                     17             275      99608  "
      ]
     },
     "execution_count": 5,
     "metadata": {},
     "output_type": "execute_result"
    }
   ],
   "source": [
    "df.head()"
   ]
  },
  {
   "cell_type": "markdown",
   "metadata": {},
   "source": [
    "Step 2. Plot (i) the number of chapters against the number of characters; (ii) the number of chapters against the number of words. \n",
    "\n",
    "Do the plots suggest a correlation in either case?"
   ]
  },
  {
   "cell_type": "code",
   "execution_count": null,
   "metadata": {
    "collapsed": false
   },
   "outputs": [],
   "source": []
  },
  {
   "cell_type": "markdown",
   "metadata": {},
   "source": [
    "Step 3. Plot (i) the proportion of male and female authors; (ii) the proportion of Irish and British authors."
   ]
  },
  {
   "cell_type": "code",
   "execution_count": null,
   "metadata": {
    "collapsed": false
   },
   "outputs": [],
   "source": []
  },
  {
   "cell_type": "markdown",
   "metadata": {},
   "source": [
    "Step 4. Plot the number of books per decade in the catalogue. Save this plot to a PNG file."
   ]
  },
  {
   "cell_type": "code",
   "execution_count": null,
   "metadata": {
    "collapsed": false
   },
   "outputs": [],
   "source": []
  }
 ],
 "metadata": {
  "kernelspec": {
   "display_name": "Python 3",
   "language": "python",
   "name": "python3"
  },
  "language_info": {
   "codemirror_mode": {
    "name": "ipython",
    "version": 3
   },
   "file_extension": ".py",
   "mimetype": "text/x-python",
   "name": "python",
   "nbconvert_exporter": "python",
   "pygments_lexer": "ipython3",
   "version": "3.6.0"
  }
 },
 "nbformat": 4,
 "nbformat_minor": 0
}
