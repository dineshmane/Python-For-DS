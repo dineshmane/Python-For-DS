{
 "cells": [
  {
   "cell_type": "markdown",
   "metadata": {},
   "source": [
    "## Lab 08 Task"
   ]
  },
  {
   "cell_type": "markdown",
   "metadata": {},
   "source": [
    "Step 1. \n",
    "Load the book catalogue dataset *book-catalogue.csv* into a Pandas DataFrame, and set the row index of the DataFrame to be the title of the books."
   ]
  },
  {
   "cell_type": "code",
   "execution_count": 1,
   "metadata": {
    "collapsed": true
   },
   "outputs": [],
   "source": [
    "import pandas as pd\n",
    "import matplotlib\n",
    "import matplotlib.pyplot as plt\n",
    "# Important! Need to tell IPython to display plots within the notebook\n",
    "%matplotlib inline"
   ]
  },
  {
   "cell_type": "code",
   "execution_count": 2,
   "metadata": {
    "collapsed": true
   },
   "outputs": [],
   "source": [
    "df = pd.read_csv(\"book-catalogue.csv\", index_col = \"title\")"
   ]
  },
  {
   "cell_type": "code",
   "execution_count": 3,
   "metadata": {
    "collapsed": false
   },
   "outputs": [
    {
     "data": {
      "text/html": [
       "<div>\n",
       "<style scoped>\n",
       "    .dataframe tbody tr th:only-of-type {\n",
       "        vertical-align: middle;\n",
       "    }\n",
       "\n",
       "    .dataframe tbody tr th {\n",
       "        vertical-align: top;\n",
       "    }\n",
       "\n",
       "    .dataframe thead th {\n",
       "        text-align: right;\n",
       "    }\n",
       "</style>\n",
       "<table border=\"1\" class=\"dataframe\">\n",
       "  <thead>\n",
       "    <tr style=\"text-align: right;\">\n",
       "      <th></th>\n",
       "      <th>author</th>\n",
       "      <th>author_gender</th>\n",
       "      <th>author_nationality</th>\n",
       "      <th>year</th>\n",
       "      <th>num_chapters</th>\n",
       "      <th>num_characters</th>\n",
       "      <th>num_words</th>\n",
       "    </tr>\n",
       "    <tr>\n",
       "      <th>title</th>\n",
       "      <th></th>\n",
       "      <th></th>\n",
       "      <th></th>\n",
       "      <th></th>\n",
       "      <th></th>\n",
       "      <th></th>\n",
       "      <th></th>\n",
       "    </tr>\n",
       "  </thead>\n",
       "  <tbody>\n",
       "    <tr>\n",
       "      <th>Belinda</th>\n",
       "      <td>Maria Edgeworth</td>\n",
       "      <td>Female</td>\n",
       "      <td>Irish</td>\n",
       "      <td>1800</td>\n",
       "      <td>31</td>\n",
       "      <td>182</td>\n",
       "      <td>173195</td>\n",
       "    </tr>\n",
       "    <tr>\n",
       "      <th>Castle Rackrent</th>\n",
       "      <td>Maria Edgeworth</td>\n",
       "      <td>Female</td>\n",
       "      <td>Irish</td>\n",
       "      <td>1800</td>\n",
       "      <td>9</td>\n",
       "      <td>78</td>\n",
       "      <td>27678</td>\n",
       "    </tr>\n",
       "    <tr>\n",
       "      <th>Ennui</th>\n",
       "      <td>Maria Edgeworth</td>\n",
       "      <td>Female</td>\n",
       "      <td>Irish</td>\n",
       "      <td>1809</td>\n",
       "      <td>22</td>\n",
       "      <td>289</td>\n",
       "      <td>74454</td>\n",
       "    </tr>\n",
       "    <tr>\n",
       "      <th>Sense and Sensibility</th>\n",
       "      <td>Jane Austen</td>\n",
       "      <td>Female</td>\n",
       "      <td>British</td>\n",
       "      <td>1811</td>\n",
       "      <td>50</td>\n",
       "      <td>158</td>\n",
       "      <td>123774</td>\n",
       "    </tr>\n",
       "    <tr>\n",
       "      <th>The Absentee</th>\n",
       "      <td>Maria Edgeworth</td>\n",
       "      <td>Female</td>\n",
       "      <td>Irish</td>\n",
       "      <td>1812</td>\n",
       "      <td>17</td>\n",
       "      <td>275</td>\n",
       "      <td>99608</td>\n",
       "    </tr>\n",
       "  </tbody>\n",
       "</table>\n",
       "</div>"
      ],
      "text/plain": [
       "                                author author_gender author_nationality  year  \\\n",
       "title                                                                           \n",
       "Belinda                Maria Edgeworth        Female              Irish  1800   \n",
       "Castle Rackrent        Maria Edgeworth        Female              Irish  1800   \n",
       "Ennui                  Maria Edgeworth        Female              Irish  1809   \n",
       "Sense and Sensibility      Jane Austen        Female            British  1811   \n",
       "The Absentee           Maria Edgeworth        Female              Irish  1812   \n",
       "\n",
       "                       num_chapters  num_characters  num_words  \n",
       "title                                                           \n",
       "Belinda                          31             182     173195  \n",
       "Castle Rackrent                   9              78      27678  \n",
       "Ennui                            22             289      74454  \n",
       "Sense and Sensibility            50             158     123774  \n",
       "The Absentee                     17             275      99608  "
      ]
     },
     "execution_count": 3,
     "metadata": {},
     "output_type": "execute_result"
    }
   ],
   "source": [
    "df.head()"
   ]
  },
  {
   "cell_type": "markdown",
   "metadata": {},
   "source": [
    "Step 2. Plot (i) the number of chapters against the number of characters; (ii) the number of chapters against the number of words. \n",
    "\n",
    "Do the plots suggest a correlation in either case?"
   ]
  },
  {
   "cell_type": "code",
   "execution_count": 4,
   "metadata": {
    "collapsed": false
   },
   "outputs": [
    {
     "data": {
      "image/png": "[encoded data removed]",
      "text/plain": [
       "<matplotlib.figure.Figure at 0x201f0bc5ba8>"
      ]
     },
     "metadata": {},
     "output_type": "display_data"
    }
   ],
   "source": [
    "x = df[\"num_chapters\"]\n",
    "y = df[\"num_characters\"]\n",
    "plt.figure()\n",
    "plt.scatter(x,y)\n",
    "plt.xlabel(\"num_chapters\")\n",
    "plt.ylabel(\"num_characters\")\n",
    "plt.show()"
   ]
  },
  {
   "cell_type": "code",
   "execution_count": 5,
   "metadata": {
    "collapsed": false
   },
   "outputs": [
    {
     "data": {
      "image/png": "[encoded data removed]",
      "text/plain": [
       "<matplotlib.figure.Figure at 0x201f0bf7390>"
      ]
     },
     "metadata": {},
     "output_type": "display_data"
    }
   ],
   "source": [
    "x = df[\"num_chapters\"]\n",
    "y = df[\"num_words\"]\n",
    "plt.figure()\n",
    "plt.scatter(x,y)\n",
    "plt.xlabel(\"num_chapters\")\n",
    "plt.ylabel(\"num_words\")\n",
    "plt.show()"
   ]
  },
  {
   "cell_type": "markdown",
   "metadata": {},
   "source": [
    "Step 3. Plot (i) the proportion of male and female authors; (ii) the proportion of Irish and British authors."
   ]
  },
  {
   "cell_type": "code",
   "execution_count": 6,
   "metadata": {
    "collapsed": false
   },
   "outputs": [
    {
     "data": {
      "image/png": "[encoded data removed]",
      "text/plain": [
       "<matplotlib.figure.Figure at 0x201f113a470>"
      ]
     },
     "metadata": {},
     "output_type": "display_data"
    }
   ],
   "source": [
    "a=df[\"author_gender\"].value_counts()\n",
    "m = a[\"Male\"]\n",
    "f = a[\"Female\"]\n",
    "plt.figure(figsize=(5, 5))\n",
    "# create the pie chart on the sample data\n",
    "p = plt.pie([m, f], labels=[\"Male\", \"Female\"], colors=[\"red\",\"blue\"], autopct=\"%.1f%%\")\n",
    "p = plt.pie(a, labels=a.index, colors=[\"red\",\"blue\"], autopct=\"%.1f%%\")\n",
    "plt.show()"
   ]
  },
  {
   "cell_type": "code",
   "execution_count": 7,
   "metadata": {
    "collapsed": false
   },
   "outputs": [
    {
     "data": {
      "image/png": "[encoded data removed]",
      "text/plain": [
       "<matplotlib.figure.Figure at 0x201f1114f98>"
      ]
     },
     "metadata": {},
     "output_type": "display_data"
    }
   ],
   "source": [
    "a=df[\"author_nationality\"].value_counts()\n",
    "m = a[\"British\"]\n",
    "f = a[\"Irish\"]\n",
    "plt.figure(figsize=(5, 5))\n",
    "# create the pie chart on the sample data\n",
    "p = plt.pie([m, f], labels=[\"British\", \"Irish\"], colors=[\"red\",\"blue\"], autopct=\"%.1f%%\")\n",
    "p = plt.pie(a, labels=a.index, colors=[\"red\",\"blue\"], autopct=\"%.1f%%\")"
   ]
  },
  {
   "cell_type": "markdown",
   "metadata": {},
   "source": [
    "Step 4. Plot the number of books per decade in the catalogue. Save this plot to a PNG file."
   ]
  },
  {
   "cell_type": "code",
   "execution_count": 8,
   "metadata": {
    "collapsed": false
   },
   "outputs": [],
   "source": [
    "year = (df[\"year\"] // 10) *10"
   ]
  },
  {
   "cell_type": "code",
   "execution_count": 9,
   "metadata": {
    "collapsed": false
   },
   "outputs": [
    {
     "data": {
      "text/plain": [
       "1810    10\n",
       "1890     9\n",
       "1860     6\n",
       "1840     4\n",
       "1880     4\n",
       "1870     3\n",
       "1800     3\n",
       "1850     2\n",
       "1910     2\n",
       "1900     2\n",
       "1830     1\n",
       "1820     1\n",
       "1920     1\n",
       "Name: year, dtype: int64"
      ]
     },
     "execution_count": 9,
     "metadata": {},
     "output_type": "execute_result"
    }
   ],
   "source": [
    "a = year.value_counts()\n",
    "y_pos = range(len(a))\n",
    "a"
   ]
  },
  {
   "cell_type": "code",
   "execution_count": 10,
   "metadata": {
    "collapsed": false
   },
   "outputs": [
    {
     "data": {
      "text/plain": [
       "<matplotlib.text.Text at 0x201f1383a20>"
      ]
     },
     "execution_count": 10,
     "metadata": {},
     "output_type": "execute_result"
    },
    {
     "data": {
      "image/png": "[encoded data removed]",
      "text/plain": [
       "<matplotlib.figure.Figure at 0x201f1342588>"
      ]
     },
     "metadata": {},
     "output_type": "display_data"
    }
   ],
   "source": [
    "plt.figure(figsize=(8,5))\n",
    "# set up the bar chart\n",
    "plt.barh(y_pos, a, align='center')   #x axis and y axis here for horizantal bar axis are sweeped\n",
    "plt.yticks(y_pos, a.index)\n",
    "plt.xlabel(\"Number of decades\")\n",
    "plt.ylabel(\"Years\")\n",
    "plt.title(\"Numbers of books per decade\")"
   ]
  },
  {
   "cell_type": "code",
   "execution_count": 11,
   "metadata": {
    "collapsed": false
   },
   "outputs": [
    {
     "data": {
      "image/png": "[encoded data removed]",
      "text/plain": [
       "<matplotlib.figure.Figure at 0x201f132b160>"
      ]
     },
     "metadata": {},
     "output_type": "display_data"
    }
   ],
   "source": [
    "a = a.sort_index()\n",
    "my_plot = a.plot(kind=\"bar\")"
   ]
  },
  {
   "cell_type": "code",
   "execution_count": 12,
   "metadata": {
    "collapsed": true
   },
   "outputs": [],
   "source": [
    "fig = my_plot.get_figure()\n",
    "fig.tight_layout()\n",
    "fig.savefig(\"dany.png\")"
   ]
  },
  {
   "cell_type": "code",
   "execution_count": null,
   "metadata": {
    "collapsed": true
   },
   "outputs": [],
   "source": []
  }
 ],
 "metadata": {
  "kernelspec": {
   "display_name": "Python 3",
   "language": "python",
   "name": "python3"
  },
  "language_info": {
   "codemirror_mode": {
    "name": "ipython",
    "version": 3
   },
   "file_extension": ".py",
   "mimetype": "text/x-python",
   "name": "python",
   "nbconvert_exporter": "python",
   "pygments_lexer": "ipython3",
   "version": "3.6.0"
  }
 },
 "nbformat": 4,
 "nbformat_minor": 0
}
