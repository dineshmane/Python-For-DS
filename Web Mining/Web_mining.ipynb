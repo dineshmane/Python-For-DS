{
 "cells": [
  {
   "cell_type": "markdown",
   "metadata": {},
   "source": [
    "<h3><center>Text Scraping and Classification</center></h3>\n",
    "<h3><center><font color=\"Green\">Dinesh Mane </font></center></h3>"
   ]
  },
  {
   "cell_type": "markdown",
   "metadata": {},
   "source": [
    "### Imports"
   ]
  },
  {
   "cell_type": "code",
   "execution_count": 1,
   "metadata": {
    "collapsed": true
   },
   "outputs": [],
   "source": [
    "import time\n",
    "ticks = time.time()"
   ]
  },
  {
   "cell_type": "code",
   "execution_count": 2,
   "metadata": {
    "collapsed": true
   },
   "outputs": [],
   "source": [
    "import pandas as pd\n",
    "import numpy as np\n",
    "from bs4 import BeautifulSoup\n",
    "import urllib\n",
    "from sklearn.model_selection import train_test_split\n",
    "from sklearn.model_selection import cross_val_score\n",
    "from sklearn.feature_extraction.text import TfidfVectorizer,CountVectorizer\n",
    "from sklearn.naive_bayes import MultinomialNB\n",
    "from sklearn import svm\n",
    "from sklearn import ensemble\n",
    "from sklearn import tree\n",
    "from sklearn import neural_network\n",
    "from sklearn import metrics\n",
    "import matplotlib.pyplot as plt\n",
    "import warnings\n",
    "import os\n",
    "from os import listdir\n",
    "from os.path import isfile, join\n",
    "%matplotlib inline\n",
    "\n",
    "import nltk"
   ]
  },
  {
   "cell_type": "markdown",
   "metadata": {},
   "source": [
    "## Part1: Data Collection\n",
    "I am collecting different news articles and their associated labels by Web Mining using BeautifulSoup package."
   ]
  },
  {
   "cell_type": "markdown",
   "metadata": {},
   "source": [
    "Createing helper functions"
   ]
  },
  {
   "cell_type": "code",
   "execution_count": 3,
   "metadata": {
    "collapsed": true
   },
   "outputs": [],
   "source": [
    "# urls from which we will be scrapping the articles\n",
    "mainLink = \"http://mlg.ucd.ie/modules/COMP41680/archive/index.html\"\n",
    "prefix = \"http://mlg.ucd.ie/modules/COMP41680/archive/\""
   ]
  },
  {
   "cell_type": "code",
   "execution_count": 4,
   "metadata": {
    "collapsed": true
   },
   "outputs": [],
   "source": [
    "# This function will remove the existing created .txt files\n",
    "def clearDirecotry():\n",
    "    filelist = [file for file in listdir(\"files/\") if isfile(join(\"files/\", file)) if file.endswith(\".txt\")]\n",
    "    for filename in filelist:\n",
    "        os.remove(\"files/\"+filename)\n",
    "    print(\"Files Removed Successfully!\")"
   ]
  },
  {
   "cell_type": "code",
   "execution_count": 5,
   "metadata": {
    "collapsed": true
   },
   "outputs": [],
   "source": [
    "# This function will append the article body in new line associated with it's label\n",
    "def appendFile(fileName, body):\n",
    "    fileName = \"files/\"+fileName+\".txt\"\n",
    "    f = open(fileName, \"a+\", encoding=\"utf-8\")\n",
    "    f.write(body.strip())\n",
    "    f.write(\"\\n\")\n",
    "    f.close()"
   ]
  },
  {
   "cell_type": "code",
   "execution_count": 6,
   "metadata": {
    "collapsed": true
   },
   "outputs": [],
   "source": [
    "# This function will fetch the content of the article and including it's heading and store it in body variable\n",
    "def fetchBody(url, category):\n",
    "    r = urllib.request.urlopen(url).read()\n",
    "    soup = BeautifulSoup(r, \"html.parser\")\n",
    "    letters = soup.find_all(\"p\")\n",
    "    body = soup.find(\"h2\").get_text()    # fetching the H2 heading of the article\n",
    "    for element in letters[:-1]:         #to skip the last comments / any part\n",
    "        # for few articles the p tag has the repeated Headlines. I am not remoming it because it won't make any big differnt \n",
    "        # for our corpus\n",
    "        body = body + \" \" + element.get_text()    \n",
    "    appendFile(category, body)"
   ]
  },
  {
   "cell_type": "markdown",
   "metadata": {},
   "source": [
    "I am storing the articles in three text files\n",
    "\n",
    "- <font color=\"blue\">business.txt</font>   -->  All the articles associated to business category will be stored in it\n",
    "- <font color=\"blue\">sports.txt</font>     -->  All the articles associated to sports category will be stored in it\n",
    "- <font color=\"blue\">technology.txt</font> -->  All the articles associated to technology category will be stored in it"
   ]
  },
  {
   "cell_type": "markdown",
   "metadata": {},
   "source": [
    "- The main URL is used for fetching web pages\n",
    "- On the parent page, for fetching the month's URL I'm using LI tag and href attribute of Anchor tag\n",
    "- Then on the first child page, for fetching the categories and article's link I'm using TR tag and it's category class and href attribute of Anchor tag\n",
    "- Then on the second child page, for fetching the article's body I am using P tag and H2 tag for article's heading"
   ]
  },
  {
   "cell_type": "code",
   "execution_count": 7,
   "metadata": {
    "collapsed": false
   },
   "outputs": [
    {
     "name": "stdout",
     "output_type": "stream",
     "text": [
      "Files Removed Successfully!\n",
      "Articles have been successfuly saved\n"
     ]
    }
   ],
   "source": [
    "r = urllib.request.urlopen(mainLink).read()\n",
    "soup = BeautifulSoup(r, \"html.parser\")\n",
    "articles = soup.find_all(\"li\")\n",
    "# excpetion handling\n",
    "try:\n",
    "    # Here, I am fetching the month's URL from Parent page and storing into month_url_dict dictionary\n",
    "    clearDirecotry()\n",
    "    month_url_dict = {}\n",
    "    for element in articles:                             # fetching of all urls from main page\n",
    "        month = element.a.get_text().strip()\n",
    "        month_url = element.a[\"href\"].strip()\n",
    "        month_url_dict[month] = prefix + month_url       # creating url for articles within months\n",
    "    \n",
    "    # For each month, I am accessing the first child webpage.\n",
    "    for link in month_url_dict.values():          \n",
    "        r = urllib.request.urlopen(link).read()\n",
    "        soup = BeautifulSoup(r, \"html.parser\")\n",
    "        art_cat = soup.find_all(\"tr\")                    # fetching all TR tags  \n",
    " \n",
    "        # For each month's article, fetching the second child webpage which has actual article body\n",
    "        for element in art_cat[1:]:             \n",
    "            category = element.find(class_=\"category\").get_text().strip()\n",
    "            if category != \"N/A\":                        # skipping the N/A content\n",
    "                art_url = element.find(class_=\"title\").a[\"href\"].strip()\n",
    "                l = prefix + art_url                     # generating the valid url to fetch article body\n",
    "                fetchBody(l, category)                   # calling the helper function to fetch the body associated with Article\n",
    "    print(\"Articles have been successfuly saved\")\n",
    "except:\n",
    "    print(\"something went wrong. Please try agian\")"
   ]
  },
  {
   "cell_type": "markdown",
   "metadata": {},
   "source": [
    "I am creating the dynamic dataframe from text files which has articles body"
   ]
  },
  {
   "cell_type": "code",
   "execution_count": 8,
   "metadata": {
    "collapsed": false
   },
   "outputs": [
    {
     "name": "stdout",
     "output_type": "stream",
     "text": [
      "business\n",
      "sport\n",
      "technology\n"
     ]
    }
   ],
   "source": [
    "df = pd.DataFrame()                # this will hold the article's body and it's associated label\n",
    "filelist = [file for file in listdir(\"files/\") if isfile(join(\"files/\", file)) if file.endswith(\".txt\")]\n",
    "for filename in filelist:\n",
    "    temp_df = pd.DataFrame()\n",
    "    print(filename[:-4])\n",
    "    body_list = []\n",
    "    f = open(\"files/\"+filename,\"r\", encoding=\"utf-8\")\n",
    "    for i in f.readlines():\n",
    "        body_list.append(i.strip())\n",
    "    temp_df[\"body\"] = body_list             # column body will have article content\n",
    "    temp_df[\"label\"] = filename[:-4]        # column label will have article category\n",
    "    df = pd.concat([df,temp_df])"
   ]
  },
  {
   "cell_type": "code",
   "execution_count": 9,
   "metadata": {
    "collapsed": false
   },
   "outputs": [
    {
     "data": {
      "text/html": [
       "<div>\n",
       "<style scoped>\n",
       "    .dataframe tbody tr th:only-of-type {\n",
       "        vertical-align: middle;\n",
       "    }\n",
       "\n",
       "    .dataframe tbody tr th {\n",
       "        vertical-align: top;\n",
       "    }\n",
       "\n",
       "    .dataframe thead th {\n",
       "        text-align: right;\n",
       "    }\n",
       "</style>\n",
       "<table border=\"1\" class=\"dataframe\">\n",
       "  <thead>\n",
       "    <tr style=\"text-align: right;\">\n",
       "      <th></th>\n",
       "      <th>body</th>\n",
       "      <th>label</th>\n",
       "    </tr>\n",
       "  </thead>\n",
       "  <tbody>\n",
       "    <tr>\n",
       "      <th>0</th>\n",
       "      <td>Asian quake hits European shares Asian quake h...</td>\n",
       "      <td>business</td>\n",
       "    </tr>\n",
       "    <tr>\n",
       "      <th>1</th>\n",
       "      <td>Barclays shares up on merger talk Barclays sha...</td>\n",
       "      <td>business</td>\n",
       "    </tr>\n",
       "    <tr>\n",
       "      <th>2</th>\n",
       "      <td>Bush budget seeks deep cutbacks Bush budget se...</td>\n",
       "      <td>business</td>\n",
       "    </tr>\n",
       "    <tr>\n",
       "      <th>3</th>\n",
       "      <td>Bush to get 'tough' on deficit Bush to get 'to...</td>\n",
       "      <td>business</td>\n",
       "    </tr>\n",
       "    <tr>\n",
       "      <th>4</th>\n",
       "      <td>Card fraudsters 'targeting web' Card fraudster...</td>\n",
       "      <td>business</td>\n",
       "    </tr>\n",
       "  </tbody>\n",
       "</table>\n",
       "</div>"
      ],
      "text/plain": [
       "                                                body     label\n",
       "0  Asian quake hits European shares Asian quake h...  business\n",
       "1  Barclays shares up on merger talk Barclays sha...  business\n",
       "2  Bush budget seeks deep cutbacks Bush budget se...  business\n",
       "3  Bush to get 'tough' on deficit Bush to get 'to...  business\n",
       "4  Card fraudsters 'targeting web' Card fraudster...  business"
      ]
     },
     "execution_count": 9,
     "metadata": {},
     "output_type": "execute_result"
    }
   ],
   "source": [
    "df.to_csv(\"files/corpus.csv\", index=False)   # saving the corpus into CSV for future ref\n",
    "df.head()"
   ]
  },
  {
   "cell_type": "markdown",
   "metadata": {},
   "source": [
    "## Part 2: Text Classification\n",
    "I am analysing the corpus of documents created in from Part 1 in a text classification context"
   ]
  },
  {
   "cell_type": "markdown",
   "metadata": {},
   "source": [
    "### 2.1 Loading the dataset "
   ]
  },
  {
   "cell_type": "code",
   "execution_count": 10,
   "metadata": {
    "collapsed": false
   },
   "outputs": [
    {
     "name": "stdout",
     "output_type": "stream",
     "text": [
      "shape of dataframe:  (1408, 2)\n"
     ]
    },
    {
     "data": {
      "text/html": [
       "<div>\n",
       "<style scoped>\n",
       "    .dataframe tbody tr th:only-of-type {\n",
       "        vertical-align: middle;\n",
       "    }\n",
       "\n",
       "    .dataframe tbody tr th {\n",
       "        vertical-align: top;\n",
       "    }\n",
       "\n",
       "    .dataframe thead th {\n",
       "        text-align: right;\n",
       "    }\n",
       "</style>\n",
       "<table border=\"1\" class=\"dataframe\">\n",
       "  <thead>\n",
       "    <tr style=\"text-align: right;\">\n",
       "      <th></th>\n",
       "      <th>body</th>\n",
       "      <th>label</th>\n",
       "    </tr>\n",
       "  </thead>\n",
       "  <tbody>\n",
       "    <tr>\n",
       "      <th>1116</th>\n",
       "      <td>Cyber crime booms in 2004  The last 12 months ...</td>\n",
       "      <td>technology</td>\n",
       "    </tr>\n",
       "    <tr>\n",
       "      <th>1053</th>\n",
       "      <td>Anti-spam screensaver scrapped Anti-spam scree...</td>\n",
       "      <td>technology</td>\n",
       "    </tr>\n",
       "    <tr>\n",
       "      <th>1229</th>\n",
       "      <td>Latest Opera browser gets vocal  Net browser O...</td>\n",
       "      <td>technology</td>\n",
       "    </tr>\n",
       "    <tr>\n",
       "      <th>596</th>\n",
       "      <td>Collins named UK Athletics chief  UK Athletics...</td>\n",
       "      <td>sport</td>\n",
       "    </tr>\n",
       "    <tr>\n",
       "      <th>643</th>\n",
       "      <td>Ireland v USA (Sat) Ireland v USA (Sat)  Satur...</td>\n",
       "      <td>sport</td>\n",
       "    </tr>\n",
       "  </tbody>\n",
       "</table>\n",
       "</div>"
      ],
      "text/plain": [
       "                                                   body       label\n",
       "1116  Cyber crime booms in 2004  The last 12 months ...  technology\n",
       "1053  Anti-spam screensaver scrapped Anti-spam scree...  technology\n",
       "1229  Latest Opera browser gets vocal  Net browser O...  technology\n",
       "596   Collins named UK Athletics chief  UK Athletics...       sport\n",
       "643   Ireland v USA (Sat) Ireland v USA (Sat)  Satur...       sport"
      ]
     },
     "execution_count": 10,
     "metadata": {},
     "output_type": "execute_result"
    }
   ],
   "source": [
    "df = pd.read_csv('files/corpus.csv')\n",
    "df = df.sample(frac=1)\n",
    "print(\"shape of dataframe: \", df.shape)\n",
    "\n",
    "X = df[\"body\"]\n",
    "Y = df[\"label\"]\n",
    "\n",
    "acc_dict = {}\n",
    "f1_dict = {}\n",
    "df.head()"
   ]
  },
  {
   "cell_type": "markdown",
   "metadata": {},
   "source": [
    "Data distribution"
   ]
  },
  {
   "cell_type": "code",
   "execution_count": 11,
   "metadata": {
    "collapsed": false
   },
   "outputs": [
    {
     "data": {
      "image/png": "[encoded data removed]",
      "text/plain": [
       "<matplotlib.figure.Figure at 0x1acba215e10>"
      ]
     },
     "metadata": {},
     "output_type": "display_data"
    }
   ],
   "source": [
    "df[\"label\"].value_counts().plot.bar(title = \"#Articles Vs Category\")\n",
    "plt.show()"
   ]
  },
  {
   "cell_type": "markdown",
   "metadata": {},
   "source": [
    "Our data distribution is imbalanced. So, I will be taking F1 score along with Accuracy measure"
   ]
  },
  {
   "cell_type": "markdown",
   "metadata": {},
   "source": [
    "### 2.2 Document-Term Matrix Representation:\n",
    "I have used total 6 text pre-processing steps on the corpus and created DTM.\n",
    "- Tokenization & Case Conversion: Handled by Sklearn \n",
    "- Stop Words removal: Filtered 'english' stop words\n",
    "- Infrequent term removal: Provided the threshold of 4 to 'min_df' argument\n",
    "- Lemmatization: Used the lemma (root) of terms by building Lemmatizer from NLTK package\n",
    "- Ngram : To get more context of corpus I've used 1 and 2 gram terms"
   ]
  },
  {
   "cell_type": "markdown",
   "metadata": {},
   "source": [
    "Case Conversion -> Filtering terms length less than 4 -> Filtering stop words -> Lemmatizer tokenizer -> 1Gram & 2Gram words -> TFIDF"
   ]
  },
  {
   "cell_type": "markdown",
   "metadata": {},
   "source": [
    "Split the data into a **training set** and a **test set**"
   ]
  },
  {
   "cell_type": "code",
   "execution_count": 12,
   "metadata": {
    "collapsed": false
   },
   "outputs": [],
   "source": [
    "X_train, X_test, y_train, y_test = train_test_split(X, Y,test_size=0.30)"
   ]
  },
  {
   "cell_type": "markdown",
   "metadata": {},
   "source": [
    "As we are using the TFIDF so we are crating the tokenizer from TfidfVectorizer instead of CountVectorizer"
   ]
  },
  {
   "cell_type": "code",
   "execution_count": 13,
   "metadata": {
    "collapsed": true
   },
   "outputs": [],
   "source": [
    "def lemma_tokenizer(text):\n",
    "    # use the standard scikit-learn tokenizer first\n",
    "    standard_tokenizer = TfidfVectorizer().build_tokenizer()\n",
    "    tokens = standard_tokenizer(text)\n",
    "    # then use NLTK to perform lemmatisation on each token\n",
    "    lemmatizer = nltk.stem.WordNetLemmatizer()\n",
    "    lemma_tokens = []\n",
    "    for token in tokens:\n",
    "        lemma_tokens.append( lemmatizer.lemmatize(token) )\n",
    "    return lemma_tokens"
   ]
  },
  {
   "cell_type": "markdown",
   "metadata": {},
   "source": [
    "Inverse Document Frequency (TF-IDF) is more meaningful than Term Frequency (TF) so I have created Document Term Matrix of TF-IDF scores using Sklearn package"
   ]
  },
  {
   "cell_type": "code",
   "execution_count": 14,
   "metadata": {
    "collapsed": false
   },
   "outputs": [
    {
     "name": "stdout",
     "output_type": "stream",
     "text": [
      "Shape of Entire dataset  (1408, 13254)\n",
      "Shape of Training dataset  (985, 13254)\n",
      "Shape of Testing dataset  (423, 13254)\n"
     ]
    }
   ],
   "source": [
    "# created the DTM of TFIDF\n",
    "vectorizer = TfidfVectorizer(lowercase=True, min_df = 4, stop_words=\"english\", tokenizer=lemma_tokenizer, ngram_range=(1, 2))\n",
    "#vectorizer = CountVectorizer(stop_words=\"english\",min_df = 3,tokenizer=lemma_tokenizer)\n",
    "count_dataset = vectorizer.fit_transform(X)  # entire data set for CV fold\n",
    "print(\"Shape of Entire dataset \",count_dataset.shape)\n",
    "\n",
    "count_train = vectorizer.transform(X_train)\n",
    "print(\"Shape of Training dataset \", count_train.shape)\n",
    "count_test = vectorizer.transform(X_test)\n",
    "print(\"Shape of Testing dataset \", count_test.shape)"
   ]
  },
  {
   "cell_type": "code",
   "execution_count": 15,
   "metadata": {
    "collapsed": false
   },
   "outputs": [
    {
     "name": "stdout",
     "output_type": "stream",
     "text": [
      "\n"
     ]
    }
   ],
   "source": [
    "# TFIDF score of few terms\n",
    "print(count_train[0:7,30:40]) "
   ]
  },
  {
   "cell_type": "markdown",
   "metadata": {},
   "source": [
    "### 2.3. Multi-Class Classification models:\n",
    "I have used 4 different Multi-Class Classification models for this task:\n",
    "\n",
    "- Multinomial NB  - Flavor of Naive Bayes classifier which works better with Text data\n",
    "- Simple Decision Tree - With default hyper-parameters\n",
    "- Support Vector Machine - With linear kernel\n",
    "- Neural Network  - With default hyper-parameters\n",
    "\n",
    "Evaluation methods:\n",
    "- **One-Way Holdout Strategy** by splitting data into Traning and Testing dataset. \n",
    "- **K-fold cross-validation** using K=5"
   ]
  },
  {
   "cell_type": "markdown",
   "metadata": {},
   "source": [
    "#### MultinomialNB"
   ]
  },
  {
   "cell_type": "code",
   "execution_count": 16,
   "metadata": {
    "collapsed": false
   },
   "outputs": [
    {
     "data": {
      "text/plain": [
       "MultinomialNB(alpha=1.0, class_prior=None, fit_prior=True)"
      ]
     },
     "execution_count": 16,
     "metadata": {},
     "output_type": "execute_result"
    }
   ],
   "source": [
    "nb_classifier = MultinomialNB()\n",
    "nb_classifier.fit(count_train, y_train)"
   ]
  },
  {
   "cell_type": "markdown",
   "metadata": {},
   "source": [
    "Evaluation on the holdout test dataset"
   ]
  },
  {
   "cell_type": "code",
   "execution_count": 17,
   "metadata": {
    "collapsed": false
   },
   "outputs": [
    {
     "name": "stdout",
     "output_type": "stream",
     "text": [
      "Accuracy: 0.978723404255\n",
      "             precision    recall  f1-score   support\n",
      "\n",
      "   business       0.98      0.98      0.98       139\n",
      "      sport       0.98      0.99      0.99       167\n",
      " technology       0.98      0.96      0.97       117\n",
      "\n",
      "avg / total       0.98      0.98      0.98       423\n",
      "\n",
      "[[136   1   2]\n",
      " [  1 166   0]\n",
      " [  2   3 112]]\n",
      "Confusion Matrix\n"
     ]
    },
    {
     "data": {
      "text/html": [
       "<div>\n",
       "<style scoped>\n",
       "    .dataframe tbody tr th:only-of-type {\n",
       "        vertical-align: middle;\n",
       "    }\n",
       "\n",
       "    .dataframe tbody tr th {\n",
       "        vertical-align: top;\n",
       "    }\n",
       "\n",
       "    .dataframe thead th {\n",
       "        text-align: right;\n",
       "    }\n",
       "</style>\n",
       "<table border=\"1\" class=\"dataframe\">\n",
       "  <thead>\n",
       "    <tr style=\"text-align: right;\">\n",
       "      <th>Predicted</th>\n",
       "      <th>business</th>\n",
       "      <th>sport</th>\n",
       "      <th>technology</th>\n",
       "      <th>All</th>\n",
       "    </tr>\n",
       "    <tr>\n",
       "      <th>True</th>\n",
       "      <th></th>\n",
       "      <th></th>\n",
       "      <th></th>\n",
       "      <th></th>\n",
       "    </tr>\n",
       "  </thead>\n",
       "  <tbody>\n",
       "    <tr>\n",
       "      <th>business</th>\n",
       "      <td>136</td>\n",
       "      <td>1</td>\n",
       "      <td>2</td>\n",
       "      <td>139</td>\n",
       "    </tr>\n",
       "    <tr>\n",
       "      <th>sport</th>\n",
       "      <td>1</td>\n",
       "      <td>166</td>\n",
       "      <td>0</td>\n",
       "      <td>167</td>\n",
       "    </tr>\n",
       "    <tr>\n",
       "      <th>technology</th>\n",
       "      <td>2</td>\n",
       "      <td>3</td>\n",
       "      <td>112</td>\n",
       "      <td>117</td>\n",
       "    </tr>\n",
       "    <tr>\n",
       "      <th>All</th>\n",
       "      <td>139</td>\n",
       "      <td>170</td>\n",
       "      <td>114</td>\n",
       "      <td>423</td>\n",
       "    </tr>\n",
       "  </tbody>\n",
       "</table>\n",
       "</div>"
      ],
      "text/plain": [
       "Predicted   business  sport  technology  All\n",
       "True                                        \n",
       "business         136      1           2  139\n",
       "sport              1    166           0  167\n",
       "technology         2      3         112  117\n",
       "All              139    170         114  423"
      ]
     },
     "execution_count": 17,
     "metadata": {},
     "output_type": "execute_result"
    }
   ],
   "source": [
    "# Make a set of predictions for the training data\n",
    "y_pred = nb_classifier.predict(count_test)\n",
    "\n",
    "# Print performance details\n",
    "accuracy = metrics.accuracy_score(y_test, y_pred) # finding accuracy i\n",
    "print(\"Accuracy: \" +  str(accuracy))\n",
    "print(metrics.classification_report(y_test, y_pred))\n",
    "\n",
    "# Print confusion matrix\n",
    "print(metrics.confusion_matrix(y_test, y_pred))\n",
    "\n",
    "# Print nicer homemade confusion matrix\n",
    "print(\"Confusion Matrix\")\n",
    "pd.crosstab(y_test, y_pred, rownames=['True'], colnames=['Predicted'], margins=True)"
   ]
  },
  {
   "cell_type": "markdown",
   "metadata": {},
   "source": [
    "#### Cross Validation by accuracy and f1 scoring metrics"
   ]
  },
  {
   "cell_type": "code",
   "execution_count": 18,
   "metadata": {
    "collapsed": false
   },
   "outputs": [
    {
     "name": "stdout",
     "output_type": "stream",
     "text": [
      "Accuracy scores:  [ 0.98591549  0.97864769  0.97864769  0.96797153  0.98932384]\n",
      "MultinomialNB: Mean cross-validation accuracy = 0.9801012480577415\n",
      "\n",
      "F1_weighted scores:  [ 0.98590665  0.9786105   0.97861559  0.96802728  0.98929784]\n",
      "MultinomialNB: Mean cross-validation f1 score = 0.9800915695028\n"
     ]
    }
   ],
   "source": [
    "scores = cross_val_score(nb_classifier, count_dataset, Y, cv=5, scoring=\"accuracy\")\n",
    "print(\"Accuracy scores: \", scores)\n",
    "# Calculate the average accuracy across all folds:\n",
    "print(\"MultinomialNB: Mean cross-validation accuracy = {}\".format(scores.mean() ))\n",
    "acc_dict[\"MultinomialNB\"] = scores.mean()\n",
    "print()\n",
    "\n",
    "# Calculate the average f1_weighted score across all folds:\n",
    "# Calculating metrics for each label, and finding their average, weighted by support.\n",
    "scores = cross_val_score(nb_classifier, count_dataset, Y, cv=5, scoring=\"f1_weighted\")\n",
    "print(\"F1_weighted scores: \", scores)\n",
    "print(\"MultinomialNB: Mean cross-validation f1 score = {}\".format(scores.mean() ))\n",
    "f1_dict[\"MultinomialNB\"] = scores.mean()"
   ]
  },
  {
   "cell_type": "markdown",
   "metadata": {},
   "source": [
    "#### Simple Decision Tree"
   ]
  },
  {
   "cell_type": "code",
   "execution_count": 19,
   "metadata": {
    "collapsed": false
   },
   "outputs": [],
   "source": [
    "my_tree = tree.DecisionTreeClassifier(criterion=\"entropy\")\n",
    "my_tree = my_tree.fit(count_train, y_train)"
   ]
  },
  {
   "cell_type": "markdown",
   "metadata": {},
   "source": [
    "Evaluation on the holdout test dataset"
   ]
  },
  {
   "cell_type": "code",
   "execution_count": 20,
   "metadata": {
    "collapsed": false
   },
   "outputs": [
    {
     "name": "stdout",
     "output_type": "stream",
     "text": [
      "Accuracy: 0.926713947991\n",
      "             precision    recall  f1-score   support\n",
      "\n",
      "   business       0.88      0.94      0.91       139\n",
      "      sport       0.95      0.96      0.96       167\n",
      " technology       0.94      0.87      0.91       117\n",
      "\n",
      "avg / total       0.93      0.93      0.93       423\n",
      "\n",
      "[[130   4   5]\n",
      " [  6 160   1]\n",
      " [ 11   4 102]]\n",
      "Confusion Matrix\n"
     ]
    },
    {
     "data": {
      "text/html": [
       "<div>\n",
       "<style scoped>\n",
       "    .dataframe tbody tr th:only-of-type {\n",
       "        vertical-align: middle;\n",
       "    }\n",
       "\n",
       "    .dataframe tbody tr th {\n",
       "        vertical-align: top;\n",
       "    }\n",
       "\n",
       "    .dataframe thead th {\n",
       "        text-align: right;\n",
       "    }\n",
       "</style>\n",
       "<table border=\"1\" class=\"dataframe\">\n",
       "  <thead>\n",
       "    <tr style=\"text-align: right;\">\n",
       "      <th>Predicted</th>\n",
       "      <th>business</th>\n",
       "      <th>sport</th>\n",
       "      <th>technology</th>\n",
       "      <th>All</th>\n",
       "    </tr>\n",
       "    <tr>\n",
       "      <th>True</th>\n",
       "      <th></th>\n",
       "      <th></th>\n",
       "      <th></th>\n",
       "      <th></th>\n",
       "    </tr>\n",
       "  </thead>\n",
       "  <tbody>\n",
       "    <tr>\n",
       "      <th>business</th>\n",
       "      <td>130</td>\n",
       "      <td>4</td>\n",
       "      <td>5</td>\n",
       "      <td>139</td>\n",
       "    </tr>\n",
       "    <tr>\n",
       "      <th>sport</th>\n",
       "      <td>6</td>\n",
       "      <td>160</td>\n",
       "      <td>1</td>\n",
       "      <td>167</td>\n",
       "    </tr>\n",
       "    <tr>\n",
       "      <th>technology</th>\n",
       "      <td>11</td>\n",
       "      <td>4</td>\n",
       "      <td>102</td>\n",
       "      <td>117</td>\n",
       "    </tr>\n",
       "    <tr>\n",
       "      <th>All</th>\n",
       "      <td>147</td>\n",
       "      <td>168</td>\n",
       "      <td>108</td>\n",
       "      <td>423</td>\n",
       "    </tr>\n",
       "  </tbody>\n",
       "</table>\n",
       "</div>"
      ],
      "text/plain": [
       "Predicted   business  sport  technology  All\n",
       "True                                        \n",
       "business         130      4           5  139\n",
       "sport              6    160           1  167\n",
       "technology        11      4         102  117\n",
       "All              147    168         108  423"
      ]
     },
     "execution_count": 20,
     "metadata": {},
     "output_type": "execute_result"
    }
   ],
   "source": [
    "# Make a set of predictions for the training data\n",
    "y_pred = my_tree.predict(count_test)\n",
    "\n",
    "# Print performance details\n",
    "accuracy = metrics.accuracy_score(y_test, y_pred) # , normalize=True, sample_weight=None\n",
    "print(\"Accuracy: \" +  str(accuracy))\n",
    "print(metrics.classification_report(y_test, y_pred))\n",
    "\n",
    "# Print confusion matrix\n",
    "print(metrics.confusion_matrix(y_test, y_pred))\n",
    "\n",
    "# Print nicer homemade confusion matrix\n",
    "print(\"Confusion Matrix\")\n",
    "pd.crosstab(y_test, y_pred, rownames=['True'], colnames=['Predicted'], margins=True)"
   ]
  },
  {
   "cell_type": "markdown",
   "metadata": {},
   "source": [
    "#### Cross Validation by accuracy and f1 scoring metrics"
   ]
  },
  {
   "cell_type": "code",
   "execution_count": 21,
   "metadata": {
    "collapsed": false
   },
   "outputs": [
    {
     "name": "stdout",
     "output_type": "stream",
     "text": [
      "Accuracy scores:  [ 0.91549296  0.91103203  0.87900356  0.88967972  0.85765125]\n",
      "Decision Tree: Mean cross-validation accuracy = 0.8905719011578366\n",
      "\n",
      "F1_weighted scores:  [ 0.91543306  0.91092072  0.87123954  0.88615796  0.86467416]\n",
      "Decision Tree: Mean cross-validation f1 score = 0.8896850891849132\n"
     ]
    }
   ],
   "source": [
    "scores = cross_val_score(my_tree, count_dataset, Y, cv=5, scoring=\"accuracy\")\n",
    "print(\"Accuracy scores: \", scores)\n",
    "# Calculate the average accuracy across all folds:\n",
    "print(\"Decision Tree: Mean cross-validation accuracy = {}\".format(scores.mean() ))\n",
    "acc_dict[\"Decision Tree\"] = scores.mean()\n",
    "print()\n",
    "\n",
    "# Calculate the average f1_weighted score across all folds:\n",
    "# Calculating metrics for each label, and finding their average, weighted by support.\n",
    "scores = cross_val_score(my_tree, count_dataset, Y, cv=5, scoring=\"f1_weighted\")\n",
    "print(\"F1_weighted scores: \", scores)\n",
    "print(\"Decision Tree: Mean cross-validation f1 score = {}\".format(scores.mean() ))\n",
    "f1_dict[\"Decision Tree\"] = scores.mean()"
   ]
  },
  {
   "cell_type": "markdown",
   "metadata": {},
   "source": [
    "#### Support Vector Machine"
   ]
  },
  {
   "cell_type": "code",
   "execution_count": 22,
   "metadata": {
    "collapsed": false
   },
   "outputs": [
    {
     "data": {
      "text/plain": [
       "SVC(C=1.0, cache_size=200, class_weight=None, coef0=0.0,\n",
       "  decision_function_shape='ovr', degree=3, gamma='auto', kernel='linear',\n",
       "  max_iter=-1, probability=False, random_state=None, shrinking=True,\n",
       "  tol=0.001, verbose=False)"
      ]
     },
     "execution_count": 22,
     "metadata": {},
     "output_type": "execute_result"
    }
   ],
   "source": [
    "my_svm = svm.SVC(kernel=\"linear\")\n",
    "my_svm.fit(count_train, y_train)"
   ]
  },
  {
   "cell_type": "markdown",
   "metadata": {},
   "source": [
    "Evaluation on the holdout test dataset"
   ]
  },
  {
   "cell_type": "code",
   "execution_count": 23,
   "metadata": {
    "collapsed": false
   },
   "outputs": [
    {
     "name": "stdout",
     "output_type": "stream",
     "text": [
      "Accuracy: 0.983451536643\n",
      "             precision    recall  f1-score   support\n",
      "\n",
      "   business       0.99      0.98      0.98       139\n",
      "      sport       0.98      0.99      0.99       167\n",
      " technology       0.99      0.97      0.98       117\n",
      "\n",
      "avg / total       0.98      0.98      0.98       423\n",
      "\n",
      "[[136   2   1]\n",
      " [  1 166   0]\n",
      " [  1   2 114]]\n",
      "Confusion Matrix\n"
     ]
    },
    {
     "data": {
      "text/html": [
       "<div>\n",
       "<style scoped>\n",
       "    .dataframe tbody tr th:only-of-type {\n",
       "        vertical-align: middle;\n",
       "    }\n",
       "\n",
       "    .dataframe tbody tr th {\n",
       "        vertical-align: top;\n",
       "    }\n",
       "\n",
       "    .dataframe thead th {\n",
       "        text-align: right;\n",
       "    }\n",
       "</style>\n",
       "<table border=\"1\" class=\"dataframe\">\n",
       "  <thead>\n",
       "    <tr style=\"text-align: right;\">\n",
       "      <th>Predicted</th>\n",
       "      <th>business</th>\n",
       "      <th>sport</th>\n",
       "      <th>technology</th>\n",
       "      <th>All</th>\n",
       "    </tr>\n",
       "    <tr>\n",
       "      <th>True</th>\n",
       "      <th></th>\n",
       "      <th></th>\n",
       "      <th></th>\n",
       "      <th></th>\n",
       "    </tr>\n",
       "  </thead>\n",
       "  <tbody>\n",
       "    <tr>\n",
       "      <th>business</th>\n",
       "      <td>136</td>\n",
       "      <td>2</td>\n",
       "      <td>1</td>\n",
       "      <td>139</td>\n",
       "    </tr>\n",
       "    <tr>\n",
       "      <th>sport</th>\n",
       "      <td>1</td>\n",
       "      <td>166</td>\n",
       "      <td>0</td>\n",
       "      <td>167</td>\n",
       "    </tr>\n",
       "    <tr>\n",
       "      <th>technology</th>\n",
       "      <td>1</td>\n",
       "      <td>2</td>\n",
       "      <td>114</td>\n",
       "      <td>117</td>\n",
       "    </tr>\n",
       "    <tr>\n",
       "      <th>All</th>\n",
       "      <td>138</td>\n",
       "      <td>170</td>\n",
       "      <td>115</td>\n",
       "      <td>423</td>\n",
       "    </tr>\n",
       "  </tbody>\n",
       "</table>\n",
       "</div>"
      ],
      "text/plain": [
       "Predicted   business  sport  technology  All\n",
       "True                                        \n",
       "business         136      2           1  139\n",
       "sport              1    166           0  167\n",
       "technology         1      2         114  117\n",
       "All              138    170         115  423"
      ]
     },
     "execution_count": 23,
     "metadata": {},
     "output_type": "execute_result"
    }
   ],
   "source": [
    "# Make a set of predictions for the training data\n",
    "y_pred = my_svm.predict(count_test)\n",
    "\n",
    "# Print performance details\n",
    "accuracy = metrics.accuracy_score(y_test, y_pred) # , normalize=True, sample_weight=None\n",
    "print(\"Accuracy: \" +  str(accuracy))\n",
    "print(metrics.classification_report(y_test, y_pred))\n",
    "\n",
    "# Print confusion matrix\n",
    "print(metrics.confusion_matrix(y_test, y_pred))\n",
    "\n",
    "# Print nicer homemade confusion matrix\n",
    "print(\"Confusion Matrix\")\n",
    "pd.crosstab(y_test, y_pred, rownames=['True'], colnames=['Predicted'], margins=True)"
   ]
  },
  {
   "cell_type": "markdown",
   "metadata": {
    "collapsed": true
   },
   "source": [
    "#### Cross Validation by accuracy and f1 scoring metrics"
   ]
  },
  {
   "cell_type": "code",
   "execution_count": 24,
   "metadata": {
    "collapsed": false
   },
   "outputs": [
    {
     "name": "stdout",
     "output_type": "stream",
     "text": [
      "Accuracy scores:  [ 0.98591549  0.98932384  0.97508897  0.97153025  0.98932384]\n",
      "SVM: Mean cross-validation accuracy = 0.9822364793744676\n",
      "\n",
      "F1_weighted scores:  [ 0.98590665  0.98933047  0.97506087  0.9715911   0.98929844]\n",
      "SVM: Mean cross-validation f1 score = 0.9822375041735943\n"
     ]
    }
   ],
   "source": [
    "scores = cross_val_score(my_svm, count_dataset, Y, cv=5, scoring=\"accuracy\")\n",
    "print(\"Accuracy scores: \", scores)\n",
    "# Calculate the average accuracy across all folds:\n",
    "print(\"SVM: Mean cross-validation accuracy = {}\".format(scores.mean() ))\n",
    "acc_dict[\"SVM\"] = scores.mean()\n",
    "print()\n",
    "\n",
    "# Calculate the average f1_weighted score across all folds:\n",
    "# Calculating metrics for each label, and finding their average, weighted by support.\n",
    "scores = cross_val_score(my_svm, count_dataset, Y, cv=5, scoring=\"f1_weighted\")\n",
    "print(\"F1_weighted scores: \", scores)\n",
    "print(\"SVM: Mean cross-validation f1 score = {}\".format(scores.mean() ))\n",
    "f1_dict[\"SVM\"] = scores.mean()"
   ]
  },
  {
   "cell_type": "markdown",
   "metadata": {},
   "source": [
    "#### Artificial Neural Network"
   ]
  },
  {
   "cell_type": "code",
   "execution_count": 25,
   "metadata": {
    "collapsed": false
   },
   "outputs": [
    {
     "data": {
      "text/plain": [
       "MLPClassifier(activation='relu', alpha=0.0001, batch_size='auto', beta_1=0.9,\n",
       "       beta_2=0.999, early_stopping=False, epsilon=1e-08,\n",
       "       hidden_layer_sizes=(100,), learning_rate='constant',\n",
       "       learning_rate_init=0.001, max_iter=200, momentum=0.9,\n",
       "       nesterovs_momentum=True, power_t=0.5, random_state=None,\n",
       "       shuffle=True, solver='adam', tol=0.0001, validation_fraction=0.1,\n",
       "       verbose=False, warm_start=False)"
      ]
     },
     "execution_count": 25,
     "metadata": {},
     "output_type": "execute_result"
    }
   ],
   "source": [
    "my_nn = neural_network.MLPClassifier()\n",
    "my_nn.fit(count_train, y_train)"
   ]
  },
  {
   "cell_type": "markdown",
   "metadata": {},
   "source": [
    "Evaluation on the holdout test dataset"
   ]
  },
  {
   "cell_type": "code",
   "execution_count": 26,
   "metadata": {
    "collapsed": false
   },
   "outputs": [
    {
     "name": "stdout",
     "output_type": "stream",
     "text": [
      "Accuracy: 0.988179669031\n",
      "             precision    recall  f1-score   support\n",
      "\n",
      "   business       0.99      0.99      0.99       139\n",
      "      sport       0.98      0.99      0.99       167\n",
      " technology       0.99      0.98      0.99       117\n",
      "\n",
      "avg / total       0.99      0.99      0.99       423\n",
      "\n",
      "[[137   1   1]\n",
      " [  1 166   0]\n",
      " [  0   2 115]]\n",
      "Confusion Matrix\n"
     ]
    },
    {
     "data": {
      "text/html": [
       "<div>\n",
       "<style scoped>\n",
       "    .dataframe tbody tr th:only-of-type {\n",
       "        vertical-align: middle;\n",
       "    }\n",
       "\n",
       "    .dataframe tbody tr th {\n",
       "        vertical-align: top;\n",
       "    }\n",
       "\n",
       "    .dataframe thead th {\n",
       "        text-align: right;\n",
       "    }\n",
       "</style>\n",
       "<table border=\"1\" class=\"dataframe\">\n",
       "  <thead>\n",
       "    <tr style=\"text-align: right;\">\n",
       "      <th>Predicted</th>\n",
       "      <th>business</th>\n",
       "      <th>sport</th>\n",
       "      <th>technology</th>\n",
       "      <th>All</th>\n",
       "    </tr>\n",
       "    <tr>\n",
       "      <th>True</th>\n",
       "      <th></th>\n",
       "      <th></th>\n",
       "      <th></th>\n",
       "      <th></th>\n",
       "    </tr>\n",
       "  </thead>\n",
       "  <tbody>\n",
       "    <tr>\n",
       "      <th>business</th>\n",
       "      <td>137</td>\n",
       "      <td>1</td>\n",
       "      <td>1</td>\n",
       "      <td>139</td>\n",
       "    </tr>\n",
       "    <tr>\n",
       "      <th>sport</th>\n",
       "      <td>1</td>\n",
       "      <td>166</td>\n",
       "      <td>0</td>\n",
       "      <td>167</td>\n",
       "    </tr>\n",
       "    <tr>\n",
       "      <th>technology</th>\n",
       "      <td>0</td>\n",
       "      <td>2</td>\n",
       "      <td>115</td>\n",
       "      <td>117</td>\n",
       "    </tr>\n",
       "    <tr>\n",
       "      <th>All</th>\n",
       "      <td>138</td>\n",
       "      <td>169</td>\n",
       "      <td>116</td>\n",
       "      <td>423</td>\n",
       "    </tr>\n",
       "  </tbody>\n",
       "</table>\n",
       "</div>"
      ],
      "text/plain": [
       "Predicted   business  sport  technology  All\n",
       "True                                        \n",
       "business         137      1           1  139\n",
       "sport              1    166           0  167\n",
       "technology         0      2         115  117\n",
       "All              138    169         116  423"
      ]
     },
     "execution_count": 26,
     "metadata": {},
     "output_type": "execute_result"
    }
   ],
   "source": [
    "# Make a set of predictions for the training data\n",
    "y_pred = my_nn.predict(count_test)\n",
    "\n",
    "# Print performance details\n",
    "accuracy = metrics.accuracy_score(y_test, y_pred) # , normalize=True, sample_weight=None\n",
    "print(\"Accuracy: \" +  str(accuracy))\n",
    "print(metrics.classification_report(y_test, y_pred))\n",
    "\n",
    "# Print confusion matrix\n",
    "print(metrics.confusion_matrix(y_test, y_pred))\n",
    "\n",
    "# Print nicer homemade confusion matrix\n",
    "print(\"Confusion Matrix\")\n",
    "pd.crosstab(y_test, y_pred, rownames=['True'], colnames=['Predicted'], margins=True)"
   ]
  },
  {
   "cell_type": "markdown",
   "metadata": {},
   "source": [
    "#### Cross Validation by accuracy and f1 scoring metrics"
   ]
  },
  {
   "cell_type": "code",
   "execution_count": 27,
   "metadata": {
    "collapsed": false
   },
   "outputs": [
    {
     "name": "stdout",
     "output_type": "stream",
     "text": [
      "Accuracy scores:  [ 0.98239437  0.98576512  0.97508897  0.97508897  0.99288256]\n",
      "MLP: Mean cross-validation accuracy = 0.9822439977945967\n",
      "\n",
      "F1_weighted scores:  [ 0.98590665  0.98223598  0.97867881  0.9715911   0.99643823]\n",
      "MLP: Mean cross-validation f1 score = 0.9829701539117878\n"
     ]
    }
   ],
   "source": [
    "scores = cross_val_score(my_nn, count_dataset, Y, cv=5, scoring=\"accuracy\")\n",
    "print(\"Accuracy scores: \", scores)\n",
    "# Calculate the average accuracy across all folds:\n",
    "print(\"MLP: Mean cross-validation accuracy = {}\".format(scores.mean() ))\n",
    "acc_dict[\"MLP\"] = scores.mean()\n",
    "print()\n",
    "\n",
    "# Calculate the average f1_weighted score across all folds:\n",
    "# Calculating metrics for each label, and finding their average, weighted by support.\n",
    "scores = cross_val_score(my_nn, count_dataset, Y, cv=5, scoring=\"f1_weighted\")\n",
    "print(\"F1_weighted scores: \", scores)\n",
    "print(\"MLP: Mean cross-validation f1 score = {}\".format(scores.mean() ))\n",
    "f1_dict[\"MLP\"] = scores.mean()"
   ]
  },
  {
   "cell_type": "markdown",
   "metadata": {},
   "source": [
    "### 2.4. Evaluating Performance of Classifiers\n",
    "For evaluation purpose, I have used two strategies\n",
    "\n",
    "One-Way Holdout Strategy: <br>\n",
    "I have used 70-30 split and trained the models using 70% of data and evaluated performance on 30% of holdout test data.\n",
    "\n",
    "5-fold Cross Validation: <br>\n",
    "I have used 5 fold CV on the entire dataset. Cross-validation strategy is **more robust** than One-Way holdout strategy. So, using the mean accuracy score of CV for analysis."
   ]
  },
  {
   "cell_type": "code",
   "execution_count": 28,
   "metadata": {
    "collapsed": false
   },
   "outputs": [
    {
     "data": {
      "text/plain": [
       "{'Decision Tree': 0.89057190115783658,\n",
       " 'MLP': 0.9822439977945967,\n",
       " 'MultinomialNB': 0.98010124805774146,\n",
       " 'SVM': 0.98223647937446756}"
      ]
     },
     "execution_count": 28,
     "metadata": {},
     "output_type": "execute_result"
    }
   ],
   "source": [
    "acc_dict"
   ]
  },
  {
   "cell_type": "code",
   "execution_count": 29,
   "metadata": {
    "collapsed": false
   },
   "outputs": [
    {
     "data": {
      "image/png": "[encoded data removed]",
      "text/plain": [
       "<matplotlib.figure.Figure at 0x1acbf5f78d0>"
      ]
     },
     "metadata": {},
     "output_type": "display_data"
    }
   ],
   "source": [
    "classifiers = acc_dict.keys()\n",
    "x_position = np.arange(len(classifiers))\n",
    "accuracy_values = acc_dict.values()\n",
    "plt.figure(figsize=(8,6))\n",
    "plt.bar(x_position, accuracy_values, align='center', width=0.6, color= ['#624ea7', 'red', 'yellow', 'green'])\n",
    "plt.xticks(x_position, classifiers)\n",
    "plt.xlabel('Models', fontsize='12')\n",
    "plt.ylabel('Accuracy', fontsize='12')\n",
    "plt.ylim(0.8, 1)\n",
    "plt.title('Accuracy Vs Models',fontsize='12')\n",
    "plt.show()"
   ]
  },
  {
   "cell_type": "code",
   "execution_count": 30,
   "metadata": {
    "collapsed": false
   },
   "outputs": [
    {
     "data": {
      "text/plain": [
       "{'Decision Tree': 0.88968508918491318,\n",
       " 'MLP': 0.98297015391178777,\n",
       " 'MultinomialNB': 0.98009156950279996,\n",
       " 'SVM': 0.98223750417359434}"
      ]
     },
     "execution_count": 30,
     "metadata": {},
     "output_type": "execute_result"
    }
   ],
   "source": [
    "f1_dict"
   ]
  },
  {
   "cell_type": "code",
   "execution_count": 31,
   "metadata": {
    "collapsed": false
   },
   "outputs": [
    {
     "data": {
      "image/png": "[encoded data removed]",
      "text/plain": [
       "<matplotlib.figure.Figure at 0x1acbf5f73c8>"
      ]
     },
     "metadata": {},
     "output_type": "display_data"
    }
   ],
   "source": [
    "classifiers = f1_dict.keys()\n",
    "x_position = np.arange(len(classifiers))\n",
    "accuracy_values = f1_dict.values()\n",
    "plt.figure(figsize=(8,6))\n",
    "plt.bar(x_position, accuracy_values, align='center', width=0.6,  color= ['#624ea7', 'red', 'yellow', 'green'])\n",
    "plt.xticks(x_position, classifiers)\n",
    "plt.xlabel('Models', fontsize='12')\n",
    "plt.ylabel('F1 score', fontsize='12')\n",
    "plt.ylim(0.8, 1)\n",
    "plt.title('Weighted F1 score Vs Models',fontsize='12')\n",
    "plt.show()"
   ]
  },
  {
   "cell_type": "code",
   "execution_count": 32,
   "metadata": {
    "collapsed": false
   },
   "outputs": [
    {
     "name": "stdout",
     "output_type": "stream",
     "text": [
      "time taken to run entire note book is 7.71 minutes\n"
     ]
    }
   ],
   "source": [
    "tocks = time.time()\n",
    "mins = (tocks-ticks) / 60\n",
    "print(\"time taken to run entire note book is {0:.2f} minutes\".format(mins))"
   ]
  },
  {
   "cell_type": "markdown",
   "metadata": {},
   "source": [
    "## Observations"
   ]
  },
  {
   "cell_type": "markdown",
   "metadata": {},
   "source": [
    "- Multinomial Navie Bayes is variant of naive Bayes which is widely used for topic modelling. Naive Bayes treat terms independent which might miss the context of the word which depends on previous words but surprisingly for our corpus it worked well. \n",
    "- Decision Tree doesn't perform too well on given dataset compared to other three classifiers.\n",
    "- SVM with hyperparameter Kernal=\"linear\" gave almost 98% accuracy\n",
    "- My favourite model, MLP works almost as good as SVM with default parameters and on such small dataset (1408 examples). By further tuning hyperparameters, we could achieve better model."
   ]
  },
  {
   "cell_type": "markdown",
   "metadata": {},
   "source": [
    "## Conclusion"
   ]
  },
  {
   "cell_type": "markdown",
   "metadata": {},
   "source": [
    "- As data labels are not uniformly distributed so Accuracy is not the best measure for evaluation. So, I have considered the Weighted F1 score.\n",
    "- Though for our dataset, the F1 and accuracy scores are almost similar there is no significant difference.\n",
    "- Performance of Multinomial NB, MLP and SVM classifiers is far better than the Decision tree\n",
    "- SVM's linear kernel is computationally very cheap and works better with text.\n",
    "- To get the better insight of relationship between words for text classification using of 2-gram words is helpful\n",
    "- We can say that our all models are performing too well on this small corpus and this might not be the case when we are classiying the articles which comes from differnt data distribution."
   ]
  }
 ],
 "metadata": {
  "kernelspec": {
   "display_name": "Python 3",
   "language": "python",
   "name": "python3"
  },
  "language_info": {
   "codemirror_mode": {
    "name": "ipython",
    "version": 3
   },
   "file_extension": ".py",
   "mimetype": "text/x-python",
   "name": "python",
   "nbconvert_exporter": "python",
   "pygments_lexer": "ipython3",
   "version": "3.6.0"
  }
 },
 "nbformat": 4,
 "nbformat_minor": 2
}
