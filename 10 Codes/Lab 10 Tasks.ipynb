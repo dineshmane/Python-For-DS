{
 "cells": [
  {
   "cell_type": "markdown",
   "metadata": {},
   "source": [
    "## Lab 10 Tasks - Solutions"
   ]
  },
  {
   "cell_type": "markdown",
   "metadata": {},
   "source": [
    "Step 1. Download the *Diabetes* dataset from the link below, and load the data into a Pandas Data Frame.\n",
    "\n",
    "http://mlg.ucd.ie/modules/COMP41680/diabetes.csv\n",
    "\n",
    "The goal of the classification tasks for this dataset is to predict whether a patient will test 'positve' or 'negative' for diabetes, based on 8 numeric features."
   ]
  },
  {
   "cell_type": "code",
   "execution_count": 1,
   "metadata": {
    "collapsed": false
   },
   "outputs": [],
   "source": [
    "import pandas as pd"
   ]
  },
  {
   "cell_type": "code",
   "execution_count": 2,
   "metadata": {
    "collapsed": false
   },
   "outputs": [],
   "source": [
    "dataset = pd.read_csv(\"http://mlg.ucd.ie/modules/COMP41680/diabetes.csv\")\n"
   ]
  },
  {
   "cell_type": "markdown",
   "metadata": {},
   "source": [
    "Step 2. Separate the numeric features from the target classs labels."
   ]
  },
  {
   "cell_type": "code",
   "execution_count": 3,
   "metadata": {
    "collapsed": false
   },
   "outputs": [
    {
     "name": "stdout",
     "output_type": "stream",
     "text": [
      "(739, 8)\n",
      "(739,)\n"
     ]
    }
   ],
   "source": [
    "dataset.head()\n",
    "X = dataset[dataset.columns.difference([\"class\"])]\n",
    "Y = dataset[\"class\"]\n",
    "print(X.shape)\n",
    "print(Y.shape)"
   ]
  },
  {
   "cell_type": "markdown",
   "metadata": {},
   "source": [
    "Step 3. Generate a 60/40 random training and test split of the data. Based on this split, evaluate the accuracy achieved by a KNN classifier on the *Diabetes* dataset for: K=1, K=3, K=5"
   ]
  },
  {
   "cell_type": "code",
   "execution_count": 4,
   "metadata": {
    "collapsed": true
   },
   "outputs": [],
   "source": [
    "from sklearn.model_selection import train_test_split, cross_val_score\n",
    "from sklearn.neighbors import KNeighborsClassifier\n",
    "from sklearn.metrics import *\n"
   ]
  },
  {
   "cell_type": "code",
   "execution_count": 5,
   "metadata": {
    "collapsed": true
   },
   "outputs": [],
   "source": [
    "train_X, test_X, train_Y, test_Y = train_test_split(X, Y, test_size=0.4, shuffle=True)"
   ]
  },
  {
   "cell_type": "markdown",
   "metadata": {},
   "source": [
    "for k=1"
   ]
  },
  {
   "cell_type": "code",
   "execution_count": 6,
   "metadata": {
    "collapsed": false
   },
   "outputs": [
    {
     "data": {
      "text/plain": [
       "0.66554054054054057"
      ]
     },
     "execution_count": 6,
     "metadata": {},
     "output_type": "execute_result"
    }
   ],
   "source": [
    "model1 = KNeighborsClassifier(n_neighbors=1)\n",
    "model1.fit(train_X, train_Y)\n",
    "y_pred = model1.predict(test_X)\n",
    "accuracy_score(test_Y, y_pred) "
   ]
  },
  {
   "cell_type": "markdown",
   "metadata": {},
   "source": [
    "for k=3"
   ]
  },
  {
   "cell_type": "code",
   "execution_count": 7,
   "metadata": {
    "collapsed": false
   },
   "outputs": [
    {
     "data": {
      "text/plain": [
       "0.69256756756756754"
      ]
     },
     "execution_count": 7,
     "metadata": {},
     "output_type": "execute_result"
    }
   ],
   "source": [
    "model2 = KNeighborsClassifier(n_neighbors=3)\n",
    "model2.fit(train_X, train_Y)\n",
    "y_pred = model2.predict(test_X)\n",
    "accuracy_score(test_Y, y_pred) "
   ]
  },
  {
   "cell_type": "markdown",
   "metadata": {},
   "source": [
    "for k=5"
   ]
  },
  {
   "cell_type": "code",
   "execution_count": 8,
   "metadata": {
    "collapsed": false
   },
   "outputs": [
    {
     "data": {
      "text/plain": [
       "0.69594594594594594"
      ]
     },
     "execution_count": 8,
     "metadata": {},
     "output_type": "execute_result"
    }
   ],
   "source": [
    "model3 = KNeighborsClassifier(n_neighbors=5)\n",
    "model3.fit(train_X, train_Y)\n",
    "y_pred = model3.predict(test_X)\n",
    "accuracy_score(test_Y, y_pred) "
   ]
  },
  {
   "cell_type": "markdown",
   "metadata": {},
   "source": [
    "Step 4. Use 5-fold cross-validation to evaluate the accuracy achieved by a KNN classifier on the *Diabetes* dataset for: K=1, K=3, K=5"
   ]
  },
  {
   "cell_type": "code",
   "execution_count": 9,
   "metadata": {
    "collapsed": false
   },
   "outputs": [
    {
     "name": "stdout",
     "output_type": "stream",
     "text": [
      "For k=1 :  [ 0.64864865  0.64864865  0.68243243  0.7027027   0.6122449 ]\n",
      "For k=3 :  [ 0.66891892  0.73648649  0.75675676  0.74324324  0.68707483]\n",
      "For k=5 :  [ 0.71621622  0.72972973  0.72297297  0.69594595  0.69387755]\n",
      "Mean score for :::\n",
      "k=1 : 0.658935466078\n",
      "k=3 : 0.718496047067\n",
      "k=5 : 0.711748483177\n"
     ]
    }
   ],
   "source": [
    "score1 = cross_val_score(model1, X, Y,cv=5, scoring=\"accuracy\")\n",
    "print(\"For k=1 : \", score1)\n",
    "score2 = cross_val_score(model2, X, Y,cv=5, scoring=\"accuracy\")\n",
    "print(\"For k=3 : \", score2)\n",
    "score3 = cross_val_score(model3, X, Y,cv=5, scoring=\"accuracy\")\n",
    "print(\"For k=5 : \", score3)\n",
    "\n",
    "print(\"Mean score for :::\")\n",
    "print(\"k=1 :\", score1.mean())\n",
    "print(\"k=3 :\", score2.mean())\n",
    "print(\"k=5 :\", score3.mean())"
   ]
  },
  {
   "cell_type": "markdown",
   "metadata": {},
   "source": [
    "Step 5. Using the best performing number of nearest neighbours from Step 4, build a KNN model on the entire Diabetes dataset.\n",
    "\n",
    "Use the model to make positive or negative predictions for the new unseen input data from the link below.\n",
    "\n",
    "http://mlg.ucd.ie/modules/COMP41680/diabetes-unseen.csv"
   ]
  },
  {
   "cell_type": "code",
   "execution_count": 10,
   "metadata": {
    "collapsed": false
   },
   "outputs": [],
   "source": [
    "model2.fit(X,Y)\n",
    "dataset_unseen = pd.read_csv(\"http://mlg.ucd.ie/modules/COMP41680/diabetes-unseen.csv\")\n",
    "y_pred = model2.predict(dataset_unseen)"
   ]
  },
  {
   "cell_type": "code",
   "execution_count": 11,
   "metadata": {
    "collapsed": false
   },
   "outputs": [
    {
     "data": {
      "text/plain": [
       "array(['negative', 'positive', 'positive', 'negative', 'negative',\n",
       "       'negative', 'positive', 'positive', 'negative', 'negative'], dtype=object)"
      ]
     },
     "execution_count": 11,
     "metadata": {},
     "output_type": "execute_result"
    }
   ],
   "source": [
    "y_pred"
   ]
  }
 ],
 "metadata": {
  "kernelspec": {
   "display_name": "Python 3",
   "language": "python",
   "name": "python3"
  },
  "language_info": {
   "codemirror_mode": {
    "name": "ipython",
    "version": 3
   },
   "file_extension": ".py",
   "mimetype": "text/x-python",
   "name": "python",
   "nbconvert_exporter": "python",
   "pygments_lexer": "ipython3",
   "version": "3.6.0"
  }
 },
 "nbformat": 4,
 "nbformat_minor": 1
}
