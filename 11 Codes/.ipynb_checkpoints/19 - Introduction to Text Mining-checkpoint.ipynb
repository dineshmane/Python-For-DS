{
 "cells": [
  {
   "cell_type": "markdown",
   "metadata": {},
   "source": [
    "## Introduction to Text Mining"
   ]
  },
  {
   "cell_type": "markdown",
   "metadata": {},
   "source": [
    "In this lab we look at a range of text mining techniques, available as part of Scikit-learn.\n",
    "\n",
    "As our sample corpus of text, we will read a collection of news articles. These articles have been stored in a single file and formatted so that one article appears on each line."
   ]
  },
  {
   "cell_type": "code",
   "execution_count": 1,
   "metadata": {
    "collapsed": false
   },
   "outputs": [
    {
     "name": "stdout",
     "output_type": "stream",
     "text": [
      "Read 45 raw text documents\n"
     ]
    }
   ],
   "source": [
    "fin = open(\"news-articles.txt\",\"r\")\n",
    "raw_documents = fin.readlines()\n",
    "fin.close()\n",
    "print(\"Read %d raw text documents\" % len(raw_documents))"
   ]
  },
  {
   "cell_type": "markdown",
   "metadata": {},
   "source": [
    "### Tokenizing Text"
   ]
  },
  {
   "cell_type": "markdown",
   "metadata": {},
   "source": [
    "Raw text documents are textual, not numeric. The first step in analysing unstructured documents is to split the raw text into individual tokens, each corresponding to a single term (word). As an example:"
   ]
  },
  {
   "cell_type": "code",
   "execution_count": 2,
   "metadata": {
    "collapsed": false
   },
   "outputs": [
    {
     "name": "stdout",
     "output_type": "stream",
     "text": [
      "Parry puts Gerrard 'above money' Listen to the full interview on Sport on Five and the BBC Sport website from 1900 GMT. But Parry, speaking exclusively to BBC Sport, also admits Gerrard, who has been constantly linked with Chelsea, will have the final say on his future. He told BBC Five Live: \"Steve\n"
     ]
    }
   ],
   "source": [
    "doc1 = raw_documents[0]\n",
    "# print a snippet\n",
    "print(doc1[0:300])"
   ]
  },
  {
   "cell_type": "markdown",
   "metadata": {},
   "source": [
    "We will use the built-in scikit-learn tokenizer to split this document into tokens. Note that we will perform *case conversion* first to convert the entire text to lowercase."
   ]
  },
  {
   "cell_type": "code",
   "execution_count": 3,
   "metadata": {
    "collapsed": false,
    "scrolled": true
   },
   "outputs": [
    {
     "name": "stdout",
     "output_type": "stream",
     "text": [
      "['parry', 'puts', 'gerrard', 'above', 'money', 'listen', 'to', 'the', 'full', 'interview']\n"
     ]
    }
   ],
   "source": [
    "from sklearn.feature_extraction.text import CountVectorizer\n",
    "tokenize = CountVectorizer().build_tokenizer()\n",
    "# convert to lowercase, then tokenize\n",
    "tokens1 = tokenize(doc1.lower())\n",
    "print(tokens1[:10])"
   ]
  },
  {
   "cell_type": "markdown",
   "metadata": {},
   "source": [
    "We immediately see that many of the words here are not useful (e.g. \"to\", \"the\" etc.). Scikit-learn provides a list of such *stop words*:"
   ]
  },
  {
   "cell_type": "code",
   "execution_count": 4,
   "metadata": {
    "collapsed": false
   },
   "outputs": [
    {
     "name": "stdout",
     "output_type": "stream",
     "text": [
      "frozenset({'much', 'after', 'although', 'even', 'beforehand', 'herein', 'hereupon', 'me', 'move', 'my', 'of', 'our', 'among', 'becomes', 'eleven', 'still', 'became', 'name', 'being', 'from', 'itself', 'up', 'keep', 'bottom', 'before', 'onto', 'without', 'us', 'will', 'therefore', 'where', 'again', 'third', 'con', 'twelve', 'none', 'bill', 'down', 'its', 'on', 'throughout', 'most', 'beyond', 'been', 'between', 'but', 'ten', 'least', 'may', 'themselves', 'myself', 'via', 'here', 'whose', 'are', 'done', 'for', 'across', 'cry', 'every', 'less', 'can', 'am', 'into', 'except', 'sometimes', 'thus', 'found', 'four', 'he', 'was', 'someone', 'whether', 'be', 'please', 'though', 'towards', 'whoever', 'yourselves', 'anywhere', 'around', 'fifty', 'hers', 'out', 'see', 'own', 'an', 'alone', 'have', 'take', 'detail', 'enough', 'once', 'too', 'thence', 'with', 'another', 'former', 'go', 'his', 'thereby', 'him', 'besides', 'nevertheless', 'by', 'hence', 'front', 'your', 'fifteen', 'anyway', 'as', 'it', 'or', 'few', 'nobody', 'anyone', 'through', 'several', 'somewhere', 'nowhere', 'never', 'she', 'is', 'many', 'five', 'same', 'her', 'they', 'ours', 'mostly', 'three', 'further', 'ever', 'these', 'anything', 'also', 'everyone', 'amoungst', 'nor', 'whereupon', 'you', 'perhaps', 'whole', 'against', 'noone', 'only', 'them', 'we', 'how', 'yet', 'namely', 'latter', 'who', 'sometime', 'system', 'often', 'should', 'together', 'herself', 'and', 'during', 're', 'nothing', 'whatever', 'etc', 'himself', 'fill', 'whereas', 'yours', 'under', 'something', 'some', 'becoming', 'mine', 'behind', 'ourselves', 'per', 'thin', 'such', 'over', 'anyhow', 'off', 'in', 'well', 'beside', 'above', 'wherever', 'very', 'if', 'due', 'give', 'hundred', 'somehow', 'formerly', 'then', 'there', 'this', 'when', 'twenty', 'amount', 'empty', 'fire', 'than', 'until', 'whereafter', 'un', 'two', 'each', 'back', 'elsewhere', 'otherwise', 'sincere', 'whereby', 'meanwhile', 'while', 'nine', 'i', 'about', 'because', 'eight', 'were', 'thru', 'other', 'any', 'couldnt', 'serious', 'either', 'seem', 'co', 'ie', 'within', 'whither', 'made', 'thereafter', 'whence', 'call', 'a', 'do', 'one', 'whenever', 'six', 'find', 'must', 'so', 'thereupon', 'eg', 'full', 'whom', 'everything', 'wherein', 'the', 'cannot', 'afterwards', 'almost', 'no', 'seeming', 'which', 'last', 'their', 'already', 'hereby', 'might', 'put', 'however', 'others', 'has', 'inc', 'below', 'become', 'cant', 'now', 'rather', 'next', 'top', 'else', 'sixty', 'why', 'show', 'since', 'therein', 'would', 'could', 'yourself', 'at', 'ltd', 'not', 'seems', 'amongst', 'side', 'latterly', 'mill', 'thick', 'more', 'neither', 'part', 'de', 'hereafter', 'first', 'that', 'upon', 'everywhere', 'always', 'both', 'all', 'forty', 'had', 'seemed', 'to', 'toward', 'hasnt', 'moreover', 'those', 'describe', 'what', 'along', 'get', 'interest', 'indeed'})\n"
     ]
    }
   ],
   "source": [
    "from sklearn.feature_extraction import text\n",
    "stopwords = text.ENGLISH_STOP_WORDS\n",
    "print(stopwords)"
   ]
  },
  {
   "cell_type": "markdown",
   "metadata": {},
   "source": [
    "We can filter out these stopwords from our document:"
   ]
  },
  {
   "cell_type": "code",
   "execution_count": 5,
   "metadata": {
    "collapsed": false
   },
   "outputs": [
    {
     "name": "stdout",
     "output_type": "stream",
     "text": [
      "['parry', 'puts', 'gerrard', 'money', 'listen', 'interview', 'sport', 'bbc', 'sport', 'website']\n"
     ]
    }
   ],
   "source": [
    "filtered_tokens1 = []\n",
    "for token in tokens1:\n",
    "    if not token in stopwords:\n",
    "        filtered_tokens1.append(token)\n",
    "print(filtered_tokens1[:10])"
   ]
  },
  {
   "cell_type": "markdown",
   "metadata": {},
   "source": [
    "We will repeat this process for all documents:"
   ]
  },
  {
   "cell_type": "code",
   "execution_count": 6,
   "metadata": {
    "collapsed": false
   },
   "outputs": [
    {
     "name": "stdout",
     "output_type": "stream",
     "text": [
      "Created 45 filtered token lists\n"
     ]
    }
   ],
   "source": [
    "all_filtered_tokens = []\n",
    "for doc in raw_documents:\n",
    "    # tokenize the next document\n",
    "    tokens = tokenize(doc.lower())\n",
    "    # remove the stopwords\n",
    "    filtered_tokens = []\n",
    "    for token in tokens:\n",
    "        if not token in stopwords:\n",
    "            filtered_tokens.append(token)  \n",
    "    # add to the overall list\n",
    "    all_filtered_tokens.append( filtered_tokens )\n",
    "print(\"Created %d filtered token lists\" % len(all_filtered_tokens) )"
   ]
  },
  {
   "cell_type": "markdown",
   "metadata": {},
   "source": [
    "### Counting Tokens"
   ]
  },
  {
   "cell_type": "markdown",
   "metadata": {},
   "source": [
    "A simple type of analysis that we might do is to count the number of times specific terms (words) appear in our corpus. We could do this by creating a dictionary of term frequency counts:"
   ]
  },
  {
   "cell_type": "code",
   "execution_count": 7,
   "metadata": {
    "collapsed": false
   },
   "outputs": [
    {
     "name": "stdout",
     "output_type": "stream",
     "text": [
      "Found 3063 unique terms in this corpus\n"
     ]
    }
   ],
   "source": [
    "counts = {}\n",
    "# process filtered tokens for each document\n",
    "for doc_tokens in all_filtered_tokens:\n",
    "    for token in doc_tokens:\n",
    "        # increment existing?\n",
    "        if token in counts:\n",
    "            counts[token] += 1\n",
    "        # a new term?\n",
    "        else:\n",
    "            counts[token] = 1\n",
    "print(\"Found %d unique terms in this corpus\" % len(counts))"
   ]
  },
  {
   "cell_type": "markdown",
   "metadata": {},
   "source": [
    "We would like to find the terms in the dictionary with the highest counts. Python provides a convenient way of doing this: "
   ]
  },
  {
   "cell_type": "code",
   "execution_count": 8,
   "metadata": {
    "collapsed": false
   },
   "outputs": [
    {
     "data": {
      "text/plain": [
       "[('yukos', 118),\n",
       " ('said', 106),\n",
       " ('oil', 97),\n",
       " ('liverpool', 83),\n",
       " ('gazprom', 60),\n",
       " ('russian', 56),\n",
       " ('win', 50),\n",
       " ('deal', 42),\n",
       " ('gerrard', 41),\n",
       " ('chelsea', 41)]"
      ]
     },
     "execution_count": 8,
     "metadata": {},
     "output_type": "execute_result"
    }
   ],
   "source": [
    "import operator\n",
    "sorted_counts = sorted(counts.items(), key=operator.itemgetter(1), reverse=True)\n",
    "sorted_counts[:10]"
   ]
  },
  {
   "cell_type": "markdown",
   "metadata": {},
   "source": [
    "The above creates a list of tuple pairs, where the first value is the key (i.e. the term) and the second value is the value (i.e the count). Let's display the top 20 terms."
   ]
  },
  {
   "cell_type": "code",
   "execution_count": 9,
   "metadata": {
    "collapsed": false
   },
   "outputs": [
    {
     "name": "stdout",
     "output_type": "stream",
     "text": [
      "yukos (count=118)\n",
      "said (count=106)\n",
      "oil (count=97)\n",
      "liverpool (count=83)\n",
      "gazprom (count=60)\n",
      "russian (count=56)\n",
      "win (count=50)\n",
      "deal (count=42)\n",
      "gerrard (count=41)\n",
      "chelsea (count=41)\n"
     ]
    }
   ],
   "source": [
    "for i in range(10):\n",
    "    term = sorted_counts[i][0]\n",
    "    count = sorted_counts[i][1]\n",
    "    print( \"%s (count=%d)\" % ( term, count )  )"
   ]
  },
  {
   "cell_type": "markdown",
   "metadata": {
    "collapsed": true
   },
   "source": [
    "### Bag-of-Words Representation"
   ]
  },
  {
   "cell_type": "markdown",
   "metadata": {
    "collapsed": true
   },
   "source": [
    "In the *bag-of-words model*, each document is represented by a vector in a *m*-dimensional coordinate space, where *m* is number of unique terms across all documents. This set of terms is called the corpus *vocabulary*. Note that the positioning (context) of terms within the original document is lost in this model.\n",
    "\n",
    "Since each document can be represented as a term vector, we can stack these vectors to create a full *document-term matrix*. We can easily create this matrix from a list of document strings using Scikit-learn:"
   ]
  },
  {
   "cell_type": "code",
   "execution_count": 10,
   "metadata": {
    "collapsed": false
   },
   "outputs": [
    {
     "name": "stdout",
     "output_type": "stream",
     "text": [
      "(45, 3288)\n"
     ]
    }
   ],
   "source": [
    "from sklearn.feature_extraction.text import CountVectorizer\n",
    "vectorizer = CountVectorizer()\n",
    "X = vectorizer.fit_transform(raw_documents)\n",
    "print(X.shape)"
   ]
  },
  {
   "cell_type": "markdown",
   "metadata": {},
   "source": [
    "This process also build a vocabulary for the corpus, both in the form of a list and in the form of a dictionary:"
   ]
  },
  {
   "cell_type": "code",
   "execution_count": 11,
   "metadata": {
    "collapsed": false
   },
   "outputs": [
    {
     "name": "stdout",
     "output_type": "stream",
     "text": [
      "Vocabulary has 3288 distinct terms\n"
     ]
    }
   ],
   "source": [
    "terms = vectorizer.get_feature_names()\n",
    "vocab = vectorizer.vocabulary_\n",
    "print(\"Vocabulary has %d distinct terms\" % len(terms))"
   ]
  },
  {
   "cell_type": "markdown",
   "metadata": {},
   "source": [
    "Display some sample terms:"
   ]
  },
  {
   "cell_type": "code",
   "execution_count": 12,
   "metadata": {
    "collapsed": false
   },
   "outputs": [
    {
     "name": "stdout",
     "output_type": "stream",
     "text": [
      "['bristol', 'british', 'broke', 'brokerage', 'brom', 'brookings', 'brought', 'bruce', 'brunswick', 'brutal', 'bryan', 'buenos', 'build', 'building', 'built', 'bulgaria', 'bulgarian', 'burgas', 'buried', 'burnley', 'burren', 'business', 'businesses', 'bust', 'busy', 'but', 'butler', 'buy', 'buyer', 'buying']\n"
     ]
    }
   ],
   "source": [
    "print(terms[500:530])"
   ]
  },
  {
   "cell_type": "markdown",
   "metadata": {},
   "source": [
    "Since each column in the document-term matrix correspond to a term, we can look up the column associated with each term using the dictionary:"
   ]
  },
  {
   "cell_type": "code",
   "execution_count": 13,
   "metadata": {
    "collapsed": false
   },
   "outputs": [
    {
     "data": {
      "text/plain": [
       "1217"
      ]
     },
     "execution_count": 13,
     "metadata": {},
     "output_type": "execute_result"
    }
   ],
   "source": [
    "# what column is the term 'football' on?\n",
    "vocab[\"football\"]"
   ]
  },
  {
   "cell_type": "code",
   "execution_count": 14,
   "metadata": {
    "collapsed": false
   },
   "outputs": [
    {
     "data": {
      "text/plain": [
       "3246"
      ]
     },
     "execution_count": 14,
     "metadata": {},
     "output_type": "execute_result"
    }
   ],
   "source": [
    "# what column is the term 'world' on?\n",
    "vocab[\"world\"]"
   ]
  },
  {
   "cell_type": "markdown",
   "metadata": {},
   "source": [
    "We can use the same Scikit-learn functionality to create a document-term matrix with N-grams. We specify an extra parameter ngram_range which specifies the shortest and longest token sequences to include. Length 1 is just a single token.\n",
    "\n",
    "For instance, transform our input documents into a matrix, extracting single tokens and bigrams:"
   ]
  },
  {
   "cell_type": "code",
   "execution_count": 15,
   "metadata": {
    "collapsed": true
   },
   "outputs": [],
   "source": [
    "from sklearn.feature_extraction.text import CountVectorizer\n",
    "vectorizer = CountVectorizer(ngram_range = (1,2))\n",
    "X = vectorizer.fit_transform(raw_documents)"
   ]
  },
  {
   "cell_type": "markdown",
   "metadata": {},
   "source": [
    "Note the vocabulary is much larger now:"
   ]
  },
  {
   "cell_type": "code",
   "execution_count": 16,
   "metadata": {
    "collapsed": false
   },
   "outputs": [
    {
     "name": "stdout",
     "output_type": "stream",
     "text": [
      "Vocabulary has 16075 distinct terms\n"
     ]
    }
   ],
   "source": [
    "terms = vectorizer.get_feature_names()\n",
    "vocab = vectorizer.vocabulary_\n",
    "print(\"Vocabulary has %d distinct terms\" % len(terms))"
   ]
  },
  {
   "cell_type": "markdown",
   "metadata": {},
   "source": [
    "Display some sample terms. Note that we see a mix of single tokens and bigrams (i.e. phrases of length 2):"
   ]
  },
  {
   "cell_type": "code",
   "execution_count": 17,
   "metadata": {
    "collapsed": false
   },
   "outputs": [
    {
     "name": "stdout",
     "output_type": "stream",
     "text": [
      "['admitted victory', 'adriatic', 'adriatic coast', 'advanced', 'advanced position', 'advantage', 'advantage and', 'advantage of', 'adverts', 'adverts for']\n"
     ]
    }
   ],
   "source": [
    "print(terms[510:520])"
   ]
  },
  {
   "cell_type": "markdown",
   "metadata": {
    "collapsed": true
   },
   "source": [
    "### Text Preprocessing"
   ]
  },
  {
   "cell_type": "markdown",
   "metadata": {
    "collapsed": true
   },
   "source": [
    "A range of steps can be used to process text input files to reduce the number of terms used to represent the text and to improve the resulting bag-of-words model. These include:\n",
    "- Minimum term length: Exclude terms of length < 2. Scikit-learn does this by default.\n",
    "- Case conversion: Converting all terms to lowercase. Scikit-learn does this by default.\n",
    "- Stop-word filtering: Remove terms that appear on a pre-defined \"blacklist\" of terms that are highly frequent and do- not convey useful information.\n",
    "- Low frequency filtering: Remove terms that appear in very few documents.\n",
    "- Stemming: Reduce words to their stems (or base forms).\n",
    "\n",
    "Scikit-learn allows us to perform one or more of these steps by adapting the CountVectorizer."
   ]
  },
  {
   "cell_type": "markdown",
   "metadata": {},
   "source": [
    "We can use the built-in list of stop-words for a given language by just specifying the name of the language (lower-case):"
   ]
  },
  {
   "cell_type": "code",
   "execution_count": 18,
   "metadata": {
    "collapsed": false
   },
   "outputs": [
    {
     "data": {
      "text/plain": [
       "False"
      ]
     },
     "execution_count": 18,
     "metadata": {},
     "output_type": "execute_result"
    }
   ],
   "source": [
    "vectorizer = CountVectorizer(stop_words=\"english\")\n",
    "X = vectorizer.fit_transform(raw_documents)\n",
    "# Are standard stopwords gone?\n",
    "\"and\" in vectorizer.vocabulary_"
   ]
  },
  {
   "cell_type": "markdown",
   "metadata": {},
   "source": [
    "Or we could use our own custom stop-word list, which might be more appropriate for specific applications:"
   ]
  },
  {
   "cell_type": "code",
   "execution_count": 19,
   "metadata": {
    "collapsed": false
   },
   "outputs": [
    {
     "data": {
      "text/plain": [
       "False"
      ]
     },
     "execution_count": 19,
     "metadata": {},
     "output_type": "execute_result"
    }
   ],
   "source": [
    "custom_stop_words = [ \"and\", \"the\", \"game\" ] \n",
    "vectorizer = CountVectorizer(stop_words=custom_stop_words)\n",
    "X = vectorizer.fit_transform(raw_documents)\n",
    "# Are custom stopwords gone?\n",
    "\"game\" in vectorizer.vocabulary_"
   ]
  },
  {
   "cell_type": "markdown",
   "metadata": {},
   "source": [
    "We can remove low frequency terms that appear in fewer than a specified number of documents:"
   ]
  },
  {
   "cell_type": "code",
   "execution_count": 20,
   "metadata": {
    "collapsed": false
   },
   "outputs": [
    {
     "name": "stdout",
     "output_type": "stream",
     "text": [
      "Number of terms in model is 3288\n"
     ]
    }
   ],
   "source": [
    "# how many terms did we have with the last approach?\n",
    "vectorizer = CountVectorizer()\n",
    "X = vectorizer.fit_transform(raw_documents)\n",
    "print(\"Number of terms in model is %d\" % len(vectorizer.vocabulary_) )"
   ]
  },
  {
   "cell_type": "code",
   "execution_count": 21,
   "metadata": {
    "collapsed": false
   },
   "outputs": [
    {
     "name": "stdout",
     "output_type": "stream",
     "text": [
      "Number of terms in model is 473\n"
     ]
    }
   ],
   "source": [
    "# build another matrix, but filter terms appearing in less than 5 documents\n",
    "vectorizer = CountVectorizer(min_df = 5)\n",
    "X = vectorizer.fit_transform(raw_documents)\n",
    "print(\"Number of terms in model is %d\" % len(vectorizer.vocabulary_) )"
   ]
  },
  {
   "cell_type": "markdown",
   "metadata": {},
   "source": [
    "To stem tokens to their base form, we need to use functionality from another third party library: **NLTK**. You may need to install this package manually, either through the Conda interface or via the Conda command line tool, using:\n",
    "    \n",
    "    conda install nltk"
   ]
  },
  {
   "cell_type": "markdown",
   "metadata": {},
   "source": [
    "We can test out the standard English stemming algorithm (called the Porter Stemmer):"
   ]
  },
  {
   "cell_type": "code",
   "execution_count": 22,
   "metadata": {
    "collapsed": false
   },
   "outputs": [
    {
     "name": "stdout",
     "output_type": "stream",
     "text": [
      "plot\n",
      "fli\n",
      "deni\n",
      "sale\n",
      "sea\n",
      "comput\n",
      "comput\n"
     ]
    }
   ],
   "source": [
    "# import the standard English stemming algorithm\n",
    "from nltk.stem.porter import PorterStemmer\n",
    "words = ['plotted', 'flies', 'denied', 'sales', 'seas', 'computing', 'computed']\n",
    "# try stemming each sample word\n",
    "stemmer = PorterStemmer()\n",
    "for w in words:\n",
    "    print( stemmer.stem(w) )"
   ]
  },
  {
   "cell_type": "markdown",
   "metadata": {},
   "source": [
    "To use NLTK stemming with Scikit-learn, we need to create a custom tokenisation function:"
   ]
  },
  {
   "cell_type": "code",
   "execution_count": 23,
   "metadata": {
    "collapsed": true
   },
   "outputs": [],
   "source": [
    "import nltk\n",
    "# define the function\n",
    "def stem_tokenizer(text):\n",
    "    # use the standard scikit-learn tokenizer first\n",
    "    standard_tokenizer = CountVectorizer().build_tokenizer()\n",
    "    tokens = standard_tokenizer(text)\n",
    "    # then use NLTK to perform stemming on each token\n",
    "    stemmer = PorterStemmer()\n",
    "    stems = []\n",
    "    for token in tokens:\n",
    "        stems.append( stemmer.stem(token) )\n",
    "    return stems"
   ]
  },
  {
   "cell_type": "markdown",
   "metadata": {},
   "source": [
    "Now we can use our custom tokenizer with the standard CountVectorizer approach:"
   ]
  },
  {
   "cell_type": "code",
   "execution_count": 24,
   "metadata": {
    "collapsed": false
   },
   "outputs": [
    {
     "name": "stdout",
     "output_type": "stream",
     "text": [
      "['alex', 'alexand', 'alexei', 'all', 'alleg', 'allen', 'allow', 'almost', 'alon', 'along', 'alongsid', 'alonso', 'alreadi', 'also', 'altern', 'although', 'alvalad', 'alway', 'am', 'ambit']\n"
     ]
    }
   ],
   "source": [
    "vectorizer = CountVectorizer(tokenizer=stem_tokenizer)\n",
    "X = vectorizer.fit_transform(raw_documents)\n",
    "# display some sample terms\n",
    "terms = vectorizer.get_feature_names()\n",
    "print(terms[200:220])"
   ]
  },
  {
   "cell_type": "markdown",
   "metadata": {},
   "source": [
    "We can perform lemmatisation in the same way, using NLTK with Sckit-learn:"
   ]
  },
  {
   "cell_type": "code",
   "execution_count": 25,
   "metadata": {
    "collapsed": true
   },
   "outputs": [],
   "source": [
    "# define the function\n",
    "def lemma_tokenizer(text):\n",
    "    # use the standard scikit-learn tokenizer first\n",
    "    standard_tokenizer = CountVectorizer().build_tokenizer()\n",
    "    tokens = standard_tokenizer(text)\n",
    "    # then use NLTK to perform lemmatisation on each token\n",
    "    lemmatizer = nltk.stem.WordNetLemmatizer()\n",
    "    lemma_tokens = []\n",
    "    for token in tokens:\n",
    "        lemma_tokens.append( lemmatizer.lemmatize(token) )\n",
    "    return lemma_tokens"
   ]
  },
  {
   "cell_type": "markdown",
   "metadata": {},
   "source": [
    "Again we can use our custom tokenizer with the standard CountVectorizer approach. The output terms are somewhat easier to intrepret than those produced by stemming:"
   ]
  },
  {
   "cell_type": "code",
   "execution_count": 26,
   "metadata": {
    "collapsed": false
   },
   "outputs": [
    {
     "name": "stdout",
     "output_type": "stream",
     "text": [
      "['parry', 'put', 'gerrard', 'above', 'money', 'listen', 'to', 'the', 'full', 'interview', 'on', 'sport', 'five', 'and', 'bbc', 'website', 'from', '1900', 'gmt', 'but', 'speaking', 'exclusively', 'also', 'admits', 'who', 'ha', 'been', 'constantly', 'linked', 'with', 'chelsea', 'will', 'have', 'final', 'say']\n"
     ]
    }
   ],
   "source": [
    "vectorizer = CountVectorizer(tokenizer=lemma_tokenizer)\n",
    "X = vectorizer.fit_transform(raw_documents)\n",
    "# display some sample terms\n",
    "print(list(vectorizer.vocabulary_.keys())[0:35])"
   ]
  },
  {
   "cell_type": "markdown",
   "metadata": {},
   "source": [
    "Let's put all of these steps together:"
   ]
  },
  {
   "cell_type": "code",
   "execution_count": 27,
   "metadata": {
    "collapsed": false
   },
   "outputs": [
    {
     "name": "stdout",
     "output_type": "stream",
     "text": [
      "(45, 682)\n"
     ]
    }
   ],
   "source": [
    "vectorizer = CountVectorizer(stop_words=\"english\",min_df = 3,tokenizer=lemma_tokenizer)\n",
    "X = vectorizer.fit_transform(raw_documents)\n",
    "print(X.shape)"
   ]
  },
  {
   "cell_type": "code",
   "execution_count": 28,
   "metadata": {
    "collapsed": false
   },
   "outputs": [
    {
     "name": "stdout",
     "output_type": "stream",
     "text": [
      "['gerrard', 'money', 'bbc', 'gmt', 'speaking', 'ha', 'linked', 'chelsea', 'final', 'say', 'future', 'told', 'live', 'steven', 'liverpool', 'doesn', 'matter', 'offer', 'know', 'finance', 'revealed', 'club', 'ready', 'deal', 'new', 'stadium', 'alan', 'insisted', 'talk', 'investment', 'added', 'closed', 'shareholder', 'fan', 'steve']\n"
     ]
    }
   ],
   "source": [
    "print(list(vectorizer.vocabulary_.keys())[0:35])"
   ]
  },
  {
   "cell_type": "markdown",
   "metadata": {},
   "source": [
    "### Term Weighting"
   ]
  },
  {
   "cell_type": "markdown",
   "metadata": {},
   "source": [
    "As well as including/excluding terms, we can also modify or weight the frequency values themselves. We can improve the usefulness of the document-term matrix by giving more weight to the more \"important\" terms.\n",
    "\n",
    "The most common normalisation is *term frequency–inverse document frequency* (TF-IDF). In Scikit-learn, we can generate at TF-IDF weighted document-term matrix by using TfidfVectorizer() in place of CountVectorizer()."
   ]
  },
  {
   "cell_type": "code",
   "execution_count": 29,
   "metadata": {
    "collapsed": false
   },
   "outputs": [
    {
     "name": "stdout",
     "output_type": "stream",
     "text": [
      "  (10, 0)\t0.0582057480172\n",
      "  (12, 0)\t0.0336907501513\n",
      "  (13, 0)\t0.0403748121934\n",
      "  (22, 0)\t0.0839611600134\n",
      "  (29, 0)\t0.0381373940531\n",
      "  (32, 0)\t0.0433099777192\n",
      "  (34, 0)\t0.0450496081093\n",
      "  (36, 0)\t0.0439691570158\n",
      "  (38, 0)\t0.0578293500549\n",
      "  (39, 0)\t0.0504965603436\n",
      "  (41, 0)\t0.0368411589197\n",
      "  (43, 0)\t0.0384111099064\n"
     ]
    }
   ],
   "source": [
    "from sklearn.feature_extraction.text import TfidfVectorizer\n",
    "# we can pass in the same preprocessing parameters\n",
    "vectorizer = TfidfVectorizer(stop_words=\"english\",min_df = 5)\n",
    "X = vectorizer.fit_transform(raw_documents)\n",
    "# display some sample weighted values\n",
    "print(X[:,0])"
   ]
  },
  {
   "cell_type": "markdown",
   "metadata": {},
   "source": [
    "### Measuring Similarity"
   ]
  },
  {
   "cell_type": "markdown",
   "metadata": {},
   "source": [
    "*Cosine similarity*: Most common approach for measuring similarity between two documents in a bag-of-words representation is to look at the cosine of the angle between their corresponding two term vectors. The motivation is that vectors for documents containing similar terms will point in the same direction in the m-dimensional vector space."
   ]
  },
  {
   "cell_type": "markdown",
   "metadata": {},
   "source": [
    "As an example, let's find the most similar document to the first document in our collection."
   ]
  },
  {
   "cell_type": "code",
   "execution_count": 30,
   "metadata": {
    "collapsed": false
   },
   "outputs": [
    {
     "name": "stdout",
     "output_type": "stream",
     "text": [
      "Parry puts Gerrard 'above money' Listen to the full interview on Sport on Five and the BBC Sport website from 1900 GMT. But Parry, speaking exclusively to BBC Sport, also admits Gerrard, who has been constantly linked with Chelsea, will have the final say on his future. He told BBC Five Live: \"Steve\n"
     ]
    }
   ],
   "source": [
    "# First document - just display the start of it\n",
    "print(raw_documents[0][0:300])"
   ]
  },
  {
   "cell_type": "code",
   "execution_count": 31,
   "metadata": {
    "collapsed": true
   },
   "outputs": [],
   "source": [
    "from sklearn.metrics.pairwise import cosine_similarity\n",
    "# Measure the cosine similarity between the first document vector and all of the others\n",
    "max_cos = 0\n",
    "best_row = 0\n",
    "for row in range(1,X.shape[0]):\n",
    "    cos = cosine_similarity( X[0], X[row] )\n",
    "    # best so far?\n",
    "    if cos > max_cos:\n",
    "        max_cos = cos\n",
    "        best_row = row"
   ]
  },
  {
   "cell_type": "code",
   "execution_count": 32,
   "metadata": {
    "collapsed": false
   },
   "outputs": [
    {
     "name": "stdout",
     "output_type": "stream",
     "text": [
      "Most similar document was row 16: cosine similarity = 0.550\n"
     ]
    }
   ],
   "source": [
    "print(\"Most similar document was row %d: cosine similarity = %.3f\" % ( best_row, max_cos ) )"
   ]
  },
  {
   "cell_type": "code",
   "execution_count": 33,
   "metadata": {
    "collapsed": false
   },
   "outputs": [
    {
     "name": "stdout",
     "output_type": "stream",
     "text": [
      "Liverpool pledge to keep Gerrard Liverpool chief executive Rick Parry insists the club will never sell Steven Gerrard amid reports Chelsea will renew their bid to lure him from Anfield. Gerrard reiterated his desire to win trophies with the Reds after his superb Champions League winner on Wednesday.\n"
     ]
    }
   ],
   "source": [
    "# Best document - just display the start of it\n",
    "print(raw_documents[best_row][0:300])"
   ]
  }
 ],
 "metadata": {
  "kernelspec": {
   "display_name": "Python 3",
   "language": "python",
   "name": "python3"
  },
  "language_info": {
   "codemirror_mode": {
    "name": "ipython",
    "version": 3
   },
   "file_extension": ".py",
   "mimetype": "text/x-python",
   "name": "python",
   "nbconvert_exporter": "python",
   "pygments_lexer": "ipython3",
   "version": "3.6.0"
  }
 },
 "nbformat": 4,
 "nbformat_minor": 1
}
